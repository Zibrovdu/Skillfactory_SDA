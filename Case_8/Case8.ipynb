{
 "cells": [
  {
   "cell_type": "markdown",
   "metadata": {},
   "source": [
    "## Формулируем цели"
   ]
  },
  {
   "cell_type": "markdown",
   "metadata": {},
   "source": [
    " Нам предстоит проверить следущие предположения:\n",
    "\n",
    "   1. Зависит ли вероятность оплаты от выбранного пользователем уровня сложности бесплатных тренировок?\n",
    "   2. Существует ли разница во времени между пользователями с разным уровнем сложности и их первой оплатой?\n",
    "   3. Дополнительно можно проверить, существует ли разница во времени между событиями регистрации и оплаты.\n",
    "\n",
    " Проверку будем проводить на основе данных пользователей, которые зарегистрировались в 2017 году (с 1 января по 31 декабря 2017 года включительно)."
   ]
  },
  {
   "cell_type": "markdown",
   "metadata": {},
   "source": [
    "### 1. Импортируем библиотеки и получим данные из базы данных"
   ]
  },
  {
   "cell_type": "code",
   "execution_count": 1,
   "metadata": {},
   "outputs": [],
   "source": [
    "# Импортируем библиотеки, которые нам потребуются\n",
    "import pandas as pd"
   ]
  },
  {
   "cell_type": "code",
   "execution_count": 2,
   "metadata": {},
   "outputs": [],
   "source": [
    "# Наши данные хранятся в файлах events.csv и purchase.csv которые были предварительно выгружены из БД.\n",
    "# Загрузим файл events.csv, содержащий данные по событиям пользователей в датафрейм events_df\n",
    "events_df = pd.read_csv('events.csv')\n",
    "# А файл purchase.csv, содержащий данные по оплатам пользователей - в датафрейм purchase_df\n",
    "purchase_df = pd.read_csv('purchase.csv')"
   ]
  },
  {
   "cell_type": "markdown",
   "metadata": {},
   "source": [
    "### 2. Исследуем датафреймы."
   ]
  },
  {
   "cell_type": "code",
   "execution_count": 3,
   "metadata": {},
   "outputs": [
    {
     "data": {
      "text/html": [
       "<div>\n",
       "<style scoped>\n",
       "    .dataframe tbody tr th:only-of-type {\n",
       "        vertical-align: middle;\n",
       "    }\n",
       "\n",
       "    .dataframe tbody tr th {\n",
       "        vertical-align: top;\n",
       "    }\n",
       "\n",
       "    .dataframe thead th {\n",
       "        text-align: right;\n",
       "    }\n",
       "</style>\n",
       "<table border=\"1\" class=\"dataframe\">\n",
       "  <thead>\n",
       "    <tr style=\"text-align: right;\">\n",
       "      <th></th>\n",
       "      <th>event_type</th>\n",
       "      <th>selected_level</th>\n",
       "      <th>start_time</th>\n",
       "      <th>tutorial_id</th>\n",
       "      <th>user_id</th>\n",
       "      <th>id</th>\n",
       "    </tr>\n",
       "  </thead>\n",
       "  <tbody>\n",
       "    <tr>\n",
       "      <th>0</th>\n",
       "      <td>registration</td>\n",
       "      <td>NaN</td>\n",
       "      <td>2017-01-01 03:48:40</td>\n",
       "      <td>NaN</td>\n",
       "      <td>27832</td>\n",
       "      <td>80308</td>\n",
       "    </tr>\n",
       "    <tr>\n",
       "      <th>1</th>\n",
       "      <td>registration</td>\n",
       "      <td>NaN</td>\n",
       "      <td>2017-01-01 04:07:25</td>\n",
       "      <td>NaN</td>\n",
       "      <td>27833</td>\n",
       "      <td>80309</td>\n",
       "    </tr>\n",
       "    <tr>\n",
       "      <th>2</th>\n",
       "      <td>registration</td>\n",
       "      <td>NaN</td>\n",
       "      <td>2017-01-01 08:35:10</td>\n",
       "      <td>NaN</td>\n",
       "      <td>27834</td>\n",
       "      <td>80310</td>\n",
       "    </tr>\n",
       "    <tr>\n",
       "      <th>3</th>\n",
       "      <td>registration</td>\n",
       "      <td>NaN</td>\n",
       "      <td>2017-01-01 11:54:47</td>\n",
       "      <td>NaN</td>\n",
       "      <td>27835</td>\n",
       "      <td>80311</td>\n",
       "    </tr>\n",
       "    <tr>\n",
       "      <th>4</th>\n",
       "      <td>registration</td>\n",
       "      <td>NaN</td>\n",
       "      <td>2017-01-01 13:28:07</td>\n",
       "      <td>NaN</td>\n",
       "      <td>27836</td>\n",
       "      <td>80312</td>\n",
       "    </tr>\n",
       "  </tbody>\n",
       "</table>\n",
       "</div>"
      ],
      "text/plain": [
       "     event_type selected_level           start_time  tutorial_id  user_id  \\\n",
       "0  registration            NaN  2017-01-01 03:48:40          NaN    27832   \n",
       "1  registration            NaN  2017-01-01 04:07:25          NaN    27833   \n",
       "2  registration            NaN  2017-01-01 08:35:10          NaN    27834   \n",
       "3  registration            NaN  2017-01-01 11:54:47          NaN    27835   \n",
       "4  registration            NaN  2017-01-01 13:28:07          NaN    27836   \n",
       "\n",
       "      id  \n",
       "0  80308  \n",
       "1  80309  \n",
       "2  80310  \n",
       "3  80311  \n",
       "4  80312  "
      ]
     },
     "execution_count": 3,
     "metadata": {},
     "output_type": "execute_result"
    }
   ],
   "source": [
    "# Выведем первые 5 строк фрейма, содержащего данные о действиях пользователей.    \n",
    "events_df.head(5)"
   ]
  },
  {
   "cell_type": "code",
   "execution_count": 4,
   "metadata": {},
   "outputs": [
    {
     "name": "stdout",
     "output_type": "stream",
     "text": [
      "<class 'pandas.core.frame.DataFrame'>\n",
      "RangeIndex: 66929 entries, 0 to 66928\n",
      "Data columns (total 6 columns):\n",
      " #   Column          Non-Null Count  Dtype  \n",
      "---  ------          --------------  -----  \n",
      " 0   event_type      66929 non-null  object \n",
      " 1   selected_level  8338 non-null   object \n",
      " 2   start_time      66929 non-null  object \n",
      " 3   tutorial_id     32942 non-null  float64\n",
      " 4   user_id         66929 non-null  int64  \n",
      " 5   id              66929 non-null  int64  \n",
      "dtypes: float64(1), int64(2), object(3)\n",
      "memory usage: 3.1+ MB\n"
     ]
    }
   ],
   "source": [
    "# Посмотрим на наши данные.  Как мы видим датафрейм состоит из 6 столбцов в котором 66929 строк\n",
    "# В столбцах selected_level и tutorial_id содержатся пропущенные значения. Это связано с тем что не все из указанных \n",
    "# параметров обязательно присутствуют в каждом событии. \n",
    "events_df.info()"
   ]
  },
  {
   "cell_type": "code",
   "execution_count": 5,
   "metadata": {},
   "outputs": [
    {
     "name": "stdout",
     "output_type": "stream",
     "text": [
      "<class 'pandas.core.frame.DataFrame'>\n",
      "RangeIndex: 66929 entries, 0 to 66928\n",
      "Data columns (total 6 columns):\n",
      " #   Column          Non-Null Count  Dtype         \n",
      "---  ------          --------------  -----         \n",
      " 0   event_type      66929 non-null  object        \n",
      " 1   selected_level  8338 non-null   object        \n",
      " 2   start_time      66929 non-null  datetime64[ns]\n",
      " 3   tutorial_id     32942 non-null  float64       \n",
      " 4   user_id         66929 non-null  int64         \n",
      " 5   id              66929 non-null  int64         \n",
      "dtypes: datetime64[ns](1), float64(1), int64(2), object(2)\n",
      "memory usage: 3.1+ MB\n"
     ]
    }
   ],
   "source": [
    "# Преобразуем столбец \"start_time\" в тип datetime с помощью метода pd.to_datetime():\n",
    "events_df['start_time'] = pd.to_datetime(events_df['start_time'])\n",
    "events_df.info()"
   ]
  },
  {
   "cell_type": "code",
   "execution_count": 6,
   "metadata": {},
   "outputs": [
    {
     "name": "stdout",
     "output_type": "stream",
     "text": [
      "<class 'pandas.core.frame.DataFrame'>\n",
      "Int64Index: 8338 entries, 19 to 66927\n",
      "Data columns (total 6 columns):\n",
      " #   Column          Non-Null Count  Dtype         \n",
      "---  ------          --------------  -----         \n",
      " 0   event_type      8338 non-null   object        \n",
      " 1   selected_level  8338 non-null   object        \n",
      " 2   start_time      8338 non-null   datetime64[ns]\n",
      " 3   tutorial_id     0 non-null      float64       \n",
      " 4   user_id         8338 non-null   int64         \n",
      " 5   id              8338 non-null   int64         \n",
      "dtypes: datetime64[ns](1), float64(1), int64(2), object(2)\n",
      "memory usage: 456.0+ KB\n"
     ]
    }
   ],
   "source": [
    "# Сделаем срез датафрейма по событию 'level_choice'. Как видно, теперь пропущенные значения содержатся только в столбце tutorial_id.\n",
    "# Это связано с тем, что для события 'level_choice' не предусмотрена запись параметра 'tutorial_id'\n",
    "events_df[events_df['event_type'] == 'level_choice'].info() "
   ]
  },
  {
   "cell_type": "code",
   "execution_count": 7,
   "metadata": {},
   "outputs": [
    {
     "data": {
      "text/html": [
       "<div>\n",
       "<style scoped>\n",
       "    .dataframe tbody tr th:only-of-type {\n",
       "        vertical-align: middle;\n",
       "    }\n",
       "\n",
       "    .dataframe tbody tr th {\n",
       "        vertical-align: top;\n",
       "    }\n",
       "\n",
       "    .dataframe thead th {\n",
       "        text-align: right;\n",
       "    }\n",
       "</style>\n",
       "<table border=\"1\" class=\"dataframe\">\n",
       "  <thead>\n",
       "    <tr style=\"text-align: right;\">\n",
       "      <th></th>\n",
       "      <th>event_type</th>\n",
       "      <th>selected_level</th>\n",
       "      <th>start_time</th>\n",
       "      <th>tutorial_id</th>\n",
       "      <th>user_id</th>\n",
       "      <th>id</th>\n",
       "    </tr>\n",
       "  </thead>\n",
       "  <tbody>\n",
       "    <tr>\n",
       "      <th>count</th>\n",
       "      <td>66929</td>\n",
       "      <td>8338</td>\n",
       "      <td>66929</td>\n",
       "      <td>32942.000000</td>\n",
       "      <td>66929.000000</td>\n",
       "      <td>66929.000000</td>\n",
       "    </tr>\n",
       "    <tr>\n",
       "      <th>unique</th>\n",
       "      <td>5</td>\n",
       "      <td>3</td>\n",
       "      <td>66779</td>\n",
       "      <td>NaN</td>\n",
       "      <td>NaN</td>\n",
       "      <td>NaN</td>\n",
       "    </tr>\n",
       "    <tr>\n",
       "      <th>top</th>\n",
       "      <td>registration</td>\n",
       "      <td>medium</td>\n",
       "      <td>2017-03-13 09:37:43</td>\n",
       "      <td>NaN</td>\n",
       "      <td>NaN</td>\n",
       "      <td>NaN</td>\n",
       "    </tr>\n",
       "    <tr>\n",
       "      <th>freq</th>\n",
       "      <td>19914</td>\n",
       "      <td>4642</td>\n",
       "      <td>9</td>\n",
       "      <td>NaN</td>\n",
       "      <td>NaN</td>\n",
       "      <td>NaN</td>\n",
       "    </tr>\n",
       "    <tr>\n",
       "      <th>first</th>\n",
       "      <td>NaN</td>\n",
       "      <td>NaN</td>\n",
       "      <td>2017-01-01 03:48:40</td>\n",
       "      <td>NaN</td>\n",
       "      <td>NaN</td>\n",
       "      <td>NaN</td>\n",
       "    </tr>\n",
       "    <tr>\n",
       "      <th>last</th>\n",
       "      <td>NaN</td>\n",
       "      <td>NaN</td>\n",
       "      <td>2017-12-31 10:05:18</td>\n",
       "      <td>NaN</td>\n",
       "      <td>NaN</td>\n",
       "      <td>NaN</td>\n",
       "    </tr>\n",
       "    <tr>\n",
       "      <th>mean</th>\n",
       "      <td>NaN</td>\n",
       "      <td>NaN</td>\n",
       "      <td>NaN</td>\n",
       "      <td>40529.649323</td>\n",
       "      <td>37777.074273</td>\n",
       "      <td>113772.001016</td>\n",
       "    </tr>\n",
       "    <tr>\n",
       "      <th>std</th>\n",
       "      <td>NaN</td>\n",
       "      <td>NaN</td>\n",
       "      <td>NaN</td>\n",
       "      <td>5211.593585</td>\n",
       "      <td>5748.910912</td>\n",
       "      <td>19320.884180</td>\n",
       "    </tr>\n",
       "    <tr>\n",
       "      <th>min</th>\n",
       "      <td>NaN</td>\n",
       "      <td>NaN</td>\n",
       "      <td>NaN</td>\n",
       "      <td>31505.000000</td>\n",
       "      <td>27832.000000</td>\n",
       "      <td>80308.000000</td>\n",
       "    </tr>\n",
       "    <tr>\n",
       "      <th>25%</th>\n",
       "      <td>NaN</td>\n",
       "      <td>NaN</td>\n",
       "      <td>NaN</td>\n",
       "      <td>36007.000000</td>\n",
       "      <td>32847.000000</td>\n",
       "      <td>97040.000000</td>\n",
       "    </tr>\n",
       "    <tr>\n",
       "      <th>50%</th>\n",
       "      <td>NaN</td>\n",
       "      <td>NaN</td>\n",
       "      <td>NaN</td>\n",
       "      <td>40526.500000</td>\n",
       "      <td>37712.000000</td>\n",
       "      <td>113772.000000</td>\n",
       "    </tr>\n",
       "    <tr>\n",
       "      <th>75%</th>\n",
       "      <td>NaN</td>\n",
       "      <td>NaN</td>\n",
       "      <td>NaN</td>\n",
       "      <td>45052.000000</td>\n",
       "      <td>42722.000000</td>\n",
       "      <td>130504.000000</td>\n",
       "    </tr>\n",
       "    <tr>\n",
       "      <th>max</th>\n",
       "      <td>NaN</td>\n",
       "      <td>NaN</td>\n",
       "      <td>NaN</td>\n",
       "      <td>49549.000000</td>\n",
       "      <td>47745.000000</td>\n",
       "      <td>147241.000000</td>\n",
       "    </tr>\n",
       "  </tbody>\n",
       "</table>\n",
       "</div>"
      ],
      "text/plain": [
       "          event_type selected_level           start_time   tutorial_id  \\\n",
       "count          66929           8338                66929  32942.000000   \n",
       "unique             5              3                66779           NaN   \n",
       "top     registration         medium  2017-03-13 09:37:43           NaN   \n",
       "freq           19914           4642                    9           NaN   \n",
       "first            NaN            NaN  2017-01-01 03:48:40           NaN   \n",
       "last             NaN            NaN  2017-12-31 10:05:18           NaN   \n",
       "mean             NaN            NaN                  NaN  40529.649323   \n",
       "std              NaN            NaN                  NaN   5211.593585   \n",
       "min              NaN            NaN                  NaN  31505.000000   \n",
       "25%              NaN            NaN                  NaN  36007.000000   \n",
       "50%              NaN            NaN                  NaN  40526.500000   \n",
       "75%              NaN            NaN                  NaN  45052.000000   \n",
       "max              NaN            NaN                  NaN  49549.000000   \n",
       "\n",
       "             user_id             id  \n",
       "count   66929.000000   66929.000000  \n",
       "unique           NaN            NaN  \n",
       "top              NaN            NaN  \n",
       "freq             NaN            NaN  \n",
       "first            NaN            NaN  \n",
       "last             NaN            NaN  \n",
       "mean    37777.074273  113772.001016  \n",
       "std      5748.910912   19320.884180  \n",
       "min     27832.000000   80308.000000  \n",
       "25%     32847.000000   97040.000000  \n",
       "50%     37712.000000  113772.000000  \n",
       "75%     42722.000000  130504.000000  \n",
       "max     47745.000000  147241.000000  "
      ]
     },
     "execution_count": 7,
     "metadata": {},
     "output_type": "execute_result"
    }
   ],
   "source": [
    "# Для оценки значений в столбцах используем метод describe. \n",
    "# Запустим его с параметром include='all' чтобы вывести информацию по всем столбцам.\n",
    "events_df.describe(include='all')"
   ]
  },
  {
   "cell_type": "code",
   "execution_count": 8,
   "metadata": {},
   "outputs": [
    {
     "data": {
      "text/plain": [
       "array(['registration', 'tutorial_start', 'tutorial_finish',\n",
       "       'level_choice', 'training_choice'], dtype=object)"
      ]
     },
     "execution_count": 8,
     "metadata": {},
     "output_type": "execute_result"
    }
   ],
   "source": [
    "# Посмотрим какие уникальные значения содержатся в столбце event_type. Это пригодится в дальнейшем для формирования нужных датафреймов\n",
    "events_df['event_type'].unique()"
   ]
  },
  {
   "cell_type": "code",
   "execution_count": 9,
   "metadata": {},
   "outputs": [
    {
     "data": {
      "text/plain": [
       "array([nan, 'medium', 'hard', 'easy'], dtype=object)"
      ]
     },
     "execution_count": 9,
     "metadata": {},
     "output_type": "execute_result"
    }
   ],
   "source": [
    "# Также посмотрим какие уникальные значения имеются в столбце выбора тренировок\n",
    "events_df['selected_level'].unique()"
   ]
  },
  {
   "cell_type": "code",
   "execution_count": 10,
   "metadata": {},
   "outputs": [
    {
     "data": {
      "text/plain": [
       "19914"
      ]
     },
     "execution_count": 10,
     "metadata": {},
     "output_type": "execute_result"
    }
   ],
   "source": [
    "# Узнаем, какое количество уникальных пользователей в нашем датасете\n",
    "events_df['user_id'].nunique()"
   ]
  },
  {
   "cell_type": "code",
   "execution_count": 11,
   "metadata": {},
   "outputs": [
    {
     "data": {
      "text/html": [
       "<div>\n",
       "<style scoped>\n",
       "    .dataframe tbody tr th:only-of-type {\n",
       "        vertical-align: middle;\n",
       "    }\n",
       "\n",
       "    .dataframe tbody tr th {\n",
       "        vertical-align: top;\n",
       "    }\n",
       "\n",
       "    .dataframe thead th {\n",
       "        text-align: right;\n",
       "    }\n",
       "</style>\n",
       "<table border=\"1\" class=\"dataframe\">\n",
       "  <thead>\n",
       "    <tr style=\"text-align: right;\">\n",
       "      <th></th>\n",
       "      <th>user_id</th>\n",
       "      <th>start_time</th>\n",
       "      <th>amount</th>\n",
       "      <th>id</th>\n",
       "    </tr>\n",
       "  </thead>\n",
       "  <tbody>\n",
       "    <tr>\n",
       "      <th>0</th>\n",
       "      <td>37878</td>\n",
       "      <td>2017-06-30 17:05:21</td>\n",
       "      <td>150</td>\n",
       "      <td>17668</td>\n",
       "    </tr>\n",
       "    <tr>\n",
       "      <th>1</th>\n",
       "      <td>47216</td>\n",
       "      <td>2017-12-22 06:30:31</td>\n",
       "      <td>25</td>\n",
       "      <td>18396</td>\n",
       "    </tr>\n",
       "    <tr>\n",
       "      <th>2</th>\n",
       "      <td>35532</td>\n",
       "      <td>2017-05-21 04:23:32</td>\n",
       "      <td>150</td>\n",
       "      <td>17475</td>\n",
       "    </tr>\n",
       "    <tr>\n",
       "      <th>3</th>\n",
       "      <td>42583</td>\n",
       "      <td>2017-10-17 13:52:14</td>\n",
       "      <td>100</td>\n",
       "      <td>18027</td>\n",
       "    </tr>\n",
       "    <tr>\n",
       "      <th>4</th>\n",
       "      <td>32321</td>\n",
       "      <td>2017-03-20 06:51:27</td>\n",
       "      <td>150</td>\n",
       "      <td>17202</td>\n",
       "    </tr>\n",
       "  </tbody>\n",
       "</table>\n",
       "</div>"
      ],
      "text/plain": [
       "   user_id           start_time  amount     id\n",
       "0    37878  2017-06-30 17:05:21     150  17668\n",
       "1    47216  2017-12-22 06:30:31      25  18396\n",
       "2    35532  2017-05-21 04:23:32     150  17475\n",
       "3    42583  2017-10-17 13:52:14     100  18027\n",
       "4    32321  2017-03-20 06:51:27     150  17202"
      ]
     },
     "execution_count": 11,
     "metadata": {},
     "output_type": "execute_result"
    }
   ],
   "source": [
    "# Выведем первые 5 строк фрейма, содержащего данные об оплатах пользователей.  \n",
    "purchase_df.head(5)"
   ]
  },
  {
   "cell_type": "code",
   "execution_count": 12,
   "metadata": {},
   "outputs": [
    {
     "name": "stdout",
     "output_type": "stream",
     "text": [
      "<class 'pandas.core.frame.DataFrame'>\n",
      "RangeIndex: 1600 entries, 0 to 1599\n",
      "Data columns (total 4 columns):\n",
      " #   Column      Non-Null Count  Dtype \n",
      "---  ------      --------------  ----- \n",
      " 0   user_id     1600 non-null   int64 \n",
      " 1   start_time  1600 non-null   object\n",
      " 2   amount      1600 non-null   int64 \n",
      " 3   id          1600 non-null   int64 \n",
      "dtypes: int64(3), object(1)\n",
      "memory usage: 50.1+ KB\n"
     ]
    }
   ],
   "source": [
    "# Исследуем датафрейм на наличие пропусков и типов данных в столбцах.\n",
    "purchase_df.info()"
   ]
  },
  {
   "cell_type": "code",
   "execution_count": 13,
   "metadata": {},
   "outputs": [
    {
     "name": "stdout",
     "output_type": "stream",
     "text": [
      "<class 'pandas.core.frame.DataFrame'>\n",
      "RangeIndex: 1600 entries, 0 to 1599\n",
      "Data columns (total 4 columns):\n",
      " #   Column      Non-Null Count  Dtype         \n",
      "---  ------      --------------  -----         \n",
      " 0   user_id     1600 non-null   int64         \n",
      " 1   start_time  1600 non-null   datetime64[ns]\n",
      " 2   amount      1600 non-null   int64         \n",
      " 3   id          1600 non-null   int64         \n",
      "dtypes: datetime64[ns](1), int64(3)\n",
      "memory usage: 50.1 KB\n"
     ]
    }
   ],
   "source": [
    "# Преобразуем столбец \"start_time\" в тип datetime с помощью метода pd.to_datetime():\n",
    "purchase_df['start_time'] = pd.to_datetime(purchase_df['start_time'])\n",
    "purchase_df.info()"
   ]
  },
  {
   "cell_type": "code",
   "execution_count": 14,
   "metadata": {},
   "outputs": [
    {
     "data": {
      "text/html": [
       "<div>\n",
       "<style scoped>\n",
       "    .dataframe tbody tr th:only-of-type {\n",
       "        vertical-align: middle;\n",
       "    }\n",
       "\n",
       "    .dataframe tbody tr th {\n",
       "        vertical-align: top;\n",
       "    }\n",
       "\n",
       "    .dataframe thead th {\n",
       "        text-align: right;\n",
       "    }\n",
       "</style>\n",
       "<table border=\"1\" class=\"dataframe\">\n",
       "  <thead>\n",
       "    <tr style=\"text-align: right;\">\n",
       "      <th></th>\n",
       "      <th>user_id</th>\n",
       "      <th>start_time</th>\n",
       "      <th>amount</th>\n",
       "      <th>id</th>\n",
       "    </tr>\n",
       "  </thead>\n",
       "  <tbody>\n",
       "    <tr>\n",
       "      <th>count</th>\n",
       "      <td>1600.000000</td>\n",
       "      <td>1600</td>\n",
       "      <td>1600.000000</td>\n",
       "      <td>1600.000000</td>\n",
       "    </tr>\n",
       "    <tr>\n",
       "      <th>unique</th>\n",
       "      <td>NaN</td>\n",
       "      <td>1600</td>\n",
       "      <td>NaN</td>\n",
       "      <td>NaN</td>\n",
       "    </tr>\n",
       "    <tr>\n",
       "      <th>top</th>\n",
       "      <td>NaN</td>\n",
       "      <td>2017-02-15 16:17:28</td>\n",
       "      <td>NaN</td>\n",
       "      <td>NaN</td>\n",
       "    </tr>\n",
       "    <tr>\n",
       "      <th>freq</th>\n",
       "      <td>NaN</td>\n",
       "      <td>1</td>\n",
       "      <td>NaN</td>\n",
       "      <td>NaN</td>\n",
       "    </tr>\n",
       "    <tr>\n",
       "      <th>first</th>\n",
       "      <td>NaN</td>\n",
       "      <td>2017-01-03 18:53:43</td>\n",
       "      <td>NaN</td>\n",
       "      <td>NaN</td>\n",
       "    </tr>\n",
       "    <tr>\n",
       "      <th>last</th>\n",
       "      <td>NaN</td>\n",
       "      <td>2018-01-06 07:14:25</td>\n",
       "      <td>NaN</td>\n",
       "      <td>NaN</td>\n",
       "    </tr>\n",
       "    <tr>\n",
       "      <th>mean</th>\n",
       "      <td>37752.766250</td>\n",
       "      <td>NaN</td>\n",
       "      <td>110.734375</td>\n",
       "      <td>17645.505625</td>\n",
       "    </tr>\n",
       "    <tr>\n",
       "      <th>std</th>\n",
       "      <td>5822.621784</td>\n",
       "      <td>NaN</td>\n",
       "      <td>54.696628</td>\n",
       "      <td>462.038637</td>\n",
       "    </tr>\n",
       "    <tr>\n",
       "      <th>min</th>\n",
       "      <td>27845.000000</td>\n",
       "      <td>NaN</td>\n",
       "      <td>25.000000</td>\n",
       "      <td>16845.000000</td>\n",
       "    </tr>\n",
       "    <tr>\n",
       "      <th>25%</th>\n",
       "      <td>32815.750000</td>\n",
       "      <td>NaN</td>\n",
       "      <td>50.000000</td>\n",
       "      <td>17245.750000</td>\n",
       "    </tr>\n",
       "    <tr>\n",
       "      <th>50%</th>\n",
       "      <td>37633.500000</td>\n",
       "      <td>NaN</td>\n",
       "      <td>100.000000</td>\n",
       "      <td>17645.500000</td>\n",
       "    </tr>\n",
       "    <tr>\n",
       "      <th>75%</th>\n",
       "      <td>43023.000000</td>\n",
       "      <td>NaN</td>\n",
       "      <td>150.000000</td>\n",
       "      <td>18045.250000</td>\n",
       "    </tr>\n",
       "    <tr>\n",
       "      <th>max</th>\n",
       "      <td>47742.000000</td>\n",
       "      <td>NaN</td>\n",
       "      <td>300.000000</td>\n",
       "      <td>18452.000000</td>\n",
       "    </tr>\n",
       "  </tbody>\n",
       "</table>\n",
       "</div>"
      ],
      "text/plain": [
       "             user_id           start_time       amount            id\n",
       "count    1600.000000                 1600  1600.000000   1600.000000\n",
       "unique           NaN                 1600          NaN           NaN\n",
       "top              NaN  2017-02-15 16:17:28          NaN           NaN\n",
       "freq             NaN                    1          NaN           NaN\n",
       "first            NaN  2017-01-03 18:53:43          NaN           NaN\n",
       "last             NaN  2018-01-06 07:14:25          NaN           NaN\n",
       "mean    37752.766250                  NaN   110.734375  17645.505625\n",
       "std      5822.621784                  NaN    54.696628    462.038637\n",
       "min     27845.000000                  NaN    25.000000  16845.000000\n",
       "25%     32815.750000                  NaN    50.000000  17245.750000\n",
       "50%     37633.500000                  NaN   100.000000  17645.500000\n",
       "75%     43023.000000                  NaN   150.000000  18045.250000\n",
       "max     47742.000000                  NaN   300.000000  18452.000000"
      ]
     },
     "execution_count": 14,
     "metadata": {},
     "output_type": "execute_result"
    }
   ],
   "source": [
    "# Оценим параметры датасета при помощи метода describe.\n",
    "purchase_df.describe(include='all')"
   ]
  },
  {
   "cell_type": "markdown",
   "metadata": {},
   "source": [
    "###  3. Выделим группы пользователей"
   ]
  },
  {
   "cell_type": "code",
   "execution_count": 15,
   "metadata": {},
   "outputs": [
    {
     "name": "stdout",
     "output_type": "stream",
     "text": [
      "2447\n"
     ]
    }
   ],
   "source": [
    "# Выделим группу пользователей, которые выбрали уровень сложности \"easy\" и определим их количество. \n",
    "# Запишем группу пользователей в переменную \"easy_level_users\", а в переменную \"easy_level_users_count\" - их количество.\n",
    "\n",
    "print(events_df[events_df['selected_level'] == 'easy']['user_id'].nunique())\n",
    "easy_level_users = events_df[events_df['selected_level'] == 'easy']['user_id']\n",
    "easy_level_users_count = events_df[events_df['selected_level'] == 'easy']['user_id'].nunique()"
   ]
  },
  {
   "cell_type": "code",
   "execution_count": 16,
   "metadata": {},
   "outputs": [
    {
     "name": "stdout",
     "output_type": "stream",
     "text": [
      "4642\n"
     ]
    }
   ],
   "source": [
    "# Выделим группу пользователей, которые выбрали уровень сложности \"medium\" и определим их количество. \n",
    "# Запишем группу пользователей в переменную \"medium_level_users\", а в переменную \"medium_level_users_count\" - их количество.\n",
    "\n",
    "print(events_df[events_df['selected_level'] == 'medium']['user_id'].nunique())\n",
    "medium_level_users = events_df[events_df['selected_level'] == 'medium']['user_id']\n",
    "medium_level_users_count = events_df[events_df['selected_level'] == 'medium']['user_id'].nunique()"
   ]
  },
  {
   "cell_type": "code",
   "execution_count": 17,
   "metadata": {},
   "outputs": [
    {
     "name": "stdout",
     "output_type": "stream",
     "text": [
      "1249\n"
     ]
    }
   ],
   "source": [
    "# Выделим группу пользователей, которые выбрали уровень сложности \"hard\" и определим их количество. \n",
    "# Запишем группу пользователей в переменную \"hard_level_users\", а в переменную \"hard_level_users_count\" - их количество.\n",
    "\n",
    "print(events_df[events_df['selected_level'] == 'hard']['user_id'].nunique())\n",
    "hard_level_users = events_df[events_df['selected_level'] == 'hard']['user_id']\n",
    "hard_level_users_count = events_df[events_df['selected_level'] == 'hard']['user_id'].nunique()"
   ]
  },
  {
   "cell_type": "code",
   "execution_count": 18,
   "metadata": {},
   "outputs": [
    {
     "name": "stdout",
     "output_type": "stream",
     "text": [
      "189\n"
     ]
    }
   ],
   "source": [
    "# Выделим группу пользователей, которые оплатили тренировки и выбрали уровень сложности \"easy\" \n",
    "# Запишем группу пользователей в отдельный датафрейм \"purchase_df_easy\", а в переменную \"purchase_easy_users_count\" - их количество.\n",
    "\n",
    "purchase_df_easy = purchase_df[purchase_df['user_id'].isin(easy_level_users)]\n",
    "print(purchase_df_easy.user_id.nunique())\n",
    "purchase_easy_users_count = purchase_df_easy.user_id.nunique()"
   ]
  },
  {
   "cell_type": "code",
   "execution_count": 19,
   "metadata": {},
   "outputs": [
    {
     "name": "stdout",
     "output_type": "stream",
     "text": [
      "969\n"
     ]
    }
   ],
   "source": [
    "# Выделим группу пользователей, которые оплатили тренировки и выбрали уровень сложности \"medium\" \n",
    "# Запишем группу пользователей в отдельный датафрейм \"purchase_df_medium\", а в переменную \"purchase_medium_users_count\" - их количество.\n",
    "\n",
    "purchase_df_medium = purchase_df[purchase_df['user_id'].isin(medium_level_users)]\n",
    "print(purchase_df_medium.user_id.nunique())\n",
    "purchase_medium_users_count = purchase_df_medium.user_id.nunique()"
   ]
  },
  {
   "cell_type": "code",
   "execution_count": 20,
   "metadata": {},
   "outputs": [
    {
     "name": "stdout",
     "output_type": "stream",
     "text": [
      "442\n"
     ]
    }
   ],
   "source": [
    "# Выделим группу пользователей, которые оплатили тренировки и выбрали уровень сложности \"hard\" \n",
    "# Запишем группу пользователей в отдельный датафрейм \"purchase_df_hard\", а в переменную \"purchase_hard_users_count\" - их количество.\n",
    "\n",
    "purchase_df_hard = purchase_df[purchase_df['user_id'].isin(hard_level_users)]\n",
    "print(purchase_df_hard.user_id.nunique())\n",
    "purchase_hard_users_count = purchase_df_hard.user_id.nunique()"
   ]
  },
  {
   "cell_type": "markdown",
   "metadata": {},
   "source": [
    "### 4. Рассчитаем для каждой группы пользователей процент оплат"
   ]
  },
  {
   "cell_type": "code",
   "execution_count": 21,
   "metadata": {},
   "outputs": [
    {
     "name": "stdout",
     "output_type": "stream",
     "text": [
      "Процент пользователей, которые оплатили тренировки (от числа пользователей, который выбрали уровень тренировок \"easy\"): 7.72%\n"
     ]
    }
   ],
   "source": [
    "# Оценим процент пользователей, выбравших уровень сложности \"easy\" от числа пользователей, которые купили тренировки. \n",
    "# Запишем результат в переменную percent_easy_level:\n",
    "\n",
    "percent_easy_level = purchase_easy_users_count / easy_level_users_count\n",
    "print('Процент пользователей, которые оплатили тренировки (от числа пользователей, который выбрали уровень тренировок \"easy\"): {:.2%}'.format(percent_easy_level))"
   ]
  },
  {
   "cell_type": "code",
   "execution_count": 22,
   "metadata": {},
   "outputs": [
    {
     "name": "stdout",
     "output_type": "stream",
     "text": [
      "Процент пользователей, которые оплатили тренировки (от числа пользователей, который выбрали уровень тренировок \"medium\"): 20.87%\n"
     ]
    }
   ],
   "source": [
    "# Оценим процент пользователей, выбравших уровень сложности \"medium\" от числа пользователей, которые купили тренировки. \n",
    "# Запишем результат в переменную percent_medium_level:\n",
    "\n",
    "percent_medium_level = purchase_medium_users_count / medium_level_users_count\n",
    "print('Процент пользователей, которые оплатили тренировки (от числа пользователей, который выбрали уровень тренировок \"medium\"): {:.2%}'.format(percent_medium_level))"
   ]
  },
  {
   "cell_type": "code",
   "execution_count": 23,
   "metadata": {},
   "outputs": [
    {
     "name": "stdout",
     "output_type": "stream",
     "text": [
      "Процент пользователей, которые оплатили тренировки (от числа пользователей, который выбрали уровень тренировок \"hard\"):35.39%\n"
     ]
    }
   ],
   "source": [
    "# Оценим процент пользователей, выбравших уровень сложности \"hard\" от числа пользователей, которые купили тренировки. \n",
    "# Запишем результат в переменную percent_hard_level:\n",
    "\n",
    "percent_hard_level = purchase_hard_users_count / hard_level_users_count\n",
    "print('Процент пользователей, которые оплатили тренировки (от числа пользователей, который выбрали уровень тренировок \"hard\"):{:.2%}'.format(percent_hard_level))"
   ]
  },
  {
   "cell_type": "markdown",
   "metadata": {},
   "source": [
    "### 5. Создадим объединенный датафрейм"
   ]
  },
  {
   "cell_type": "code",
   "execution_count": 24,
   "metadata": {},
   "outputs": [
    {
     "data": {
      "text/html": [
       "<div>\n",
       "<style scoped>\n",
       "    .dataframe tbody tr th:only-of-type {\n",
       "        vertical-align: middle;\n",
       "    }\n",
       "\n",
       "    .dataframe tbody tr th {\n",
       "        vertical-align: top;\n",
       "    }\n",
       "\n",
       "    .dataframe thead th {\n",
       "        text-align: right;\n",
       "    }\n",
       "</style>\n",
       "<table border=\"1\" class=\"dataframe\">\n",
       "  <thead>\n",
       "    <tr style=\"text-align: right;\">\n",
       "      <th></th>\n",
       "      <th>user_id</th>\n",
       "      <th>start_time</th>\n",
       "      <th>amount</th>\n",
       "      <th>id</th>\n",
       "      <th>event_type</th>\n",
       "    </tr>\n",
       "  </thead>\n",
       "  <tbody>\n",
       "    <tr>\n",
       "      <th>0</th>\n",
       "      <td>37878</td>\n",
       "      <td>2017-06-30 17:05:21</td>\n",
       "      <td>150</td>\n",
       "      <td>17668</td>\n",
       "      <td>purchase</td>\n",
       "    </tr>\n",
       "    <tr>\n",
       "      <th>1</th>\n",
       "      <td>47216</td>\n",
       "      <td>2017-12-22 06:30:31</td>\n",
       "      <td>25</td>\n",
       "      <td>18396</td>\n",
       "      <td>purchase</td>\n",
       "    </tr>\n",
       "    <tr>\n",
       "      <th>2</th>\n",
       "      <td>35532</td>\n",
       "      <td>2017-05-21 04:23:32</td>\n",
       "      <td>150</td>\n",
       "      <td>17475</td>\n",
       "      <td>purchase</td>\n",
       "    </tr>\n",
       "    <tr>\n",
       "      <th>3</th>\n",
       "      <td>42583</td>\n",
       "      <td>2017-10-17 13:52:14</td>\n",
       "      <td>100</td>\n",
       "      <td>18027</td>\n",
       "      <td>purchase</td>\n",
       "    </tr>\n",
       "    <tr>\n",
       "      <th>4</th>\n",
       "      <td>32321</td>\n",
       "      <td>2017-03-20 06:51:27</td>\n",
       "      <td>150</td>\n",
       "      <td>17202</td>\n",
       "      <td>purchase</td>\n",
       "    </tr>\n",
       "    <tr>\n",
       "      <th>...</th>\n",
       "      <td>...</td>\n",
       "      <td>...</td>\n",
       "      <td>...</td>\n",
       "      <td>...</td>\n",
       "      <td>...</td>\n",
       "    </tr>\n",
       "    <tr>\n",
       "      <th>1595</th>\n",
       "      <td>34166</td>\n",
       "      <td>2017-04-20 13:04:21</td>\n",
       "      <td>50</td>\n",
       "      <td>17358</td>\n",
       "      <td>purchase</td>\n",
       "    </tr>\n",
       "    <tr>\n",
       "      <th>1596</th>\n",
       "      <td>36640</td>\n",
       "      <td>2017-06-07 08:26:28</td>\n",
       "      <td>150</td>\n",
       "      <td>17556</td>\n",
       "      <td>purchase</td>\n",
       "    </tr>\n",
       "    <tr>\n",
       "      <th>1597</th>\n",
       "      <td>42221</td>\n",
       "      <td>2017-10-07 11:14:19</td>\n",
       "      <td>100</td>\n",
       "      <td>17990</td>\n",
       "      <td>purchase</td>\n",
       "    </tr>\n",
       "    <tr>\n",
       "      <th>1598</th>\n",
       "      <td>37754</td>\n",
       "      <td>2017-06-25 11:34:08</td>\n",
       "      <td>50</td>\n",
       "      <td>17637</td>\n",
       "      <td>purchase</td>\n",
       "    </tr>\n",
       "    <tr>\n",
       "      <th>1599</th>\n",
       "      <td>34957</td>\n",
       "      <td>2017-05-09 21:52:40</td>\n",
       "      <td>100</td>\n",
       "      <td>17427</td>\n",
       "      <td>purchase</td>\n",
       "    </tr>\n",
       "  </tbody>\n",
       "</table>\n",
       "<p>1600 rows × 5 columns</p>\n",
       "</div>"
      ],
      "text/plain": [
       "      user_id          start_time  amount     id event_type\n",
       "0       37878 2017-06-30 17:05:21     150  17668   purchase\n",
       "1       47216 2017-12-22 06:30:31      25  18396   purchase\n",
       "2       35532 2017-05-21 04:23:32     150  17475   purchase\n",
       "3       42583 2017-10-17 13:52:14     100  18027   purchase\n",
       "4       32321 2017-03-20 06:51:27     150  17202   purchase\n",
       "...       ...                 ...     ...    ...        ...\n",
       "1595    34166 2017-04-20 13:04:21      50  17358   purchase\n",
       "1596    36640 2017-06-07 08:26:28     150  17556   purchase\n",
       "1597    42221 2017-10-07 11:14:19     100  17990   purchase\n",
       "1598    37754 2017-06-25 11:34:08      50  17637   purchase\n",
       "1599    34957 2017-05-09 21:52:40     100  17427   purchase\n",
       "\n",
       "[1600 rows x 5 columns]"
      ]
     },
     "execution_count": 24,
     "metadata": {},
     "output_type": "execute_result"
    }
   ],
   "source": [
    "# Добавим в датафрейм purchase_df столбец \"event_type\" со значением \"purchase\"\n",
    "purchase_df['event_type'] = 'purchase'\n",
    "purchase_df"
   ]
  },
  {
   "cell_type": "code",
   "execution_count": 25,
   "metadata": {},
   "outputs": [],
   "source": [
    "# Переименуем столбец 'id' в датафрейме \"purchase_df\" и столбец 'id' в датафрейме \"events_df\".\n",
    "purchase_df = purchase_df.rename(columns={'id':'purchase_id'})\n",
    "events_df = events_df.rename(columns={'id':'event_id'})"
   ]
  },
  {
   "cell_type": "code",
   "execution_count": 26,
   "metadata": {},
   "outputs": [],
   "source": [
    "# Теперь мы можем объединить два датафрейма в один для того чтобы можно было создать датафреймы с необходимыми нам данными.\n",
    "total_df = pd.concat([events_df,purchase_df],sort=False)"
   ]
  },
  {
   "cell_type": "code",
   "execution_count": 27,
   "metadata": {},
   "outputs": [],
   "source": [
    "# Сбросим индексы в новом датафрейме (они дублировались после объединения поэтому бесполезны для нас), \n",
    "# а также отсортируем датафрейм по возрастанию по столбцу 'start_time'.\n",
    "total_df = total_df.reset_index(drop=True).sort_values('start_time')"
   ]
  },
  {
   "cell_type": "code",
   "execution_count": 28,
   "metadata": {},
   "outputs": [
    {
     "data": {
      "text/html": [
       "<div>\n",
       "<style scoped>\n",
       "    .dataframe tbody tr th:only-of-type {\n",
       "        vertical-align: middle;\n",
       "    }\n",
       "\n",
       "    .dataframe tbody tr th {\n",
       "        vertical-align: top;\n",
       "    }\n",
       "\n",
       "    .dataframe thead th {\n",
       "        text-align: right;\n",
       "    }\n",
       "</style>\n",
       "<table border=\"1\" class=\"dataframe\">\n",
       "  <thead>\n",
       "    <tr style=\"text-align: right;\">\n",
       "      <th></th>\n",
       "      <th>event_type</th>\n",
       "      <th>selected_level</th>\n",
       "      <th>start_time</th>\n",
       "      <th>tutorial_id</th>\n",
       "      <th>user_id</th>\n",
       "      <th>event_id</th>\n",
       "      <th>amount</th>\n",
       "      <th>purchase_id</th>\n",
       "    </tr>\n",
       "  </thead>\n",
       "  <tbody>\n",
       "    <tr>\n",
       "      <th>0</th>\n",
       "      <td>registration</td>\n",
       "      <td>NaN</td>\n",
       "      <td>2017-01-01 03:48:40</td>\n",
       "      <td>NaN</td>\n",
       "      <td>27832</td>\n",
       "      <td>80308.0</td>\n",
       "      <td>NaN</td>\n",
       "      <td>NaN</td>\n",
       "    </tr>\n",
       "    <tr>\n",
       "      <th>1</th>\n",
       "      <td>registration</td>\n",
       "      <td>NaN</td>\n",
       "      <td>2017-01-01 04:07:25</td>\n",
       "      <td>NaN</td>\n",
       "      <td>27833</td>\n",
       "      <td>80309.0</td>\n",
       "      <td>NaN</td>\n",
       "      <td>NaN</td>\n",
       "    </tr>\n",
       "    <tr>\n",
       "      <th>2</th>\n",
       "      <td>registration</td>\n",
       "      <td>NaN</td>\n",
       "      <td>2017-01-01 08:35:10</td>\n",
       "      <td>NaN</td>\n",
       "      <td>27834</td>\n",
       "      <td>80310.0</td>\n",
       "      <td>NaN</td>\n",
       "      <td>NaN</td>\n",
       "    </tr>\n",
       "    <tr>\n",
       "      <th>3</th>\n",
       "      <td>registration</td>\n",
       "      <td>NaN</td>\n",
       "      <td>2017-01-01 11:54:47</td>\n",
       "      <td>NaN</td>\n",
       "      <td>27835</td>\n",
       "      <td>80311.0</td>\n",
       "      <td>NaN</td>\n",
       "      <td>NaN</td>\n",
       "    </tr>\n",
       "    <tr>\n",
       "      <th>4</th>\n",
       "      <td>registration</td>\n",
       "      <td>NaN</td>\n",
       "      <td>2017-01-01 13:28:07</td>\n",
       "      <td>NaN</td>\n",
       "      <td>27836</td>\n",
       "      <td>80312.0</td>\n",
       "      <td>NaN</td>\n",
       "      <td>NaN</td>\n",
       "    </tr>\n",
       "    <tr>\n",
       "      <th>5</th>\n",
       "      <td>registration</td>\n",
       "      <td>NaN</td>\n",
       "      <td>2017-01-01 14:08:40</td>\n",
       "      <td>NaN</td>\n",
       "      <td>27837</td>\n",
       "      <td>80313.0</td>\n",
       "      <td>NaN</td>\n",
       "      <td>NaN</td>\n",
       "    </tr>\n",
       "    <tr>\n",
       "      <th>6</th>\n",
       "      <td>registration</td>\n",
       "      <td>NaN</td>\n",
       "      <td>2017-01-01 14:42:58</td>\n",
       "      <td>NaN</td>\n",
       "      <td>27838</td>\n",
       "      <td>80314.0</td>\n",
       "      <td>NaN</td>\n",
       "      <td>NaN</td>\n",
       "    </tr>\n",
       "    <tr>\n",
       "      <th>7</th>\n",
       "      <td>tutorial_start</td>\n",
       "      <td>NaN</td>\n",
       "      <td>2017-01-01 14:54:40</td>\n",
       "      <td>31505.0</td>\n",
       "      <td>27836</td>\n",
       "      <td>80315.0</td>\n",
       "      <td>NaN</td>\n",
       "      <td>NaN</td>\n",
       "    </tr>\n",
       "    <tr>\n",
       "      <th>8</th>\n",
       "      <td>tutorial_start</td>\n",
       "      <td>NaN</td>\n",
       "      <td>2017-01-01 15:00:51</td>\n",
       "      <td>31506.0</td>\n",
       "      <td>27835</td>\n",
       "      <td>80316.0</td>\n",
       "      <td>NaN</td>\n",
       "      <td>NaN</td>\n",
       "    </tr>\n",
       "    <tr>\n",
       "      <th>9</th>\n",
       "      <td>tutorial_finish</td>\n",
       "      <td>NaN</td>\n",
       "      <td>2017-01-01 15:06:15</td>\n",
       "      <td>31506.0</td>\n",
       "      <td>27835</td>\n",
       "      <td>80317.0</td>\n",
       "      <td>NaN</td>\n",
       "      <td>NaN</td>\n",
       "    </tr>\n",
       "  </tbody>\n",
       "</table>\n",
       "</div>"
      ],
      "text/plain": [
       "        event_type selected_level          start_time  tutorial_id  user_id  \\\n",
       "0     registration            NaN 2017-01-01 03:48:40          NaN    27832   \n",
       "1     registration            NaN 2017-01-01 04:07:25          NaN    27833   \n",
       "2     registration            NaN 2017-01-01 08:35:10          NaN    27834   \n",
       "3     registration            NaN 2017-01-01 11:54:47          NaN    27835   \n",
       "4     registration            NaN 2017-01-01 13:28:07          NaN    27836   \n",
       "5     registration            NaN 2017-01-01 14:08:40          NaN    27837   \n",
       "6     registration            NaN 2017-01-01 14:42:58          NaN    27838   \n",
       "7   tutorial_start            NaN 2017-01-01 14:54:40      31505.0    27836   \n",
       "8   tutorial_start            NaN 2017-01-01 15:00:51      31506.0    27835   \n",
       "9  tutorial_finish            NaN 2017-01-01 15:06:15      31506.0    27835   \n",
       "\n",
       "   event_id  amount  purchase_id  \n",
       "0   80308.0     NaN          NaN  \n",
       "1   80309.0     NaN          NaN  \n",
       "2   80310.0     NaN          NaN  \n",
       "3   80311.0     NaN          NaN  \n",
       "4   80312.0     NaN          NaN  \n",
       "5   80313.0     NaN          NaN  \n",
       "6   80314.0     NaN          NaN  \n",
       "7   80315.0     NaN          NaN  \n",
       "8   80316.0     NaN          NaN  \n",
       "9   80317.0     NaN          NaN  "
      ]
     },
     "execution_count": 28,
     "metadata": {},
     "output_type": "execute_result"
    }
   ],
   "source": [
    "# Выведем первые 10 строк объединенного датафрейма.\n",
    "total_df.head(10)"
   ]
  },
  {
   "cell_type": "code",
   "execution_count": 29,
   "metadata": {},
   "outputs": [
    {
     "name": "stdout",
     "output_type": "stream",
     "text": [
      "<class 'pandas.core.frame.DataFrame'>\n",
      "Int64Index: 68529 entries, 0 to 68460\n",
      "Data columns (total 8 columns):\n",
      " #   Column          Non-Null Count  Dtype         \n",
      "---  ------          --------------  -----         \n",
      " 0   event_type      68529 non-null  object        \n",
      " 1   selected_level  8338 non-null   object        \n",
      " 2   start_time      68529 non-null  datetime64[ns]\n",
      " 3   tutorial_id     32942 non-null  float64       \n",
      " 4   user_id         68529 non-null  int64         \n",
      " 5   event_id        66929 non-null  float64       \n",
      " 6   amount          1600 non-null   float64       \n",
      " 7   purchase_id     1600 non-null   float64       \n",
      "dtypes: datetime64[ns](1), float64(4), int64(1), object(2)\n",
      "memory usage: 4.7+ MB\n"
     ]
    }
   ],
   "source": [
    "# Отобразим информацию о строках и столбцах\n",
    "total_df.info()"
   ]
  },
  {
   "cell_type": "markdown",
   "metadata": {},
   "source": [
    "#### Для каждой группы создадим датафреймы"
   ]
  },
  {
   "cell_type": "code",
   "execution_count": 30,
   "metadata": {},
   "outputs": [
    {
     "data": {
      "text/plain": [
       "1.0"
      ]
     },
     "execution_count": 30,
     "metadata": {},
     "output_type": "execute_result"
    }
   ],
   "source": [
    "# Создадим датафрейм \"easy_level_choice_df\", в котором будут только пользователи, выбравшие уровень сложности \"easy\". \n",
    "# Оставим в новом датафрейме только необходимые нам столбцы 'user_id', 'start_time', а также переименуем \n",
    "# столбец 'start_time' в столбец 'easy_choice_time'. \n",
    "# В заключении проверим, что на каждого уникального пользователя приходится только одно событие выбора уровня сложности. \n",
    "\n",
    "easy_level_choice_df = total_df[total_df['selected_level'] == 'easy']\n",
    "easy_level_choice_df = easy_level_choice_df[['user_id', 'start_time']].rename(columns={'start_time':'easy_choice_time'})\n",
    "easy_level_choice_df['user_id'].value_counts().mean()"
   ]
  },
  {
   "cell_type": "code",
   "execution_count": 31,
   "metadata": {},
   "outputs": [
    {
     "data": {
      "text/plain": [
       "1.0"
      ]
     },
     "execution_count": 31,
     "metadata": {},
     "output_type": "execute_result"
    }
   ],
   "source": [
    "# Подкорректируем ранее созданный датафрейм \"purchase_df_easy\": оставим в датафрейме только необходимые нам \n",
    "# столбцы 'user_id', 'start_time', а также переименуем столбец 'start_time' в столбец 'easy_pay_time'.\n",
    "# В заключении проверим, что на каждого уникального пользователя приходится только одно событие оплаты.\n",
    "\n",
    "purchase_df_easy = purchase_df_easy[['user_id','start_time']].rename(columns={'start_time':'easy_pay_time'})\n",
    "purchase_df_easy['user_id'].value_counts().mean()"
   ]
  },
  {
   "cell_type": "code",
   "execution_count": 32,
   "metadata": {},
   "outputs": [
    {
     "data": {
      "text/plain": [
       "1.0"
      ]
     },
     "execution_count": 32,
     "metadata": {},
     "output_type": "execute_result"
    }
   ],
   "source": [
    "# Создадим датафрейм \"medium_level_choice_df\", в котором будут только пользователи, выбравшие уровень сложности \"medium\". \n",
    "# Оставим в новом датафрейме только необходимые нам столбцы 'user_id', 'start_time', а также переименуем \n",
    "# столбец 'start_time' в столбец 'medium_choice_time'. \n",
    "# В заключении проверим, что на каждого уникального пользователя приходится только одно событие выбора уровня сложности. \n",
    "\n",
    "medium_level_choice_df = total_df[total_df['selected_level'] == 'medium']\n",
    "medium_level_choice_df = medium_level_choice_df[['user_id','start_time']].rename(columns={'start_time':'medium_choice_time'})\n",
    "medium_level_choice_df['user_id'].value_counts().mean()"
   ]
  },
  {
   "cell_type": "code",
   "execution_count": 33,
   "metadata": {},
   "outputs": [
    {
     "data": {
      "text/plain": [
       "1.0"
      ]
     },
     "execution_count": 33,
     "metadata": {},
     "output_type": "execute_result"
    }
   ],
   "source": [
    "# Подкорректируем ранее созданный датафрейм \"purchase_df_medium\": оставим в датафрейме только необходимые нам \n",
    "# столбцы 'user_id', 'start_time', а также переименуем столбец 'start_time' в столбец 'medium_pay_time'.\n",
    "# В заключении проверим, что на каждого уникального пользователя приходится только одно событие оплаты.\n",
    "\n",
    "purchase_df_medium = purchase_df_medium[['user_id','start_time']].rename(columns={'start_time':'medium_pay_time'})\n",
    "purchase_df_medium['user_id'].value_counts().mean()"
   ]
  },
  {
   "cell_type": "code",
   "execution_count": 34,
   "metadata": {},
   "outputs": [
    {
     "data": {
      "text/plain": [
       "1.0"
      ]
     },
     "execution_count": 34,
     "metadata": {},
     "output_type": "execute_result"
    }
   ],
   "source": [
    "# Создадим датафрейм \"hard_level_choice_df\", в котором будут только пользователи, выбравшие уровень сложности \"hard\". \n",
    "# Оставим в новом датафрейме только необходимые нам столбцы 'user_id', 'start_time', а также переименуем \n",
    "# столбец 'start_time' в столбец 'hard_choice_time'. \n",
    "# В заключении проверим, что на каждого уникального пользователя приходится только одно событие выбора уровня сложности. \n",
    "\n",
    "hard_level_choice_df = total_df[total_df['selected_level'] == 'hard']\n",
    "hard_level_choice_df = hard_level_choice_df[['user_id','start_time']].rename(columns={'start_time':'hard_choice_time'})\n",
    "hard_level_choice_df['user_id'].value_counts().mean()"
   ]
  },
  {
   "cell_type": "code",
   "execution_count": 35,
   "metadata": {},
   "outputs": [
    {
     "data": {
      "text/plain": [
       "1.0"
      ]
     },
     "execution_count": 35,
     "metadata": {},
     "output_type": "execute_result"
    }
   ],
   "source": [
    "# Подкорректируем ранее созданный датафрейм \"purchase_df_hard\": оставим в датафрейме только необходимые нам \n",
    "# столбцы 'user_id', 'start_time', а также переименуем столбец 'start_time' в столбец 'hard_pay_time'.\n",
    "# В заключении проверим, что на каждого уникального пользователя приходится только одно событие оплаты.\n",
    "\n",
    "purchase_df_hard = purchase_df_hard[['user_id','start_time']].rename(columns={'start_time':'hard_pay_time'})\n",
    "purchase_df_hard['user_id'].value_counts().mean()"
   ]
  },
  {
   "cell_type": "markdown",
   "metadata": {},
   "source": [
    "#### Объединим датафреймы и посчитаем разницу во времени между событиями"
   ]
  },
  {
   "cell_type": "code",
   "execution_count": 36,
   "metadata": {},
   "outputs": [
    {
     "data": {
      "text/html": [
       "<div>\n",
       "<style scoped>\n",
       "    .dataframe tbody tr th:only-of-type {\n",
       "        vertical-align: middle;\n",
       "    }\n",
       "\n",
       "    .dataframe tbody tr th {\n",
       "        vertical-align: top;\n",
       "    }\n",
       "\n",
       "    .dataframe thead th {\n",
       "        text-align: right;\n",
       "    }\n",
       "</style>\n",
       "<table border=\"1\" class=\"dataframe\">\n",
       "  <thead>\n",
       "    <tr style=\"text-align: right;\">\n",
       "      <th></th>\n",
       "      <th>user_id</th>\n",
       "      <th>easy_choice_time</th>\n",
       "      <th>easy_pay_time</th>\n",
       "    </tr>\n",
       "  </thead>\n",
       "  <tbody>\n",
       "    <tr>\n",
       "      <th>0</th>\n",
       "      <td>27884</td>\n",
       "      <td>2017-01-04 16:18:39</td>\n",
       "      <td>2017-01-08 19:37:34</td>\n",
       "    </tr>\n",
       "    <tr>\n",
       "      <th>1</th>\n",
       "      <td>28090</td>\n",
       "      <td>2017-01-09 21:34:23</td>\n",
       "      <td>2017-01-15 23:42:55</td>\n",
       "    </tr>\n",
       "    <tr>\n",
       "      <th>2</th>\n",
       "      <td>28182</td>\n",
       "      <td>2017-01-11 18:44:45</td>\n",
       "      <td>2017-01-12 02:46:01</td>\n",
       "    </tr>\n",
       "    <tr>\n",
       "      <th>3</th>\n",
       "      <td>28207</td>\n",
       "      <td>2017-01-11 21:10:51</td>\n",
       "      <td>2017-01-12 21:00:24</td>\n",
       "    </tr>\n",
       "    <tr>\n",
       "      <th>4</th>\n",
       "      <td>28254</td>\n",
       "      <td>2017-01-12 16:48:24</td>\n",
       "      <td>2017-01-19 22:08:40</td>\n",
       "    </tr>\n",
       "  </tbody>\n",
       "</table>\n",
       "</div>"
      ],
      "text/plain": [
       "   user_id    easy_choice_time       easy_pay_time\n",
       "0    27884 2017-01-04 16:18:39 2017-01-08 19:37:34\n",
       "1    28090 2017-01-09 21:34:23 2017-01-15 23:42:55\n",
       "2    28182 2017-01-11 18:44:45 2017-01-12 02:46:01\n",
       "3    28207 2017-01-11 21:10:51 2017-01-12 21:00:24\n",
       "4    28254 2017-01-12 16:48:24 2017-01-19 22:08:40"
      ]
     },
     "execution_count": 36,
     "metadata": {},
     "output_type": "execute_result"
    }
   ],
   "source": [
    "# Объединим датафрейм с пользователями, которые выбрали уровень сложности \"easy\" с датафреймом содержащим информацию об оплатах.\n",
    "easy_level_pay_users_df = easy_level_choice_df.merge(purchase_df_easy, on='user_id' ,how ='inner')\n",
    "easy_level_pay_users_df.head(5)"
   ]
  },
  {
   "cell_type": "code",
   "execution_count": 37,
   "metadata": {},
   "outputs": [
    {
     "name": "stdout",
     "output_type": "stream",
     "text": [
      "3 days 14:58:52.941798\n"
     ]
    }
   ],
   "source": [
    "# Создадим в датафрейме новый столбец ('timedelta') в который запишем разницу во времени между первой оплатой \n",
    "# и выбором уровня сложности. После этого посчитаем среднее значение времени.\n",
    "easy_level_pay_users_df['timedelta'] = easy_level_pay_users_df['easy_pay_time'] - easy_level_pay_users_df['easy_choice_time']\n",
    "print(easy_level_pay_users_df['timedelta'].mean())"
   ]
  },
  {
   "cell_type": "code",
   "execution_count": 38,
   "metadata": {},
   "outputs": [
    {
     "data": {
      "text/html": [
       "<div>\n",
       "<style scoped>\n",
       "    .dataframe tbody tr th:only-of-type {\n",
       "        vertical-align: middle;\n",
       "    }\n",
       "\n",
       "    .dataframe tbody tr th {\n",
       "        vertical-align: top;\n",
       "    }\n",
       "\n",
       "    .dataframe thead th {\n",
       "        text-align: right;\n",
       "    }\n",
       "</style>\n",
       "<table border=\"1\" class=\"dataframe\">\n",
       "  <thead>\n",
       "    <tr style=\"text-align: right;\">\n",
       "      <th></th>\n",
       "      <th>user_id</th>\n",
       "      <th>medium_choice_time</th>\n",
       "      <th>medium_pay_time</th>\n",
       "    </tr>\n",
       "  </thead>\n",
       "  <tbody>\n",
       "    <tr>\n",
       "      <th>0</th>\n",
       "      <td>27973</td>\n",
       "      <td>2017-01-07 05:29:30</td>\n",
       "      <td>2017-01-13 21:50:00</td>\n",
       "    </tr>\n",
       "    <tr>\n",
       "      <th>1</th>\n",
       "      <td>27981</td>\n",
       "      <td>2017-01-07 10:46:14</td>\n",
       "      <td>2017-01-07 23:20:25</td>\n",
       "    </tr>\n",
       "    <tr>\n",
       "      <th>2</th>\n",
       "      <td>28010</td>\n",
       "      <td>2017-01-08 00:00:52</td>\n",
       "      <td>2017-01-10 05:32:47</td>\n",
       "    </tr>\n",
       "    <tr>\n",
       "      <th>3</th>\n",
       "      <td>28020</td>\n",
       "      <td>2017-01-08 14:47:35</td>\n",
       "      <td>2017-01-11 21:43:03</td>\n",
       "    </tr>\n",
       "    <tr>\n",
       "      <th>4</th>\n",
       "      <td>28033</td>\n",
       "      <td>2017-01-08 17:06:39</td>\n",
       "      <td>2017-01-16 05:08:41</td>\n",
       "    </tr>\n",
       "  </tbody>\n",
       "</table>\n",
       "</div>"
      ],
      "text/plain": [
       "   user_id  medium_choice_time     medium_pay_time\n",
       "0    27973 2017-01-07 05:29:30 2017-01-13 21:50:00\n",
       "1    27981 2017-01-07 10:46:14 2017-01-07 23:20:25\n",
       "2    28010 2017-01-08 00:00:52 2017-01-10 05:32:47\n",
       "3    28020 2017-01-08 14:47:35 2017-01-11 21:43:03\n",
       "4    28033 2017-01-08 17:06:39 2017-01-16 05:08:41"
      ]
     },
     "execution_count": 38,
     "metadata": {},
     "output_type": "execute_result"
    }
   ],
   "source": [
    "# Объединим датафрейм с пользователями, которые выбрали уровень сложности \"medium\" с датафреймом содержащим информацию об оплатах.\n",
    "medium_level_pay_users_df = medium_level_choice_df.merge(purchase_df_medium, on='user_id', how='inner')\n",
    "medium_level_pay_users_df.head(5)"
   ]
  },
  {
   "cell_type": "code",
   "execution_count": 39,
   "metadata": {},
   "outputs": [
    {
     "name": "stdout",
     "output_type": "stream",
     "text": [
      "3 days 23:14:13.165118\n"
     ]
    }
   ],
   "source": [
    "# Создадим в датафрейме новый столбец ('timedelta') в который запишем разницу во времени между первой оплатой \n",
    "# и выбором уровня сложности. После этого посчитаем среднее значение времени.\n",
    "medium_level_pay_users_df['timedelta'] = medium_level_pay_users_df['medium_pay_time'] - medium_level_pay_users_df['medium_choice_time']\n",
    "print(medium_level_pay_users_df['timedelta'].mean())"
   ]
  },
  {
   "cell_type": "code",
   "execution_count": 40,
   "metadata": {},
   "outputs": [
    {
     "data": {
      "text/html": [
       "<div>\n",
       "<style scoped>\n",
       "    .dataframe tbody tr th:only-of-type {\n",
       "        vertical-align: middle;\n",
       "    }\n",
       "\n",
       "    .dataframe tbody tr th {\n",
       "        vertical-align: top;\n",
       "    }\n",
       "\n",
       "    .dataframe thead th {\n",
       "        text-align: right;\n",
       "    }\n",
       "</style>\n",
       "<table border=\"1\" class=\"dataframe\">\n",
       "  <thead>\n",
       "    <tr style=\"text-align: right;\">\n",
       "      <th></th>\n",
       "      <th>user_id</th>\n",
       "      <th>hard_choice_time</th>\n",
       "      <th>hard_pay_time</th>\n",
       "    </tr>\n",
       "  </thead>\n",
       "  <tbody>\n",
       "    <tr>\n",
       "      <th>0</th>\n",
       "      <td>27845</td>\n",
       "      <td>2017-01-02 06:19:18</td>\n",
       "      <td>2017-01-03 18:53:43</td>\n",
       "    </tr>\n",
       "    <tr>\n",
       "      <th>1</th>\n",
       "      <td>27865</td>\n",
       "      <td>2017-01-04 05:56:32</td>\n",
       "      <td>2017-01-04 14:46:10</td>\n",
       "    </tr>\n",
       "    <tr>\n",
       "      <th>2</th>\n",
       "      <td>27910</td>\n",
       "      <td>2017-01-05 11:59:50</td>\n",
       "      <td>2017-01-07 12:11:34</td>\n",
       "    </tr>\n",
       "    <tr>\n",
       "      <th>3</th>\n",
       "      <td>27911</td>\n",
       "      <td>2017-01-05 17:39:02</td>\n",
       "      <td>2017-01-07 08:19:12</td>\n",
       "    </tr>\n",
       "    <tr>\n",
       "      <th>4</th>\n",
       "      <td>27940</td>\n",
       "      <td>2017-01-06 00:32:47</td>\n",
       "      <td>2017-01-07 13:16:41</td>\n",
       "    </tr>\n",
       "  </tbody>\n",
       "</table>\n",
       "</div>"
      ],
      "text/plain": [
       "   user_id    hard_choice_time       hard_pay_time\n",
       "0    27845 2017-01-02 06:19:18 2017-01-03 18:53:43\n",
       "1    27865 2017-01-04 05:56:32 2017-01-04 14:46:10\n",
       "2    27910 2017-01-05 11:59:50 2017-01-07 12:11:34\n",
       "3    27911 2017-01-05 17:39:02 2017-01-07 08:19:12\n",
       "4    27940 2017-01-06 00:32:47 2017-01-07 13:16:41"
      ]
     },
     "execution_count": 40,
     "metadata": {},
     "output_type": "execute_result"
    }
   ],
   "source": [
    "# Объединим датафрейм с пользователями, которые выбрали уровень сложности \"hard\" с датафреймом содержащим информацию об оплатах.\n",
    "hard_level_pay_users_df = hard_level_choice_df.merge(purchase_df_hard, on='user_id', how='inner')\n",
    "hard_level_pay_users_df.head(5)"
   ]
  },
  {
   "cell_type": "code",
   "execution_count": 41,
   "metadata": {},
   "outputs": [
    {
     "name": "stdout",
     "output_type": "stream",
     "text": [
      "3 days 07:20:41.420814\n"
     ]
    }
   ],
   "source": [
    "# Создадим в датафрейме новый столбец ('timedelta') в который запишем разницу во времени между первой оплатой \n",
    "# и выбором уровня сложности. После этого посчитаем среднее значение времени.\n",
    "hard_level_pay_users_df['timedelta'] = hard_level_pay_users_df['hard_pay_time'] - hard_level_pay_users_df['hard_choice_time']\n",
    "print(hard_level_pay_users_df['timedelta'].mean())"
   ]
  },
  {
   "cell_type": "markdown",
   "metadata": {},
   "source": [
    "#### Дополнительное задание. Проверим, существует ли разница во времени между событиями регистрации и оплаты."
   ]
  },
  {
   "cell_type": "code",
   "execution_count": 42,
   "metadata": {},
   "outputs": [],
   "source": [
    "# Создадим датафрейм содержащий только события 'event_type' = 'registration'.  \n",
    "registration_df = total_df[total_df['event_type'] == 'registration']\n",
    "registration_df = registration_df[['user_id', 'start_time']].rename(columns={'start_time':'reg_time'})"
   ]
  },
  {
   "cell_type": "code",
   "execution_count": 43,
   "metadata": {},
   "outputs": [],
   "source": [
    "# Создадим новый отдельный датафрейм содержащий только события 'event_type' = 'purchase'\n",
    "purchase_df_1 = purchase_df[['user_id','start_time']].rename(columns={'start_time':'purchase_time'})"
   ]
  },
  {
   "cell_type": "code",
   "execution_count": 44,
   "metadata": {},
   "outputs": [
    {
     "name": "stdout",
     "output_type": "stream",
     "text": [
      "4 days 01:01:56.595000\n"
     ]
    }
   ],
   "source": [
    "# Теперь объединим оба датафрейма и посчитаем разницу во времени между событиями регистрации и оплаты.\n",
    "merge_df =registration_df.merge(purchase_df_1, on='user_id', how='inner')\n",
    "merge_df.head(10)\n",
    "merge_df['timedelta'] = merge_df['purchase_time'] - merge_df['reg_time']\n",
    "print(merge_df['timedelta'].mean())"
   ]
  },
  {
   "cell_type": "markdown",
   "metadata": {},
   "source": [
    "### Выводы:"
   ]
  },
  {
   "cell_type": "markdown",
   "metadata": {},
   "source": [
    "   \n",
    "    1. Зависит ли вероятность оплаты от выбранного пользователем уровня сложности бесплатных тренировок?\n",
    "    По результатам проведенного анализа выявлено что только около 8% пользователей, выбравших уровень сложности \"easy\" совершают оплату. Если посмотреть пользователей, выбравших уровень сложности \"medium\", то их уже около 21%. А среди пользователей, которые выбрали уровень сложности \"hard\" 35 % совершили оплату.\n",
    "    Таким образом, мы видим, что с изменением уровня сложности тренировок от более легкого к более трудному, вероятность того что пользователей совершит оплату увеличивается.\n",
    "\n",
    "    2. Существует ли разница во времени между пользователями с разным уровнем сложности и их первой оплатой?\n",
    "        - Среди пользователей, выбравших уровень сложности \"easy\" среднее время между выбором уровня сложности и первой оплаты составляет в среднем 3 дня и 15 часов;\n",
    "        - Среди пользователей, выбравших уровень сложности \"medium\" среднее время между выбором уровня сложности и первой оплаты составляет в среднем 3 дня и 23 часа;\n",
    "        - Среди пользователей, выбравших уровень сложности \"hard\" среднее время между выбором уровня сложности и первой оплаты составляет в среднем 3 дня и 7,5 часов;\n",
    "    Таким образом мы видим, что быстрее всего начинают платить пользователи, выбравшие уровень сложности \"hard\", им требуется в среднем 3 дня и 7,5 часов. Пользователям, выбравшим уровень сложности \"easy\" требуется в среднем на 7,5 часов больше чем пользователям с уровнем \"hard\". А пользователи, выбравшие уровень \"medium\", совершают первый платеж в среднем через 4 дня после выбора уровня сложности.\n",
    "    \n",
    "    3. Cуществует ли разница во времени между событиями регистрации и оплаты.\n",
    "    Как показывает наш анализ, в среднем между событиями регистрации и оплаты проходит 4 дня и 1 час."
   ]
  }
 ],
 "metadata": {
  "kernelspec": {
   "display_name": "Python 3",
   "language": "python",
   "name": "python3"
  },
  "language_info": {
   "codemirror_mode": {
    "name": "ipython",
    "version": 3
   },
   "file_extension": ".py",
   "mimetype": "text/x-python",
   "name": "python",
   "nbconvert_exporter": "python",
   "pygments_lexer": "ipython3",
   "version": "3.7.6"
  }
 },
 "nbformat": 4,
 "nbformat_minor": 4
}
