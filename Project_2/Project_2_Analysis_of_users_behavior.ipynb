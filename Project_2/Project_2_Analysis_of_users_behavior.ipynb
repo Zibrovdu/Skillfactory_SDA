{
 "cells": [
  {
   "cell_type": "markdown",
   "metadata": {},
   "source": [
    "# Проект № 2. Анализируем воронки"
   ]
  },
  {
   "cell_type": "markdown",
   "metadata": {},
   "source": [
    "## Оглавление.\n",
    "\n",
    "1. [Цели и задачи исследования](#id_1)\n",
    "2. [Получение данных и их первичный анализ](#id_2)\n",
    "3. [Задача № 1. Анализ времени прохождения различных этапов](#id_3)\n",
    "4. [Задача № 2. Анализ зависимости между вероятностью оплаты тренировки и пройденного обучения](#id_4)\n",
    "5. [Дополнительная задача. Анализ поведения пользователей](#id_5)\t\n",
    "6. [Выводы](#id_6)"
   ]
  },
  {
   "cell_type": "markdown",
   "metadata": {},
   "source": [
    "<a id=\"id_1\"></a>"
   ]
  },
  {
   "cell_type": "markdown",
   "metadata": {},
   "source": [
    "## Цели и задачи исследования"
   ]
  },
  {
   "cell_type": "markdown",
   "metadata": {},
   "source": [
    "- **Задача 1**. Отличается ли время прохождения различных этапов для пользователей, которые прошли обучение, от пользователей, не начинавших обучение? Насколько обучение сокращает время прохождения этапов?\n",
    "- **Задача 2**. Существует ли зависимость между вероятностью оплаты тренировки и количеством обучений, которые начинал или завершал пользователь. Нужно доказать, что успешное обучение влияет на оплату само по себе, без разницы, какое оно было по порядку\n",
    "- **Дополнительная задача**. Как часто пользователи начинают обучение после того, как они выбрали уровень сложности тренировок? Это позволит нам понять, насколько процесс работы с приложением понятен для пользователей: если пользователи после выбора уровня сложности обращаются к обучению, значит, работа с приложением непонятна."
   ]
  },
  {
   "cell_type": "markdown",
   "metadata": {},
   "source": [
    "<a id=\"id_2\"></a>"
   ]
  },
  {
   "cell_type": "markdown",
   "metadata": {},
   "source": [
    "## Получение данных и их первичный анализ"
   ]
  },
  {
   "cell_type": "markdown",
   "metadata": {},
   "source": [
    "### Импорт библиотек и получение данных для анализа"
   ]
  },
  {
   "cell_type": "code",
   "execution_count": 1,
   "metadata": {},
   "outputs": [],
   "source": [
    "# Импортируем библиотеки для работы\n",
    "import pandas as pd\n",
    "import matplotlib.pyplot as plt\n",
    "%matplotlib inline"
   ]
  },
  {
   "cell_type": "code",
   "execution_count": 2,
   "metadata": {},
   "outputs": [],
   "source": [
    "# Наши данные хранятся в файлах events.csv и purchase.csv которые были предварительно выгружены из БД.\n",
    "# Загрузим файл events.csv, содержащий данные по событиям пользователей в датафрейм events_df\n",
    "events_df = pd.read_csv('events.csv')\n",
    "# А файл purchase.csv, содержащий данные по оплатам пользователей - в датафрейм purchase_df\n",
    "purchase_df = pd.read_csv('purchase.csv')"
   ]
  },
  {
   "cell_type": "markdown",
   "metadata": {},
   "source": [
    "### Первичный анализ полученных данных"
   ]
  },
  {
   "cell_type": "markdown",
   "metadata": {},
   "source": [
    "#### Датафрейм с данными по событиям пользователей (events_df)"
   ]
  },
  {
   "cell_type": "code",
   "execution_count": 3,
   "metadata": {
    "scrolled": true
   },
   "outputs": [
    {
     "data": {
      "text/html": [
       "<div>\n",
       "<style scoped>\n",
       "    .dataframe tbody tr th:only-of-type {\n",
       "        vertical-align: middle;\n",
       "    }\n",
       "\n",
       "    .dataframe tbody tr th {\n",
       "        vertical-align: top;\n",
       "    }\n",
       "\n",
       "    .dataframe thead th {\n",
       "        text-align: right;\n",
       "    }\n",
       "</style>\n",
       "<table border=\"1\" class=\"dataframe\">\n",
       "  <thead>\n",
       "    <tr style=\"text-align: right;\">\n",
       "      <th></th>\n",
       "      <th>event_type</th>\n",
       "      <th>selected_level</th>\n",
       "      <th>start_time</th>\n",
       "      <th>tutorial_id</th>\n",
       "      <th>user_id</th>\n",
       "      <th>id</th>\n",
       "    </tr>\n",
       "  </thead>\n",
       "  <tbody>\n",
       "    <tr>\n",
       "      <th>0</th>\n",
       "      <td>registration</td>\n",
       "      <td>NaN</td>\n",
       "      <td>2018-01-01 04:51:58</td>\n",
       "      <td>NaN</td>\n",
       "      <td>47758</td>\n",
       "      <td>147264</td>\n",
       "    </tr>\n",
       "    <tr>\n",
       "      <th>1</th>\n",
       "      <td>registration</td>\n",
       "      <td>NaN</td>\n",
       "      <td>2018-01-01 08:32:05</td>\n",
       "      <td>NaN</td>\n",
       "      <td>47759</td>\n",
       "      <td>147268</td>\n",
       "    </tr>\n",
       "    <tr>\n",
       "      <th>2</th>\n",
       "      <td>registration</td>\n",
       "      <td>NaN</td>\n",
       "      <td>2018-01-01 09:30:10</td>\n",
       "      <td>NaN</td>\n",
       "      <td>47760</td>\n",
       "      <td>147269</td>\n",
       "    </tr>\n",
       "    <tr>\n",
       "      <th>3</th>\n",
       "      <td>registration</td>\n",
       "      <td>NaN</td>\n",
       "      <td>2018-01-01 09:39:27</td>\n",
       "      <td>NaN</td>\n",
       "      <td>47761</td>\n",
       "      <td>147270</td>\n",
       "    </tr>\n",
       "    <tr>\n",
       "      <th>4</th>\n",
       "      <td>registration</td>\n",
       "      <td>NaN</td>\n",
       "      <td>2018-01-01 11:41:27</td>\n",
       "      <td>NaN</td>\n",
       "      <td>47762</td>\n",
       "      <td>147271</td>\n",
       "    </tr>\n",
       "  </tbody>\n",
       "</table>\n",
       "</div>"
      ],
      "text/plain": [
       "     event_type selected_level           start_time  tutorial_id  user_id  \\\n",
       "0  registration            NaN  2018-01-01 04:51:58          NaN    47758   \n",
       "1  registration            NaN  2018-01-01 08:32:05          NaN    47759   \n",
       "2  registration            NaN  2018-01-01 09:30:10          NaN    47760   \n",
       "3  registration            NaN  2018-01-01 09:39:27          NaN    47761   \n",
       "4  registration            NaN  2018-01-01 11:41:27          NaN    47762   \n",
       "\n",
       "       id  \n",
       "0  147264  \n",
       "1  147268  \n",
       "2  147269  \n",
       "3  147270  \n",
       "4  147271  "
      ]
     },
     "execution_count": 3,
     "metadata": {},
     "output_type": "execute_result"
    }
   ],
   "source": [
    "# Выведем первые пять строк нашего датафрейма\n",
    "events_df.head(5)"
   ]
  },
  {
   "cell_type": "code",
   "execution_count": 4,
   "metadata": {},
   "outputs": [
    {
     "name": "stdout",
     "output_type": "stream",
     "text": [
      "<class 'pandas.core.frame.DataFrame'>\n",
      "RangeIndex: 82779 entries, 0 to 82778\n",
      "Data columns (total 6 columns):\n",
      " #   Column          Non-Null Count  Dtype  \n",
      "---  ------          --------------  -----  \n",
      " 0   event_type      82779 non-null  object \n",
      " 1   selected_level  10198 non-null  object \n",
      " 2   start_time      82779 non-null  object \n",
      " 3   tutorial_id     41201 non-null  float64\n",
      " 4   user_id         82779 non-null  int64  \n",
      " 5   id              82779 non-null  int64  \n",
      "dtypes: float64(1), int64(2), object(3)\n",
      "memory usage: 3.8+ MB\n"
     ]
    }
   ],
   "source": [
    "# Воспользуемся методом \"info()\" для первичного исследования датафрейма (общая информация, типы данных, пропущенные значения)\n",
    "events_df.info()"
   ]
  },
  {
   "cell_type": "markdown",
   "metadata": {},
   "source": [
    "Датафрейм events_df состоит из 82779 и 6 столбцов. Рассмотрим каждый столбец подробнее:\n",
    "- столбец **\"event_type\"** (тип события) имеет тип данных \"object\";\n",
    "- столбец **\"selected_level\"** (выбранный уровень сложности обучения) имеет тип данных \"object\"; \n",
    "- столбец **\"start_time\"** (дата и время события) имеет тип данных \"object\";\n",
    "- столбец **\"tutorial_id\"** (идентификатор обучения) имеет тип данных \"float64\";\n",
    "- столбец **\"user_id\"** (уникальный идентификатор пользователя приложения) имеет тип данных \"int64\";\n",
    "- столбец **\"id\"** (идентификатор события) имеет тип данных \"int64\"\n",
    "\n",
    "Столбцы **\"event_type\"**, **\"start_time\"**, **\"user_id\"** и **\"id\"** не содержат пропущенных значений, а в столбцах **\"selected_level\"** и **\"tutorial_id\"** имеются пропущенные значения:\n",
    "- столбец **\"selected_level\"** содержит 10198  непустых значений;\n",
    "- столбец **\"tutorial_id\"** содержит 41201 непустых значений.\n",
    "\n",
    "Преобразуем столбец **\"start_time\"** в тип datetime с помощью метода pd.to_datetime():"
   ]
  },
  {
   "cell_type": "code",
   "execution_count": 5,
   "metadata": {},
   "outputs": [
    {
     "name": "stdout",
     "output_type": "stream",
     "text": [
      "<class 'pandas.core.frame.DataFrame'>\n",
      "RangeIndex: 82779 entries, 0 to 82778\n",
      "Data columns (total 6 columns):\n",
      " #   Column          Non-Null Count  Dtype         \n",
      "---  ------          --------------  -----         \n",
      " 0   event_type      82779 non-null  object        \n",
      " 1   selected_level  10198 non-null  object        \n",
      " 2   start_time      82779 non-null  datetime64[ns]\n",
      " 3   tutorial_id     41201 non-null  float64       \n",
      " 4   user_id         82779 non-null  int64         \n",
      " 5   id              82779 non-null  int64         \n",
      "dtypes: datetime64[ns](1), float64(1), int64(2), object(2)\n",
      "memory usage: 3.8+ MB\n"
     ]
    }
   ],
   "source": [
    "events_df['start_time'] = pd.to_datetime(events_df['start_time'])\n",
    "events_df.info()"
   ]
  },
  {
   "cell_type": "code",
   "execution_count": 6,
   "metadata": {},
   "outputs": [
    {
     "name": "stdout",
     "output_type": "stream",
     "text": [
      "<class 'pandas.core.frame.DataFrame'>\n",
      "Int64Index: 10198 entries, 13 to 82775\n",
      "Data columns (total 6 columns):\n",
      " #   Column          Non-Null Count  Dtype         \n",
      "---  ------          --------------  -----         \n",
      " 0   event_type      10198 non-null  object        \n",
      " 1   selected_level  10198 non-null  object        \n",
      " 2   start_time      10198 non-null  datetime64[ns]\n",
      " 3   tutorial_id     0 non-null      float64       \n",
      " 4   user_id         10198 non-null  int64         \n",
      " 5   id              10198 non-null  int64         \n",
      "dtypes: datetime64[ns](1), float64(1), int64(2), object(2)\n",
      "memory usage: 557.7+ KB\n"
     ]
    }
   ],
   "source": [
    "# Проверим причины появления в нашем датафрейме пропущенных значений. Для этого сделаем срез\n",
    "# датафрейма, который будет содержать только строки со значением 'level_choice' в столбце 'event_type'\n",
    "events_df[events_df['event_type'] == 'level_choice'].info()"
   ]
  },
  {
   "cell_type": "markdown",
   "metadata": {},
   "source": [
    "Как видно, этот срез датафрейма не содержит пропущенных значений в столбце **\"selected_level\"**, но зато содержит пропуски \n",
    "в **\"tutorial_id\"**. Это связано с тем, что для событий типа **\"level_choice\"** не предусмотрена запись параметра **\"tutorial_id\"**."
   ]
  },
  {
   "cell_type": "code",
   "execution_count": 7,
   "metadata": {},
   "outputs": [
    {
     "name": "stdout",
     "output_type": "stream",
     "text": [
      "<class 'pandas.core.frame.DataFrame'>\n",
      "Int64Index: 41201 entries, 6 to 82778\n",
      "Data columns (total 6 columns):\n",
      " #   Column          Non-Null Count  Dtype         \n",
      "---  ------          --------------  -----         \n",
      " 0   event_type      41201 non-null  object        \n",
      " 1   selected_level  0 non-null      object        \n",
      " 2   start_time      41201 non-null  datetime64[ns]\n",
      " 3   tutorial_id     41201 non-null  float64       \n",
      " 4   user_id         41201 non-null  int64         \n",
      " 5   id              41201 non-null  int64         \n",
      "dtypes: datetime64[ns](1), float64(1), int64(2), object(2)\n",
      "memory usage: 2.2+ MB\n"
     ]
    }
   ],
   "source": [
    "# Далее сделаем сред датафрейма, который будет содержать только строки со значением \n",
    "# 'tutorial_start' и 'tutorial_finish' в столбце 'event_type' \n",
    "events_df[events_df['event_type'].isin(['tutorial_start', 'tutorial_finish'])].info()"
   ]
  },
  {
   "cell_type": "markdown",
   "metadata": {},
   "source": [
    "Мы видим, что столбец **\"selected_level\"** в таком срезе не содержит ни одного значения. Это связано с тем, что для событий, связанных с обучением, отсутствуют параметры выбора уровня сложности **\"selected_level\"**. А вот остальные столбцы заполнены полностью."
   ]
  },
  {
   "cell_type": "code",
   "execution_count": 8,
   "metadata": {},
   "outputs": [
    {
     "data": {
      "text/html": [
       "<div>\n",
       "<style scoped>\n",
       "    .dataframe tbody tr th:only-of-type {\n",
       "        vertical-align: middle;\n",
       "    }\n",
       "\n",
       "    .dataframe tbody tr th {\n",
       "        vertical-align: top;\n",
       "    }\n",
       "\n",
       "    .dataframe thead th {\n",
       "        text-align: right;\n",
       "    }\n",
       "</style>\n",
       "<table border=\"1\" class=\"dataframe\">\n",
       "  <thead>\n",
       "    <tr style=\"text-align: right;\">\n",
       "      <th></th>\n",
       "      <th>event_type</th>\n",
       "      <th>selected_level</th>\n",
       "      <th>start_time</th>\n",
       "      <th>tutorial_id</th>\n",
       "      <th>user_id</th>\n",
       "      <th>id</th>\n",
       "    </tr>\n",
       "  </thead>\n",
       "  <tbody>\n",
       "    <tr>\n",
       "      <th>count</th>\n",
       "      <td>82779</td>\n",
       "      <td>10198</td>\n",
       "      <td>82779</td>\n",
       "      <td>41201.000000</td>\n",
       "      <td>82779.000000</td>\n",
       "      <td>82779.000000</td>\n",
       "    </tr>\n",
       "    <tr>\n",
       "      <th>unique</th>\n",
       "      <td>5</td>\n",
       "      <td>3</td>\n",
       "      <td>82622</td>\n",
       "      <td>NaN</td>\n",
       "      <td>NaN</td>\n",
       "      <td>NaN</td>\n",
       "    </tr>\n",
       "    <tr>\n",
       "      <th>top</th>\n",
       "      <td>registration</td>\n",
       "      <td>medium</td>\n",
       "      <td>2018-03-01 09:53:30</td>\n",
       "      <td>NaN</td>\n",
       "      <td>NaN</td>\n",
       "      <td>NaN</td>\n",
       "    </tr>\n",
       "    <tr>\n",
       "      <th>freq</th>\n",
       "      <td>24460</td>\n",
       "      <td>5776</td>\n",
       "      <td>4</td>\n",
       "      <td>NaN</td>\n",
       "      <td>NaN</td>\n",
       "      <td>NaN</td>\n",
       "    </tr>\n",
       "    <tr>\n",
       "      <th>first</th>\n",
       "      <td>NaN</td>\n",
       "      <td>NaN</td>\n",
       "      <td>2018-01-01 04:51:58</td>\n",
       "      <td>NaN</td>\n",
       "      <td>NaN</td>\n",
       "      <td>NaN</td>\n",
       "    </tr>\n",
       "    <tr>\n",
       "      <th>last</th>\n",
       "      <td>NaN</td>\n",
       "      <td>NaN</td>\n",
       "      <td>2019-01-01 09:03:24</td>\n",
       "      <td>NaN</td>\n",
       "      <td>NaN</td>\n",
       "      <td>NaN</td>\n",
       "    </tr>\n",
       "    <tr>\n",
       "      <th>mean</th>\n",
       "      <td>NaN</td>\n",
       "      <td>NaN</td>\n",
       "      <td>NaN</td>\n",
       "      <td>60853.276207</td>\n",
       "      <td>59932.814446</td>\n",
       "      <td>188656.000568</td>\n",
       "    </tr>\n",
       "    <tr>\n",
       "      <th>std</th>\n",
       "      <td>NaN</td>\n",
       "      <td>NaN</td>\n",
       "      <td>NaN</td>\n",
       "      <td>6525.340246</td>\n",
       "      <td>7074.775488</td>\n",
       "      <td>23896.384413</td>\n",
       "    </tr>\n",
       "    <tr>\n",
       "      <th>min</th>\n",
       "      <td>NaN</td>\n",
       "      <td>NaN</td>\n",
       "      <td>NaN</td>\n",
       "      <td>49555.000000</td>\n",
       "      <td>47758.000000</td>\n",
       "      <td>147264.000000</td>\n",
       "    </tr>\n",
       "    <tr>\n",
       "      <th>25%</th>\n",
       "      <td>NaN</td>\n",
       "      <td>NaN</td>\n",
       "      <td>NaN</td>\n",
       "      <td>55199.000000</td>\n",
       "      <td>53769.500000</td>\n",
       "      <td>167961.500000</td>\n",
       "    </tr>\n",
       "    <tr>\n",
       "      <th>50%</th>\n",
       "      <td>NaN</td>\n",
       "      <td>NaN</td>\n",
       "      <td>NaN</td>\n",
       "      <td>60863.000000</td>\n",
       "      <td>59943.000000</td>\n",
       "      <td>188656.000000</td>\n",
       "    </tr>\n",
       "    <tr>\n",
       "      <th>75%</th>\n",
       "      <td>NaN</td>\n",
       "      <td>NaN</td>\n",
       "      <td>NaN</td>\n",
       "      <td>66510.000000</td>\n",
       "      <td>66061.000000</td>\n",
       "      <td>209350.500000</td>\n",
       "    </tr>\n",
       "    <tr>\n",
       "      <th>max</th>\n",
       "      <td>NaN</td>\n",
       "      <td>NaN</td>\n",
       "      <td>NaN</td>\n",
       "      <td>72153.000000</td>\n",
       "      <td>72217.000000</td>\n",
       "      <td>230056.000000</td>\n",
       "    </tr>\n",
       "  </tbody>\n",
       "</table>\n",
       "</div>"
      ],
      "text/plain": [
       "          event_type selected_level           start_time   tutorial_id  \\\n",
       "count          82779          10198                82779  41201.000000   \n",
       "unique             5              3                82622           NaN   \n",
       "top     registration         medium  2018-03-01 09:53:30           NaN   \n",
       "freq           24460           5776                    4           NaN   \n",
       "first            NaN            NaN  2018-01-01 04:51:58           NaN   \n",
       "last             NaN            NaN  2019-01-01 09:03:24           NaN   \n",
       "mean             NaN            NaN                  NaN  60853.276207   \n",
       "std              NaN            NaN                  NaN   6525.340246   \n",
       "min              NaN            NaN                  NaN  49555.000000   \n",
       "25%              NaN            NaN                  NaN  55199.000000   \n",
       "50%              NaN            NaN                  NaN  60863.000000   \n",
       "75%              NaN            NaN                  NaN  66510.000000   \n",
       "max              NaN            NaN                  NaN  72153.000000   \n",
       "\n",
       "             user_id             id  \n",
       "count   82779.000000   82779.000000  \n",
       "unique           NaN            NaN  \n",
       "top              NaN            NaN  \n",
       "freq             NaN            NaN  \n",
       "first            NaN            NaN  \n",
       "last             NaN            NaN  \n",
       "mean    59932.814446  188656.000568  \n",
       "std      7074.775488   23896.384413  \n",
       "min     47758.000000  147264.000000  \n",
       "25%     53769.500000  167961.500000  \n",
       "50%     59943.000000  188656.000000  \n",
       "75%     66061.000000  209350.500000  \n",
       "max     72217.000000  230056.000000  "
      ]
     },
     "execution_count": 8,
     "metadata": {},
     "output_type": "execute_result"
    }
   ],
   "source": [
    "# Для исследования данных содержащихся в нашем датафрейме вызовем метод describe() \n",
    "# с ключом include='all' который позволит получить основные статистические данные по всем столбцам. \n",
    "events_df.describe(include='all')"
   ]
  },
  {
   "cell_type": "code",
   "execution_count": 9,
   "metadata": {},
   "outputs": [
    {
     "data": {
      "text/plain": [
       "array(['registration', 'tutorial_start', 'tutorial_finish',\n",
       "       'level_choice', 'training_choice'], dtype=object)"
      ]
     },
     "execution_count": 9,
     "metadata": {},
     "output_type": "execute_result"
    }
   ],
   "source": [
    "# Посмотрим, какие уникальные значения содержатся в столбце 'event_type':\n",
    "events_df['event_type'].unique()"
   ]
  },
  {
   "cell_type": "code",
   "execution_count": 10,
   "metadata": {},
   "outputs": [
    {
     "data": {
      "text/plain": [
       "array([nan, 'hard', 'easy', 'medium'], dtype=object)"
      ]
     },
     "execution_count": 10,
     "metadata": {},
     "output_type": "execute_result"
    }
   ],
   "source": [
    "# И в столбце 'selected_level':\n",
    "events_df['selected_level'].unique()"
   ]
  },
  {
   "cell_type": "markdown",
   "metadata": {},
   "source": [
    "#### Датафрейм с данными по оплатам пользователей (purchase_df)"
   ]
  },
  {
   "cell_type": "code",
   "execution_count": 11,
   "metadata": {},
   "outputs": [
    {
     "data": {
      "text/html": [
       "<div>\n",
       "<style scoped>\n",
       "    .dataframe tbody tr th:only-of-type {\n",
       "        vertical-align: middle;\n",
       "    }\n",
       "\n",
       "    .dataframe tbody tr th {\n",
       "        vertical-align: top;\n",
       "    }\n",
       "\n",
       "    .dataframe thead th {\n",
       "        text-align: right;\n",
       "    }\n",
       "</style>\n",
       "<table border=\"1\" class=\"dataframe\">\n",
       "  <thead>\n",
       "    <tr style=\"text-align: right;\">\n",
       "      <th></th>\n",
       "      <th>user_id</th>\n",
       "      <th>start_time</th>\n",
       "      <th>amount</th>\n",
       "      <th>id</th>\n",
       "    </tr>\n",
       "  </thead>\n",
       "  <tbody>\n",
       "    <tr>\n",
       "      <th>0</th>\n",
       "      <td>67986</td>\n",
       "      <td>2018-11-17 13:18:35</td>\n",
       "      <td>50</td>\n",
       "      <td>20103</td>\n",
       "    </tr>\n",
       "    <tr>\n",
       "      <th>1</th>\n",
       "      <td>58528</td>\n",
       "      <td>2018-06-23 23:24:43</td>\n",
       "      <td>100</td>\n",
       "      <td>19351</td>\n",
       "    </tr>\n",
       "    <tr>\n",
       "      <th>2</th>\n",
       "      <td>61351</td>\n",
       "      <td>2018-08-08 09:40:36</td>\n",
       "      <td>100</td>\n",
       "      <td>19565</td>\n",
       "    </tr>\n",
       "    <tr>\n",
       "      <th>3</th>\n",
       "      <td>48037</td>\n",
       "      <td>2018-01-10 13:08:34</td>\n",
       "      <td>50</td>\n",
       "      <td>18470</td>\n",
       "    </tr>\n",
       "    <tr>\n",
       "      <th>4</th>\n",
       "      <td>67987</td>\n",
       "      <td>2018-11-13 22:51:38</td>\n",
       "      <td>100</td>\n",
       "      <td>20087</td>\n",
       "    </tr>\n",
       "  </tbody>\n",
       "</table>\n",
       "</div>"
      ],
      "text/plain": [
       "   user_id           start_time  amount     id\n",
       "0    67986  2018-11-17 13:18:35      50  20103\n",
       "1    58528  2018-06-23 23:24:43     100  19351\n",
       "2    61351  2018-08-08 09:40:36     100  19565\n",
       "3    48037  2018-01-10 13:08:34      50  18470\n",
       "4    67987  2018-11-13 22:51:38     100  20087"
      ]
     },
     "execution_count": 11,
     "metadata": {},
     "output_type": "execute_result"
    }
   ],
   "source": [
    "# Выведем первые пять строк нашего датафрейма\n",
    "purchase_df.head(5)"
   ]
  },
  {
   "cell_type": "code",
   "execution_count": 12,
   "metadata": {},
   "outputs": [
    {
     "name": "stdout",
     "output_type": "stream",
     "text": [
      "<class 'pandas.core.frame.DataFrame'>\n",
      "RangeIndex: 1974 entries, 0 to 1973\n",
      "Data columns (total 4 columns):\n",
      " #   Column      Non-Null Count  Dtype \n",
      "---  ------      --------------  ----- \n",
      " 0   user_id     1974 non-null   int64 \n",
      " 1   start_time  1974 non-null   object\n",
      " 2   amount      1974 non-null   int64 \n",
      " 3   id          1974 non-null   int64 \n",
      "dtypes: int64(3), object(1)\n",
      "memory usage: 61.8+ KB\n"
     ]
    }
   ],
   "source": [
    "# Воспользуемся методом \"info()\" для первичного исследования датафрейма (общая информация, типы данных, пропущенные значения)\n",
    "purchase_df.info()"
   ]
  },
  {
   "cell_type": "markdown",
   "metadata": {},
   "source": [
    "Датафрейм purchase_df состоит из 1974 и 4 столбцов. Рассмотрим каждый столбец подробнее:\n",
    "- столбец **\"user_id\"** (уникальный идентификатор пользователя приложения) имеет тип данных \"int64\"; \n",
    "- столбец **\"start_time\"** (дата и время события) имеет тип данных \"object\";\n",
    "- столбец **\"amount\"** (идентификатор обучения) имеет тип данных \"int64\";\n",
    "- столбец **\"id\"** (идентификатор события) имеет тип данных \"int64\"\n",
    "\n",
    "Пропущенных значений данный датафрейм не содержит. Это значит, что для каждой строки в каждом столбце присутствует значение.\n",
    "\n",
    "Преобразуем столбец **\"start_time\"** в тип datetime с помощью метода pd.to_datetime():"
   ]
  },
  {
   "cell_type": "code",
   "execution_count": 13,
   "metadata": {},
   "outputs": [
    {
     "name": "stdout",
     "output_type": "stream",
     "text": [
      "<class 'pandas.core.frame.DataFrame'>\n",
      "RangeIndex: 1974 entries, 0 to 1973\n",
      "Data columns (total 4 columns):\n",
      " #   Column      Non-Null Count  Dtype         \n",
      "---  ------      --------------  -----         \n",
      " 0   user_id     1974 non-null   int64         \n",
      " 1   start_time  1974 non-null   datetime64[ns]\n",
      " 2   amount      1974 non-null   int64         \n",
      " 3   id          1974 non-null   int64         \n",
      "dtypes: datetime64[ns](1), int64(3)\n",
      "memory usage: 61.8 KB\n"
     ]
    }
   ],
   "source": [
    "purchase_df['start_time'] = pd.to_datetime(purchase_df['start_time'])\n",
    "purchase_df.info()"
   ]
  },
  {
   "cell_type": "code",
   "execution_count": 14,
   "metadata": {},
   "outputs": [
    {
     "data": {
      "text/html": [
       "<div>\n",
       "<style scoped>\n",
       "    .dataframe tbody tr th:only-of-type {\n",
       "        vertical-align: middle;\n",
       "    }\n",
       "\n",
       "    .dataframe tbody tr th {\n",
       "        vertical-align: top;\n",
       "    }\n",
       "\n",
       "    .dataframe thead th {\n",
       "        text-align: right;\n",
       "    }\n",
       "</style>\n",
       "<table border=\"1\" class=\"dataframe\">\n",
       "  <thead>\n",
       "    <tr style=\"text-align: right;\">\n",
       "      <th></th>\n",
       "      <th>user_id</th>\n",
       "      <th>start_time</th>\n",
       "      <th>amount</th>\n",
       "      <th>id</th>\n",
       "    </tr>\n",
       "  </thead>\n",
       "  <tbody>\n",
       "    <tr>\n",
       "      <th>count</th>\n",
       "      <td>1974.000000</td>\n",
       "      <td>1974</td>\n",
       "      <td>1974.000000</td>\n",
       "      <td>1974.000000</td>\n",
       "    </tr>\n",
       "    <tr>\n",
       "      <th>unique</th>\n",
       "      <td>NaN</td>\n",
       "      <td>1973</td>\n",
       "      <td>NaN</td>\n",
       "      <td>NaN</td>\n",
       "    </tr>\n",
       "    <tr>\n",
       "      <th>top</th>\n",
       "      <td>NaN</td>\n",
       "      <td>2018-04-19 15:42:47</td>\n",
       "      <td>NaN</td>\n",
       "      <td>NaN</td>\n",
       "    </tr>\n",
       "    <tr>\n",
       "      <th>freq</th>\n",
       "      <td>NaN</td>\n",
       "      <td>2</td>\n",
       "      <td>NaN</td>\n",
       "      <td>NaN</td>\n",
       "    </tr>\n",
       "    <tr>\n",
       "      <th>first</th>\n",
       "      <td>NaN</td>\n",
       "      <td>2018-01-03 07:30:09</td>\n",
       "      <td>NaN</td>\n",
       "      <td>NaN</td>\n",
       "    </tr>\n",
       "    <tr>\n",
       "      <th>last</th>\n",
       "      <td>NaN</td>\n",
       "      <td>2019-01-08 00:58:57</td>\n",
       "      <td>NaN</td>\n",
       "      <td>NaN</td>\n",
       "    </tr>\n",
       "    <tr>\n",
       "      <th>mean</th>\n",
       "      <td>59962.116515</td>\n",
       "      <td>NaN</td>\n",
       "      <td>107.801418</td>\n",
       "      <td>19432.507092</td>\n",
       "    </tr>\n",
       "    <tr>\n",
       "      <th>std</th>\n",
       "      <td>7033.436103</td>\n",
       "      <td>NaN</td>\n",
       "      <td>56.747492</td>\n",
       "      <td>570.020623</td>\n",
       "    </tr>\n",
       "    <tr>\n",
       "      <th>min</th>\n",
       "      <td>47771.000000</td>\n",
       "      <td>NaN</td>\n",
       "      <td>25.000000</td>\n",
       "      <td>18444.000000</td>\n",
       "    </tr>\n",
       "    <tr>\n",
       "      <th>25%</th>\n",
       "      <td>53891.500000</td>\n",
       "      <td>NaN</td>\n",
       "      <td>50.000000</td>\n",
       "      <td>18939.250000</td>\n",
       "    </tr>\n",
       "    <tr>\n",
       "      <th>50%</th>\n",
       "      <td>59930.000000</td>\n",
       "      <td>NaN</td>\n",
       "      <td>100.000000</td>\n",
       "      <td>19432.500000</td>\n",
       "    </tr>\n",
       "    <tr>\n",
       "      <th>75%</th>\n",
       "      <td>65953.750000</td>\n",
       "      <td>NaN</td>\n",
       "      <td>150.000000</td>\n",
       "      <td>19925.750000</td>\n",
       "    </tr>\n",
       "    <tr>\n",
       "      <th>max</th>\n",
       "      <td>72212.000000</td>\n",
       "      <td>NaN</td>\n",
       "      <td>350.000000</td>\n",
       "      <td>20427.000000</td>\n",
       "    </tr>\n",
       "  </tbody>\n",
       "</table>\n",
       "</div>"
      ],
      "text/plain": [
       "             user_id           start_time       amount            id\n",
       "count    1974.000000                 1974  1974.000000   1974.000000\n",
       "unique           NaN                 1973          NaN           NaN\n",
       "top              NaN  2018-04-19 15:42:47          NaN           NaN\n",
       "freq             NaN                    2          NaN           NaN\n",
       "first            NaN  2018-01-03 07:30:09          NaN           NaN\n",
       "last             NaN  2019-01-08 00:58:57          NaN           NaN\n",
       "mean    59962.116515                  NaN   107.801418  19432.507092\n",
       "std      7033.436103                  NaN    56.747492    570.020623\n",
       "min     47771.000000                  NaN    25.000000  18444.000000\n",
       "25%     53891.500000                  NaN    50.000000  18939.250000\n",
       "50%     59930.000000                  NaN   100.000000  19432.500000\n",
       "75%     65953.750000                  NaN   150.000000  19925.750000\n",
       "max     72212.000000                  NaN   350.000000  20427.000000"
      ]
     },
     "execution_count": 14,
     "metadata": {},
     "output_type": "execute_result"
    }
   ],
   "source": [
    "# Для исследования данных содержащихся в нашем датафрейме вызовем метод describe() \n",
    "# с ключом include='all' который позволит получить основные статистические данные по всем столбцам. \n",
    "purchase_df.describe(include='all')"
   ]
  },
  {
   "cell_type": "markdown",
   "metadata": {},
   "source": [
    "<a id=\"id_3\"></a>"
   ]
  },
  {
   "cell_type": "markdown",
   "metadata": {},
   "source": [
    "## Задача № 1. Анализ времени прохождения различных этапов"
   ]
  },
  {
   "cell_type": "markdown",
   "metadata": {},
   "source": [
    "### Подготовка  к анализу и проведение расчетов"
   ]
  },
  {
   "cell_type": "code",
   "execution_count": 15,
   "metadata": {},
   "outputs": [
    {
     "name": "stdout",
     "output_type": "stream",
     "text": [
      "\n",
      "Количество уникальных пользователей: 24460\n",
      "Количество пользователей, которые прошли обучение: 14551\n",
      "Количество пользователей, которые не проходили обучение, а сразу перешли к выбору уровня сложности: 9909\n"
     ]
    }
   ],
   "source": [
    "# Разобьем наших пользователей на группы. \n",
    "# В одной группе будут пользователи, которые проходили обучение (у таких пользователей присутствует \n",
    "# событие 'tutorial_start').\n",
    "# В другой группе буду пользователи, которые не проходили обучение, а сразу перешли к выбору \n",
    "# уровня сложности.\n",
    "\n",
    "users_with_tutorial = events_df[events_df['event_type'] == 'tutorial_start']['user_id'].unique()\n",
    "set_users_with_tutorial = set(users_with_tutorial)\n",
    "all_users = events_df[events_df['event_type']== 'registration']['user_id'].unique()\n",
    "set_all_users = set(all_users)\n",
    "set_users_wo_tutorial = set_all_users.difference(set_users_with_tutorial)\n",
    "print()\n",
    "print(f'Количество уникальных пользователей: {len(set_all_users)}')\n",
    "print(f'Количество пользователей, которые прошли обучение: {len(set_users_with_tutorial)}')\n",
    "print(f'Количество пользователей, которые не проходили обучение, а сразу перешли к выбору уровня сложности: {len(set_users_wo_tutorial)}')"
   ]
  },
  {
   "cell_type": "code",
   "execution_count": 16,
   "metadata": {},
   "outputs": [
    {
     "name": "stdout",
     "output_type": "stream",
     "text": [
      "Для пользователей, которые прошли обучение:\n",
      "\n",
      "Среднее время между временем регистрации и выбором уровня сложности: 0 days 07:10:02.233970 (430.04 минут)\n",
      "\n",
      "Среднее время между выбором уровня сложности и выбором тренировок: 0 days 00:05:09.649422 (5.16 минут)\n",
      "\n",
      "Среднее время между выбором тренировок и оплатой: 3 days 17:08:33.518916 (89.14 часов)\n",
      "\n",
      "----------------------------------------------\n",
      "\n",
      "Для пользователей, которые не начинали обучение:\n",
      "\n",
      "Среднее время между временем регистрации и выбором уровня сложности: 0 days 05:10:36.233644 (310.6 минут)\n",
      "\n",
      "Среднее время между выбором уровня сложности и выбором тренировок: 0 days 00:05:31.077922 (5.52 минут)\n",
      "\n",
      "Среднее время между выбором тренировок и оплатой: 3 days 23:07:16.111111 (95.12 часов)\n",
      "\n",
      "----------------------------------------------\n",
      "\n",
      "Разница во времени между этапом выбора уровня сложности и выбором набора тренировок составляет в среднем 6.75%\n",
      "Разница во времени между этапом выбором набора тренировок и оплаты составляет в среднем 6.50%\n"
     ]
    }
   ],
   "source": [
    "# Теперь рассчитаем для каждой группы пользователей среднее время между различными этапами:\n",
    "# - между временем регистрации и выбором уровня сложности;\n",
    "# - выбором уровня сложности и выбором тренировок;\n",
    "# - выбором тренировок и оплатой;\n",
    "\n",
    "user_groups = [\n",
    "    {'прошли обучение': set_users_with_tutorial},\n",
    "    {'не начинали обучение': set_users_wo_tutorial}\n",
    "]\n",
    "new_list_0 = ['Среднее время между регистрацией и выбором уровня сложности']\n",
    "new_list_1 = ['Среднее время между выбором уровня сложности и выбором тренировок']\n",
    "new_list_2 = ['Среднее время Среднее время между выбором тренировок и оплатой']\n",
    "for group in user_groups:\n",
    "    level = list(group.keys())[0]\n",
    "    group_users = group[level]\n",
    "    purchase_df_slice = purchase_df[purchase_df['user_id'].isin(group_users)]\n",
    "    reg_df = events_df[(events_df['event_type'] == 'registration') & (events_df['user_id'].isin(group_users))]\n",
    "    level_choice_df = events_df[(events_df['event_type'] == 'level_choice') & (events_df['user_id'].isin(group_users))]\n",
    "    training_choice_df = events_df[(events_df['event_type'] == 'training_choice') & (events_df['user_id'].isin(group_users))]    \n",
    "    if (level_choice_df['user_id'].value_counts().mean()) == 1 and (training_choice_df['user_id'].value_counts().mean()) ==1 and (reg_df['user_id'].value_counts().mean()) == 1:\n",
    "        reg_df = reg_df[['user_id','start_time']].rename(columns={'start_time':'registration_time'})\n",
    "        level_choice_df = level_choice_df[['user_id','start_time']].rename(columns={'start_time':'level_choice_time'})\n",
    "        training_choice_df = training_choice_df[['user_id','start_time']].rename(columns={'start_time':'training_choice_time'})\n",
    "        purchase_df_slice = purchase_df_slice[['user_id','start_time']].rename(columns={'start_time':'purchase_time'})\n",
    "        \n",
    "        merged_df_0 =reg_df.merge(level_choice_df, how='inner', on='user_id')\n",
    "        merged_df_0['timedelta'] = merged_df_0['level_choice_time'] - merged_df_0['registration_time']\n",
    "        mean_time_0 = merged_df_0['timedelta'].mean()\n",
    "        \n",
    "        merged_df_1 = training_choice_df.merge(level_choice_df,on='user_id',how='inner')\n",
    "        merged_df_1['timedelta'] = merged_df_1['training_choice_time'] - merged_df_1['level_choice_time']\n",
    "        mean_time_1 = merged_df_1['timedelta'].mean()\n",
    "        \n",
    "        merged_df_2 = purchase_df_slice.merge(training_choice_df,on='user_id',how='inner')\n",
    "        merged_df_2['timedelta'] = merged_df_2['purchase_time'] - merged_df_2['training_choice_time']\n",
    "        mean_time_2 = merged_df_2['timedelta'].mean()\n",
    "        \n",
    "        print ('Для пользователей, которые {}:'.format(level))\n",
    "        print()\n",
    "        print ('Среднее время между временем регистрации и выбором уровня сложности: {} ({} минут)'.format(mean_time_0,round((merged_df_0['timedelta']/pd.Timedelta('1 minute')).mean(),2) ))\n",
    "        new_list_0.append(round((merged_df_0['timedelta']/pd.Timedelta('1 minute')).mean(),2))\n",
    "        print()\n",
    "        print ('Среднее время между выбором уровня сложности и выбором тренировок: {} ({} минут)'.format(mean_time_1, round((merged_df_1['timedelta']/pd.Timedelta('1 minute')).mean(),2)))\n",
    "        new_list_1.append(round((merged_df_1['timedelta']/pd.Timedelta('1 minute')).mean(),2))\n",
    "        print()\n",
    "        print ('Среднее время между выбором тренировок и оплатой: {} ({} часов)'.format( mean_time_2, round( ( merged_df_2['timedelta']/pd.Timedelta('1 hour') ).mean(),2 ) ))\n",
    "        new_list_2.append(round((merged_df_2['timedelta']/pd.Timedelta('1 hour')).mean(),2))\n",
    "        print()\n",
    "        print('----------------------------------------------')\n",
    "        print()\n",
    "    else:\n",
    "        print ('Более 1 события')\n",
    "\n",
    "# Создадим необходимые датафреймы для построения графиков.\n",
    "delta_time_list = []\n",
    "delta_time_list.append(new_list_0)\n",
    "delta_time_list.append(new_list_1)\n",
    "delta_time_list.append(new_list_2)\n",
    "\n",
    "delta_time_df = pd.DataFrame(delta_time_list, columns = ['event_type', 'pass', 'not_pass'])\n",
    "delta_time_df_reg_vs_level = delta_time_df.drop([1,2])\n",
    "delta_time_df_level_vs_choice = delta_time_df.drop([0,2])\n",
    "delta_time_df_choice_vs_purchase = delta_time_df.drop([0,1])\n",
    "\n",
    "# Посчитаем сколько процентов в среднем составляет разница во времени для каждого этапа\n",
    "level_vs_choice = ((delta_time_df['not_pass'][1] - delta_time_df['pass'][1])/delta_time_df['pass'][1] + (delta_time_df['not_pass'][1] - delta_time_df['pass'][1])/delta_time_df['not_pass'][1]) / 2\n",
    "choice_vs_purchase = ((delta_time_df['not_pass'][2] - delta_time_df['pass'][2])/delta_time_df['pass'][2] + (delta_time_df['not_pass'][2] - delta_time_df['pass'][2])/delta_time_df['not_pass'][2]) / 2\n",
    "print( 'Разница во времени между этапом выбора уровня сложности и выбором набора тренировок составляет в среднем {:.2%}'.format(level_vs_choice))\n",
    "print( 'Разница во времени между этапом выбором набора тренировок и оплаты составляет в среднем {:.2%}'.format(choice_vs_purchase))\n"
   ]
  },
  {
   "cell_type": "markdown",
   "metadata": {},
   "source": [
    "### Визуализация к задаче 1"
   ]
  },
  {
   "cell_type": "code",
   "execution_count": 17,
   "metadata": {},
   "outputs": [
    {
     "data": {
      "text/plain": [
       "<matplotlib.legend.Legend at 0x9a4dac8>"
      ]
     },
     "execution_count": 17,
     "metadata": {},
     "output_type": "execute_result"
    },
    {
     "data": {
      "image/png": "[encoded data removed]",
      "text/plain": [
       "<Figure size 1512x504 with 3 Axes>"
      ]
     },
     "metadata": {
      "needs_background": "light"
     },
     "output_type": "display_data"
    }
   ],
   "source": [
    "# Построим столбчатые диаграммы, которые отражают время прохождения различных этапов для пользователей двух наших групп \n",
    "fig, axes = plt.subplots(1, 3, figsize=(21,7))\n",
    "\n",
    "axes[0].set_ylim(0,550)\n",
    "axes[0].set_ylabel('Время, минуты')\n",
    "axes[0].bar(x = delta_time_df_reg_vs_level['event_type'], height = delta_time_df_reg_vs_level['pass'], width = 0.1, align='edge', label = 'прошли обучение')\n",
    "axes[0].bar(x = delta_time_df_reg_vs_level['event_type'], height = delta_time_df_reg_vs_level['not_pass'], width = -0.1, align='edge', label = 'не начинали обучение')\n",
    "axes[0].legend(loc = 1)\n",
    "\n",
    "axes[1].set_ylim(0,8)\n",
    "axes[1].set_ylabel('Время, минуты')\n",
    "axes[1].bar(x = delta_time_df_level_vs_choice['event_type'], height = delta_time_df_level_vs_choice['pass'], width = 0.1, align='edge', label = 'прошли обучение')\n",
    "axes[1].bar(x = delta_time_df_level_vs_choice['event_type'], height = delta_time_df_level_vs_choice['not_pass'], width = -0.1, align='edge', label = 'не начинали обучение')\n",
    "axes[1].legend(loc = 1)\n",
    "\n",
    "axes[2].set_ylim(0,120)\n",
    "axes[2].set_ylabel('Время, часы')\n",
    "axes[2].bar(x = delta_time_df_choice_vs_purchase['event_type'], height = delta_time_df_choice_vs_purchase['pass'], width = 0.1, align='edge', label = 'прошли обучение')\n",
    "axes[2].bar(x = delta_time_df_choice_vs_purchase['event_type'], height = delta_time_df_choice_vs_purchase['not_pass'], width = -0.1, align='edge', label = 'не начинали обучение')\n",
    "axes[2].legend(loc = 1)"
   ]
  },
  {
   "cell_type": "markdown",
   "metadata": {},
   "source": [
    "### Краткие выводы по задаче 1"
   ]
  },
  {
   "cell_type": "markdown",
   "metadata": {},
   "source": [
    "**Первый этап**: между регистрацией и выбором уровня сложности мы видим, что среднее время прохождения данного этапа меньше у тех пользователей, которые не проходили обучение. Скорее всего это связано с тем, что на прохождение обучения затрачивается дополнительное время, поэтому данный этап не подходит для анализа.\n",
    "\n",
    "**Следующий этап**: между выбором уровня сложности и выбором набора тренировок. Здесь мы видим, что среднее время прохождения данного этапа меньше у тех пользователей, которые прошли обучение. Правда разница во времени небольшая (5.52 минуты - 5.16 минут = 0,36 минут, т.е примерно полминуты). В относительных величинах разница составляет примерно 6,75 %  \n",
    "\n",
    "**Последний этап**: между выбором набора тренировок и оплатой. Среднее время прохождения данного этапа также меньше у пользователей, прошедших обучение чем у пользователей, которые обучение не проходили. Разница в среднем составляет около 6 часов в абсолютных значениях. Но так как на данный этап пользователи в среднем тратят более 3-х дней, то в относительных показателях разница получается небольшая (в среднем примерно 6,5%). \n",
    "\n",
    "**Вывод**: прохождение обучения сокращает среднее время прохождения этапов примерно на 6,6 %"
   ]
  },
  {
   "cell_type": "markdown",
   "metadata": {},
   "source": [
    "<a id=\"id_4\"></a>"
   ]
  },
  {
   "cell_type": "markdown",
   "metadata": {},
   "source": [
    "## Задача № 2. Анализ зависимости между вероятностью оплаты тренировки и пройденного обучения"
   ]
  },
  {
   "cell_type": "markdown",
   "metadata": {},
   "source": [
    "### Подготовка  к анализу и проведение расчетов"
   ]
  },
  {
   "cell_type": "code",
   "execution_count": 18,
   "metadata": {},
   "outputs": [
    {
     "data": {
      "text/plain": [
       "array([9, 8, 7, 6, 5, 4, 3, 2, 1], dtype=int64)"
      ]
     },
     "execution_count": 18,
     "metadata": {},
     "output_type": "execute_result"
    }
   ],
   "source": [
    "# Создадим датафрейм в котором будут содержаться два столбца: user_id и количество обучений, \n",
    "# который данный пользователь совершил. \n",
    "# Посмотрим какое количество обучений совершали наши пользователи.\n",
    "users_with_f_tutorial = events_df[events_df['event_type'] == 'tutorial_finish']\n",
    "users_with_f_tutorial = users_with_f_tutorial['user_id'].value_counts()\n",
    "df_temp = pd.DataFrame({'user_id':users_with_f_tutorial.index, 'count':users_with_f_tutorial.values})\n",
    "df_temp['count'].unique()"
   ]
  },
  {
   "cell_type": "code",
   "execution_count": 19,
   "metadata": {},
   "outputs": [
    {
     "name": "stdout",
     "output_type": "stream",
     "text": [
      "Процент пользователей, оплативших тренировки (от числа пользователей, которые ни разу не начинали обучение): 0.18%\n",
      "\n",
      "Процент пользователей, оплативших тренировки (от числа пользователей, завершивших обучение 1 раз): 14.05%\n",
      "\n",
      "Процент пользователей, оплативших тренировки (от числа пользователей, завершивших обучение 2 раза): 14.70%\n",
      "\n",
      "Процент пользователей, оплативших тренировки (от числа пользователей, завершивших обучение 3 раза): 15.81%\n",
      "\n",
      "Процент пользователей, оплативших тренировки (от числа пользователей, завершивших обучение 4 раза): 14.72%\n",
      "\n",
      "Процент пользователей, оплативших тренировки (от числа пользователей, завершивших обучение 5 раз): 13.25%\n",
      "\n",
      "Процент пользователей, оплативших тренировки (от числа пользователей, завершивших обучение 6 раз): 15.06%\n",
      "\n",
      "Процент пользователей, оплативших тренировки (от числа пользователей, завершивших обучение 7 раз): 12.70%\n",
      "\n",
      "Процент пользователей, оплативших тренировки (от числа пользователей, завершивших обучение 8 раз): 15.38%\n",
      "\n",
      "Процент пользователей, оплативших тренировки (от числа пользователей, завершивших обучение 9 раз): 18.52%\n",
      "\n",
      "В среднем тренировки оплачивают 14.91% пользователей хотя бы раз прошедших обучение. Доля пользователей, покупающих тренировки, которые ни разу не проходили обучение ничтожно мала и составляет около 0.18%.\n",
      "\n",
      "Количество пользователей, которые проходили обучение хотя бы раз (в порядке возрастания количества обучений: [9721, 1599, 430, 231, 166, 166, 126, 65, 27])\n",
      "\n",
      "Количество пользователей, которые оплатили тренировки после пройденного(-ых) обучений (в порядке возрастания количества обучений: [1366, 235, 68, 34, 22, 25, 16, 10, 5])\n"
     ]
    }
   ],
   "source": [
    "# Итак, наши пользователи, которые проходили обучение, делали это от 1 до 9 раз.\n",
    "# Посчитаем сначала какой процент пользователей оплатили тренировки из числа тех, кто не совершал \n",
    "# обучение. \n",
    "# Затем создадим группы пользователей и для каждой группы посчитаем процент пользователей \n",
    "# оплативших тренировки.\n",
    "# Результат запишем в новый датафрем.\n",
    "purchase_df_2 = purchase_df[purchase_df['user_id'].isin(set_users_wo_tutorial)]\n",
    "purchase_df_2['user_id'].nunique()\n",
    "if (purchase_df_2['user_id'].value_counts().mean()) == 1:\n",
    "    percent_of_purchase_2 = purchase_df_2['user_id'].nunique()/len(set_users_wo_tutorial)\n",
    "    print ('Процент пользователей, оплативших тренировки (от числа пользователей, которые ни разу не начинали обучение): {:.2%}'.format(percent_of_purchase_2))\n",
    "    print()\n",
    "else:\n",
    "    print ('Более 1 события')\n",
    "s = []\n",
    "d = {}\n",
    "d[0] = round(percent_of_purchase_2*100, 2)\n",
    "users_count_list = []\n",
    "users_pay_count_list = []\n",
    "for i in range(1,10):\n",
    "    users_w_tutorials = df_temp[df_temp['count'] == i]['user_id']\n",
    "    set_users_w_tutorials = set(users_w_tutorials)\n",
    "    users_count_list.append(len(set_users_w_tutorials))\n",
    "    purchase_df_t = purchase_df[purchase_df['user_id'].isin(set_users_w_tutorials)]\n",
    "    users_pay_count_list.append(len(purchase_df_t))\n",
    "    percent_of_purchase = purchase_df_t['user_id'].nunique()/len(set_users_w_tutorials)\n",
    "    s.append(percent_of_purchase)\n",
    "    d[i] = round(percent_of_purchase*100, 2)\n",
    "    if 1 < i <= 4:\n",
    "        print ('Процент пользователей, оплативших тренировки (от числа пользователей, завершивших обучение {} раза): {:.2%}'.format(i, percent_of_purchase))\n",
    "        print()\n",
    "    else:    \n",
    "        print ('Процент пользователей, оплативших тренировки (от числа пользователей, завершивших обучение {} раз): {:.2%}'.format(i, percent_of_purchase)) \n",
    "        print()\n",
    "print('В среднем тренировки оплачивают {:.2%} пользователей хотя бы раз прошедших обучение. Доля пользователей, покупающих тренировки, которые ни разу не проходили обучение ничтожно мала и составляет около {:.2%}.'.format(sum(s)/len(s), percent_of_purchase_2))\n",
    "print()\n",
    "print('Количество пользователей, которые проходили обучение хотя бы раз (в порядке возрастания количества обучений: {})'.format(users_count_list))\n",
    "print()\n",
    "print('Количество пользователей, которые оплатили тренировки после пройденного(-ых) обучений (в порядке возрастания количества обучений: {})'.format(users_pay_count_list))\n",
    "df_pers = pd.DataFrame(pd.Series(d), columns=['persent_of_purchase'])"
   ]
  },
  {
   "cell_type": "markdown",
   "metadata": {},
   "source": [
    "### Визуализация к задаче 2"
   ]
  },
  {
   "cell_type": "code",
   "execution_count": 20,
   "metadata": {},
   "outputs": [
    {
     "data": {
      "image/png": "[encoded data removed]",
      "text/plain": [
       "<Figure size 432x288 with 1 Axes>"
      ]
     },
     "metadata": {},
     "output_type": "display_data"
    }
   ],
   "source": [
    "# Круговая диаграмма показывает процент оплат для группы пользователей в зависимости от \n",
    "# количества законченных обучений.\n",
    "labels = df_pers.index\n",
    "sizes = df_pers['persent_of_purchase']\n",
    "explode = (0.3, 0.2, 0.2, 0.2, 0.2, 0.2, 0.2, 0.2, 0.2, 0.2)\n",
    "fig1, ax1 = plt.subplots()\n",
    "ax1.pie(sizes, explode=explode, labels=labels, labeldistance=1.1, autopct='%2.2f%%',\n",
    "        shadow=False, startangle=180, pctdistance = 0.7, wedgeprops = {'linewidth': 5})\n",
    "ax1.axis('tight')\n",
    "plt.show()"
   ]
  },
  {
   "cell_type": "code",
   "execution_count": 21,
   "metadata": {},
   "outputs": [
    {
     "data": {
      "text/plain": [
       "<matplotlib.axes._subplots.AxesSubplot at 0x9948c88>"
      ]
     },
     "execution_count": 21,
     "metadata": {},
     "output_type": "execute_result"
    },
    {
     "data": {
      "image/png": "[encoded data removed]",
      "text/plain": [
       "<Figure size 432x288 with 1 Axes>"
      ]
     },
     "metadata": {
      "needs_background": "light"
     },
     "output_type": "display_data"
    }
   ],
   "source": [
    "# Также построим горизонтальную столбчатую диаграмму\n",
    "df_pers['persent_of_purchase'].plot(kind='barh', grid=False, colormap='summer', title='Процент пользователей, оплативших тренировки (по количеству завершенных обучений)')"
   ]
  },
  {
   "cell_type": "code",
   "execution_count": 22,
   "metadata": {},
   "outputs": [
    {
     "data": {
      "text/plain": [
       "<matplotlib.axes._subplots.AxesSubplot at 0xadd8d48>"
      ]
     },
     "execution_count": 22,
     "metadata": {},
     "output_type": "execute_result"
    },
    {
     "data": {
      "image/png": "[encoded data removed]",
      "text/plain": [
       "<Figure size 432x288 with 1 Axes>"
      ]
     },
     "metadata": {
      "needs_background": "light"
     },
     "output_type": "display_data"
    }
   ],
   "source": [
    "# Дополнительно построим линейный график. Он наглядно иллюстрирует линию тренда.\n",
    "# Удалим первую строку в нашем датафрейме, т.к. она содержит информацию о пользователях,\n",
    "# не прошедших обучение.\n",
    "df_pers_1 = df_pers.drop([0])\n",
    "df_pers_1['persent_of_purchase'].plot()"
   ]
  },
  {
   "cell_type": "markdown",
   "metadata": {},
   "source": [
    "### Краткие выводы по задаче 2"
   ]
  },
  {
   "cell_type": "markdown",
   "metadata": {},
   "source": [
    "В результате проведенного исследования, можно сделать следующий вывод: пользователи которые проходили обучение чаще покупают платные тренировки чем пользователи, которые обучения не проходили. В среднем тренировки оплачивают около 15% пользователей, которые проходили обучение хотя бы 1 раз. Доля пользователей, покупающих тренировки, которые ни разу не проходили обучение ничтожно мала и составляет около 0.18%.\n",
    "\n",
    "Рассмотрим зависимость вероятности оплаты тренировки от количества обучений, которые завершил пользователь. В нижеприведенной таблице указаны полученные показатели в ходе исследования:\n",
    "\n",
    "\n",
    "|Количество завершенных обучений|Процент оплативших пользователей|Количество пользователей|\n",
    "|:------:|:------:|:-----:|\n",
    "|1\t  |14.05%|9721 |\n",
    "|2\t  |14.70%|1599|\n",
    "|3\t  |15.81%| 430|\n",
    "|4\t  |14.72%|231|\n",
    "|5    |13.25%|166|\n",
    "|7    |12.70%|126|\n",
    "|8\t  |15.38%| 65|\n",
    "|9\t  |18.52%| 27|\n",
    "\n",
    "\n",
    "Проанализировав полученные результаты, мы видим, что несмотря на то, что, хотя процентное соотношение пользователей изменяется с увеличением количества завершенных обучений, сделать однозначно сказать, что с увеличением количества завершенных обучений возрастает вероятность оплаты. В целом изменения составляют ± 2-3% что находится в пределах статистической погрешности. Также мы видим, что очень малая часть пользователей совершает повторные обучения. Например, если одно обучение завершили почти 10 тыс. пользователей, то 9 обучений прошли только 27. Имея подобные аномалии в данных невозможно достоверно подтвердить гипотезу о том, что с ростом количества обучений возрастает вероятность оплаты."
   ]
  },
  {
   "cell_type": "markdown",
   "metadata": {},
   "source": [
    "<a id=\"id_5\"></a>"
   ]
  },
  {
   "cell_type": "markdown",
   "metadata": {},
   "source": [
    "## Дополнительная задача. Анализ поведения пользователей"
   ]
  },
  {
   "cell_type": "markdown",
   "metadata": {},
   "source": [
    "### Подготовка  к анализу и проведение расчетов"
   ]
  },
  {
   "cell_type": "code",
   "execution_count": 23,
   "metadata": {},
   "outputs": [
    {
     "data": {
      "text/html": [
       "<div>\n",
       "<style scoped>\n",
       "    .dataframe tbody tr th:only-of-type {\n",
       "        vertical-align: middle;\n",
       "    }\n",
       "\n",
       "    .dataframe tbody tr th {\n",
       "        vertical-align: top;\n",
       "    }\n",
       "\n",
       "    .dataframe thead th {\n",
       "        text-align: right;\n",
       "    }\n",
       "</style>\n",
       "<table border=\"1\" class=\"dataframe\">\n",
       "  <thead>\n",
       "    <tr style=\"text-align: right;\">\n",
       "      <th></th>\n",
       "      <th>user_id</th>\n",
       "      <th>start_time</th>\n",
       "      <th>amount</th>\n",
       "      <th>purchase_id</th>\n",
       "      <th>event_type</th>\n",
       "    </tr>\n",
       "  </thead>\n",
       "  <tbody>\n",
       "    <tr>\n",
       "      <th>0</th>\n",
       "      <td>67986</td>\n",
       "      <td>2018-11-17 13:18:35</td>\n",
       "      <td>50</td>\n",
       "      <td>20103</td>\n",
       "      <td>purchase</td>\n",
       "    </tr>\n",
       "    <tr>\n",
       "      <th>1</th>\n",
       "      <td>58528</td>\n",
       "      <td>2018-06-23 23:24:43</td>\n",
       "      <td>100</td>\n",
       "      <td>19351</td>\n",
       "      <td>purchase</td>\n",
       "    </tr>\n",
       "    <tr>\n",
       "      <th>2</th>\n",
       "      <td>61351</td>\n",
       "      <td>2018-08-08 09:40:36</td>\n",
       "      <td>100</td>\n",
       "      <td>19565</td>\n",
       "      <td>purchase</td>\n",
       "    </tr>\n",
       "    <tr>\n",
       "      <th>3</th>\n",
       "      <td>48037</td>\n",
       "      <td>2018-01-10 13:08:34</td>\n",
       "      <td>50</td>\n",
       "      <td>18470</td>\n",
       "      <td>purchase</td>\n",
       "    </tr>\n",
       "    <tr>\n",
       "      <th>4</th>\n",
       "      <td>67987</td>\n",
       "      <td>2018-11-13 22:51:38</td>\n",
       "      <td>100</td>\n",
       "      <td>20087</td>\n",
       "      <td>purchase</td>\n",
       "    </tr>\n",
       "  </tbody>\n",
       "</table>\n",
       "</div>"
      ],
      "text/plain": [
       "   user_id          start_time  amount  purchase_id event_type\n",
       "0    67986 2018-11-17 13:18:35      50        20103   purchase\n",
       "1    58528 2018-06-23 23:24:43     100        19351   purchase\n",
       "2    61351 2018-08-08 09:40:36     100        19565   purchase\n",
       "3    48037 2018-01-10 13:08:34      50        18470   purchase\n",
       "4    67987 2018-11-13 22:51:38     100        20087   purchase"
      ]
     },
     "execution_count": 23,
     "metadata": {},
     "output_type": "execute_result"
    }
   ],
   "source": [
    "# Подготовим датафрейм с оплатами для объединения с датафреймом с событиями.\n",
    "# Для этого создадим новый столбец 'event_type' со значением 'purchase'\n",
    "# Столбец 'id' переименуем в 'purchase_id'.\n",
    "# Проверим что все было выполнено правильно, для этого отобразим первые 5 строк датафрейма\n",
    "purchase_df['event_type'] = 'purchase'\n",
    "purchase_df = purchase_df.rename(columns={'id':'purchase_id'})\n",
    "purchase_df.head(5)"
   ]
  },
  {
   "cell_type": "code",
   "execution_count": 24,
   "metadata": {},
   "outputs": [
    {
     "data": {
      "text/html": [
       "<div>\n",
       "<style scoped>\n",
       "    .dataframe tbody tr th:only-of-type {\n",
       "        vertical-align: middle;\n",
       "    }\n",
       "\n",
       "    .dataframe tbody tr th {\n",
       "        vertical-align: top;\n",
       "    }\n",
       "\n",
       "    .dataframe thead th {\n",
       "        text-align: right;\n",
       "    }\n",
       "</style>\n",
       "<table border=\"1\" class=\"dataframe\">\n",
       "  <thead>\n",
       "    <tr style=\"text-align: right;\">\n",
       "      <th></th>\n",
       "      <th>event_type</th>\n",
       "      <th>selected_level</th>\n",
       "      <th>start_time</th>\n",
       "      <th>tutorial_id</th>\n",
       "      <th>user_id</th>\n",
       "      <th>event_id</th>\n",
       "    </tr>\n",
       "  </thead>\n",
       "  <tbody>\n",
       "    <tr>\n",
       "      <th>0</th>\n",
       "      <td>registration</td>\n",
       "      <td>NaN</td>\n",
       "      <td>2018-01-01 04:51:58</td>\n",
       "      <td>NaN</td>\n",
       "      <td>47758</td>\n",
       "      <td>147264</td>\n",
       "    </tr>\n",
       "    <tr>\n",
       "      <th>1</th>\n",
       "      <td>registration</td>\n",
       "      <td>NaN</td>\n",
       "      <td>2018-01-01 08:32:05</td>\n",
       "      <td>NaN</td>\n",
       "      <td>47759</td>\n",
       "      <td>147268</td>\n",
       "    </tr>\n",
       "    <tr>\n",
       "      <th>2</th>\n",
       "      <td>registration</td>\n",
       "      <td>NaN</td>\n",
       "      <td>2018-01-01 09:30:10</td>\n",
       "      <td>NaN</td>\n",
       "      <td>47760</td>\n",
       "      <td>147269</td>\n",
       "    </tr>\n",
       "    <tr>\n",
       "      <th>3</th>\n",
       "      <td>registration</td>\n",
       "      <td>NaN</td>\n",
       "      <td>2018-01-01 09:39:27</td>\n",
       "      <td>NaN</td>\n",
       "      <td>47761</td>\n",
       "      <td>147270</td>\n",
       "    </tr>\n",
       "    <tr>\n",
       "      <th>4</th>\n",
       "      <td>registration</td>\n",
       "      <td>NaN</td>\n",
       "      <td>2018-01-01 11:41:27</td>\n",
       "      <td>NaN</td>\n",
       "      <td>47762</td>\n",
       "      <td>147271</td>\n",
       "    </tr>\n",
       "  </tbody>\n",
       "</table>\n",
       "</div>"
      ],
      "text/plain": [
       "     event_type selected_level          start_time  tutorial_id  user_id  \\\n",
       "0  registration            NaN 2018-01-01 04:51:58          NaN    47758   \n",
       "1  registration            NaN 2018-01-01 08:32:05          NaN    47759   \n",
       "2  registration            NaN 2018-01-01 09:30:10          NaN    47760   \n",
       "3  registration            NaN 2018-01-01 09:39:27          NaN    47761   \n",
       "4  registration            NaN 2018-01-01 11:41:27          NaN    47762   \n",
       "\n",
       "   event_id  \n",
       "0    147264  \n",
       "1    147268  \n",
       "2    147269  \n",
       "3    147270  \n",
       "4    147271  "
      ]
     },
     "execution_count": 24,
     "metadata": {},
     "output_type": "execute_result"
    }
   ],
   "source": [
    "# В датафрейме с событиями также изменим название столбца 'id' на 'event_id'\n",
    "events_df = events_df.rename(columns={'id':'event_id'})\n",
    "events_df.head(5)"
   ]
  },
  {
   "cell_type": "code",
   "execution_count": 25,
   "metadata": {},
   "outputs": [
    {
     "data": {
      "text/html": [
       "<div>\n",
       "<style scoped>\n",
       "    .dataframe tbody tr th:only-of-type {\n",
       "        vertical-align: middle;\n",
       "    }\n",
       "\n",
       "    .dataframe tbody tr th {\n",
       "        vertical-align: top;\n",
       "    }\n",
       "\n",
       "    .dataframe thead th {\n",
       "        text-align: right;\n",
       "    }\n",
       "</style>\n",
       "<table border=\"1\" class=\"dataframe\">\n",
       "  <thead>\n",
       "    <tr style=\"text-align: right;\">\n",
       "      <th></th>\n",
       "      <th>event_type</th>\n",
       "      <th>selected_level</th>\n",
       "      <th>start_time</th>\n",
       "      <th>tutorial_id</th>\n",
       "      <th>user_id</th>\n",
       "      <th>event_id</th>\n",
       "      <th>amount</th>\n",
       "      <th>purchase_id</th>\n",
       "    </tr>\n",
       "  </thead>\n",
       "  <tbody>\n",
       "    <tr>\n",
       "      <th>0</th>\n",
       "      <td>registration</td>\n",
       "      <td>NaN</td>\n",
       "      <td>2018-01-01 04:51:58</td>\n",
       "      <td>NaN</td>\n",
       "      <td>47758</td>\n",
       "      <td>147264.0</td>\n",
       "      <td>NaN</td>\n",
       "      <td>NaN</td>\n",
       "    </tr>\n",
       "    <tr>\n",
       "      <th>1</th>\n",
       "      <td>registration</td>\n",
       "      <td>NaN</td>\n",
       "      <td>2018-01-01 08:32:05</td>\n",
       "      <td>NaN</td>\n",
       "      <td>47759</td>\n",
       "      <td>147268.0</td>\n",
       "      <td>NaN</td>\n",
       "      <td>NaN</td>\n",
       "    </tr>\n",
       "    <tr>\n",
       "      <th>2</th>\n",
       "      <td>registration</td>\n",
       "      <td>NaN</td>\n",
       "      <td>2018-01-01 09:30:10</td>\n",
       "      <td>NaN</td>\n",
       "      <td>47760</td>\n",
       "      <td>147269.0</td>\n",
       "      <td>NaN</td>\n",
       "      <td>NaN</td>\n",
       "    </tr>\n",
       "    <tr>\n",
       "      <th>3</th>\n",
       "      <td>registration</td>\n",
       "      <td>NaN</td>\n",
       "      <td>2018-01-01 09:39:27</td>\n",
       "      <td>NaN</td>\n",
       "      <td>47761</td>\n",
       "      <td>147270.0</td>\n",
       "      <td>NaN</td>\n",
       "      <td>NaN</td>\n",
       "    </tr>\n",
       "    <tr>\n",
       "      <th>4</th>\n",
       "      <td>registration</td>\n",
       "      <td>NaN</td>\n",
       "      <td>2018-01-01 11:41:27</td>\n",
       "      <td>NaN</td>\n",
       "      <td>47762</td>\n",
       "      <td>147271.0</td>\n",
       "      <td>NaN</td>\n",
       "      <td>NaN</td>\n",
       "    </tr>\n",
       "    <tr>\n",
       "      <th>5</th>\n",
       "      <td>registration</td>\n",
       "      <td>NaN</td>\n",
       "      <td>2018-01-01 12:23:51</td>\n",
       "      <td>NaN</td>\n",
       "      <td>47763</td>\n",
       "      <td>147272.0</td>\n",
       "      <td>NaN</td>\n",
       "      <td>NaN</td>\n",
       "    </tr>\n",
       "    <tr>\n",
       "      <th>6</th>\n",
       "      <td>tutorial_start</td>\n",
       "      <td>NaN</td>\n",
       "      <td>2018-01-01 13:55:11</td>\n",
       "      <td>49555.0</td>\n",
       "      <td>47758</td>\n",
       "      <td>147273.0</td>\n",
       "      <td>NaN</td>\n",
       "      <td>NaN</td>\n",
       "    </tr>\n",
       "    <tr>\n",
       "      <th>7</th>\n",
       "      <td>tutorial_start</td>\n",
       "      <td>NaN</td>\n",
       "      <td>2018-01-01 13:56:40</td>\n",
       "      <td>49556.0</td>\n",
       "      <td>47761</td>\n",
       "      <td>147274.0</td>\n",
       "      <td>NaN</td>\n",
       "      <td>NaN</td>\n",
       "    </tr>\n",
       "    <tr>\n",
       "      <th>8</th>\n",
       "      <td>tutorial_finish</td>\n",
       "      <td>NaN</td>\n",
       "      <td>2018-01-01 13:59:44</td>\n",
       "      <td>49556.0</td>\n",
       "      <td>47761</td>\n",
       "      <td>147275.0</td>\n",
       "      <td>NaN</td>\n",
       "      <td>NaN</td>\n",
       "    </tr>\n",
       "    <tr>\n",
       "      <th>9</th>\n",
       "      <td>registration</td>\n",
       "      <td>NaN</td>\n",
       "      <td>2018-01-01 14:15:39</td>\n",
       "      <td>NaN</td>\n",
       "      <td>47764</td>\n",
       "      <td>147276.0</td>\n",
       "      <td>NaN</td>\n",
       "      <td>NaN</td>\n",
       "    </tr>\n",
       "  </tbody>\n",
       "</table>\n",
       "</div>"
      ],
      "text/plain": [
       "        event_type selected_level          start_time  tutorial_id  user_id  \\\n",
       "0     registration            NaN 2018-01-01 04:51:58          NaN    47758   \n",
       "1     registration            NaN 2018-01-01 08:32:05          NaN    47759   \n",
       "2     registration            NaN 2018-01-01 09:30:10          NaN    47760   \n",
       "3     registration            NaN 2018-01-01 09:39:27          NaN    47761   \n",
       "4     registration            NaN 2018-01-01 11:41:27          NaN    47762   \n",
       "5     registration            NaN 2018-01-01 12:23:51          NaN    47763   \n",
       "6   tutorial_start            NaN 2018-01-01 13:55:11      49555.0    47758   \n",
       "7   tutorial_start            NaN 2018-01-01 13:56:40      49556.0    47761   \n",
       "8  tutorial_finish            NaN 2018-01-01 13:59:44      49556.0    47761   \n",
       "9     registration            NaN 2018-01-01 14:15:39          NaN    47764   \n",
       "\n",
       "   event_id  amount  purchase_id  \n",
       "0  147264.0     NaN          NaN  \n",
       "1  147268.0     NaN          NaN  \n",
       "2  147269.0     NaN          NaN  \n",
       "3  147270.0     NaN          NaN  \n",
       "4  147271.0     NaN          NaN  \n",
       "5  147272.0     NaN          NaN  \n",
       "6  147273.0     NaN          NaN  \n",
       "7  147274.0     NaN          NaN  \n",
       "8  147275.0     NaN          NaN  \n",
       "9  147276.0     NaN          NaN  "
      ]
     },
     "execution_count": 25,
     "metadata": {},
     "output_type": "execute_result"
    }
   ],
   "source": [
    "# Объединим два датафрейма в один. В новом датафрейме сбросим индексы (т.к. они могли дублироваться и\n",
    "# могут быть неактуальны), также отсортируем датафрейм по столбцу 'start_time'\n",
    "# для проверки корректности объединения выведем первые 10 строк нового датафрейма.\n",
    "total_df = pd.concat([events_df, purchase_df], sort=False)\n",
    "total_df = total_df.reset_index(drop=True).sort_values('start_time')\n",
    "total_df.head(10)"
   ]
  },
  {
   "cell_type": "code",
   "execution_count": 26,
   "metadata": {},
   "outputs": [
    {
     "data": {
      "text/html": [
       "<div>\n",
       "<style scoped>\n",
       "    .dataframe tbody tr th:only-of-type {\n",
       "        vertical-align: middle;\n",
       "    }\n",
       "\n",
       "    .dataframe tbody tr th {\n",
       "        vertical-align: top;\n",
       "    }\n",
       "\n",
       "    .dataframe thead th {\n",
       "        text-align: right;\n",
       "    }\n",
       "</style>\n",
       "<table border=\"1\" class=\"dataframe\">\n",
       "  <thead>\n",
       "    <tr style=\"text-align: right;\">\n",
       "      <th></th>\n",
       "      <th>user_id</th>\n",
       "      <th>event_type</th>\n",
       "    </tr>\n",
       "  </thead>\n",
       "  <tbody>\n",
       "    <tr>\n",
       "      <th>0</th>\n",
       "      <td>47758</td>\n",
       "      <td>[registration, tutorial_start]</td>\n",
       "    </tr>\n",
       "    <tr>\n",
       "      <th>1</th>\n",
       "      <td>47759</td>\n",
       "      <td>[registration, tutorial_start, tutorial_finish...</td>\n",
       "    </tr>\n",
       "    <tr>\n",
       "      <th>2</th>\n",
       "      <td>47760</td>\n",
       "      <td>[registration, tutorial_start, tutorial_finish...</td>\n",
       "    </tr>\n",
       "    <tr>\n",
       "      <th>3</th>\n",
       "      <td>47761</td>\n",
       "      <td>[registration, tutorial_start, tutorial_finish...</td>\n",
       "    </tr>\n",
       "    <tr>\n",
       "      <th>4</th>\n",
       "      <td>47762</td>\n",
       "      <td>[registration]</td>\n",
       "    </tr>\n",
       "    <tr>\n",
       "      <th>...</th>\n",
       "      <td>...</td>\n",
       "      <td>...</td>\n",
       "    </tr>\n",
       "    <tr>\n",
       "      <th>24455</th>\n",
       "      <td>72213</td>\n",
       "      <td>[registration, tutorial_start, tutorial_finish...</td>\n",
       "    </tr>\n",
       "    <tr>\n",
       "      <th>24456</th>\n",
       "      <td>72214</td>\n",
       "      <td>[registration, tutorial_start, tutorial_finish...</td>\n",
       "    </tr>\n",
       "    <tr>\n",
       "      <th>24457</th>\n",
       "      <td>72215</td>\n",
       "      <td>[registration]</td>\n",
       "    </tr>\n",
       "    <tr>\n",
       "      <th>24458</th>\n",
       "      <td>72216</td>\n",
       "      <td>[registration, tutorial_start, tutorial_finish...</td>\n",
       "    </tr>\n",
       "    <tr>\n",
       "      <th>24459</th>\n",
       "      <td>72217</td>\n",
       "      <td>[registration, tutorial_start, level_choice]</td>\n",
       "    </tr>\n",
       "  </tbody>\n",
       "</table>\n",
       "<p>24460 rows × 2 columns</p>\n",
       "</div>"
      ],
      "text/plain": [
       "       user_id                                         event_type\n",
       "0        47758                     [registration, tutorial_start]\n",
       "1        47759  [registration, tutorial_start, tutorial_finish...\n",
       "2        47760  [registration, tutorial_start, tutorial_finish...\n",
       "3        47761  [registration, tutorial_start, tutorial_finish...\n",
       "4        47762                                     [registration]\n",
       "...        ...                                                ...\n",
       "24455    72213  [registration, tutorial_start, tutorial_finish...\n",
       "24456    72214  [registration, tutorial_start, tutorial_finish...\n",
       "24457    72215                                     [registration]\n",
       "24458    72216  [registration, tutorial_start, tutorial_finish...\n",
       "24459    72217       [registration, tutorial_start, level_choice]\n",
       "\n",
       "[24460 rows x 2 columns]"
      ]
     },
     "execution_count": 26,
     "metadata": {},
     "output_type": "execute_result"
    }
   ],
   "source": [
    "# Для каждого пользователя создадим список этапов, которые прошел данный пользователь.\n",
    "# Для этого сгруппируем датафрейм по столбцу 'user_id' и применим функцию apply()\n",
    "# Результат запишем в новый датафрейм user_path_df\n",
    "user_path_df = total_df.groupby(['user_id'])['event_type'].apply(list).reset_index()\n",
    "user_path_df"
   ]
  },
  {
   "cell_type": "code",
   "execution_count": 27,
   "metadata": {
    "scrolled": true
   },
   "outputs": [
    {
     "data": {
      "text/html": [
       "<div>\n",
       "<style scoped>\n",
       "    .dataframe tbody tr th:only-of-type {\n",
       "        vertical-align: middle;\n",
       "    }\n",
       "\n",
       "    .dataframe tbody tr th {\n",
       "        vertical-align: top;\n",
       "    }\n",
       "\n",
       "    .dataframe thead th {\n",
       "        text-align: right;\n",
       "    }\n",
       "</style>\n",
       "<table border=\"1\" class=\"dataframe\">\n",
       "  <thead>\n",
       "    <tr style=\"text-align: right;\">\n",
       "      <th></th>\n",
       "      <th>user_id</th>\n",
       "      <th>event_type</th>\n",
       "      <th>event_path</th>\n",
       "    </tr>\n",
       "  </thead>\n",
       "  <tbody>\n",
       "    <tr>\n",
       "      <th>0</th>\n",
       "      <td>47758</td>\n",
       "      <td>[registration, tutorial_start]</td>\n",
       "      <td>registration&gt;tutorial_start</td>\n",
       "    </tr>\n",
       "    <tr>\n",
       "      <th>1</th>\n",
       "      <td>47759</td>\n",
       "      <td>[registration, tutorial_start, tutorial_finish...</td>\n",
       "      <td>registration&gt;tutorial_start&gt;tutorial_finish&gt;le...</td>\n",
       "    </tr>\n",
       "    <tr>\n",
       "      <th>2</th>\n",
       "      <td>47760</td>\n",
       "      <td>[registration, tutorial_start, tutorial_finish...</td>\n",
       "      <td>registration&gt;tutorial_start&gt;tutorial_finish&gt;le...</td>\n",
       "    </tr>\n",
       "    <tr>\n",
       "      <th>3</th>\n",
       "      <td>47761</td>\n",
       "      <td>[registration, tutorial_start, tutorial_finish...</td>\n",
       "      <td>registration&gt;tutorial_start&gt;tutorial_finish&gt;le...</td>\n",
       "    </tr>\n",
       "    <tr>\n",
       "      <th>4</th>\n",
       "      <td>47762</td>\n",
       "      <td>[registration]</td>\n",
       "      <td>registration</td>\n",
       "    </tr>\n",
       "    <tr>\n",
       "      <th>...</th>\n",
       "      <td>...</td>\n",
       "      <td>...</td>\n",
       "      <td>...</td>\n",
       "    </tr>\n",
       "    <tr>\n",
       "      <th>24455</th>\n",
       "      <td>72213</td>\n",
       "      <td>[registration, tutorial_start, tutorial_finish...</td>\n",
       "      <td>registration&gt;tutorial_start&gt;tutorial_finish&gt;tu...</td>\n",
       "    </tr>\n",
       "    <tr>\n",
       "      <th>24456</th>\n",
       "      <td>72214</td>\n",
       "      <td>[registration, tutorial_start, tutorial_finish...</td>\n",
       "      <td>registration&gt;tutorial_start&gt;tutorial_finish&gt;le...</td>\n",
       "    </tr>\n",
       "    <tr>\n",
       "      <th>24457</th>\n",
       "      <td>72215</td>\n",
       "      <td>[registration]</td>\n",
       "      <td>registration</td>\n",
       "    </tr>\n",
       "    <tr>\n",
       "      <th>24458</th>\n",
       "      <td>72216</td>\n",
       "      <td>[registration, tutorial_start, tutorial_finish...</td>\n",
       "      <td>registration&gt;tutorial_start&gt;tutorial_finish&gt;le...</td>\n",
       "    </tr>\n",
       "    <tr>\n",
       "      <th>24459</th>\n",
       "      <td>72217</td>\n",
       "      <td>[registration, tutorial_start, level_choice]</td>\n",
       "      <td>registration&gt;tutorial_start&gt;level_choice</td>\n",
       "    </tr>\n",
       "  </tbody>\n",
       "</table>\n",
       "<p>24460 rows × 3 columns</p>\n",
       "</div>"
      ],
      "text/plain": [
       "       user_id                                         event_type  \\\n",
       "0        47758                     [registration, tutorial_start]   \n",
       "1        47759  [registration, tutorial_start, tutorial_finish...   \n",
       "2        47760  [registration, tutorial_start, tutorial_finish...   \n",
       "3        47761  [registration, tutorial_start, tutorial_finish...   \n",
       "4        47762                                     [registration]   \n",
       "...        ...                                                ...   \n",
       "24455    72213  [registration, tutorial_start, tutorial_finish...   \n",
       "24456    72214  [registration, tutorial_start, tutorial_finish...   \n",
       "24457    72215                                     [registration]   \n",
       "24458    72216  [registration, tutorial_start, tutorial_finish...   \n",
       "24459    72217       [registration, tutorial_start, level_choice]   \n",
       "\n",
       "                                              event_path  \n",
       "0                            registration>tutorial_start  \n",
       "1      registration>tutorial_start>tutorial_finish>le...  \n",
       "2      registration>tutorial_start>tutorial_finish>le...  \n",
       "3      registration>tutorial_start>tutorial_finish>le...  \n",
       "4                                           registration  \n",
       "...                                                  ...  \n",
       "24455  registration>tutorial_start>tutorial_finish>tu...  \n",
       "24456  registration>tutorial_start>tutorial_finish>le...  \n",
       "24457                                       registration  \n",
       "24458  registration>tutorial_start>tutorial_finish>le...  \n",
       "24459           registration>tutorial_start>level_choice  \n",
       "\n",
       "[24460 rows x 3 columns]"
      ]
     },
     "execution_count": 27,
     "metadata": {},
     "output_type": "execute_result"
    }
   ],
   "source": [
    "# Преобразуем список этапов в строку, т.к. поиск значений по спискам может занять некоторое время.\n",
    "# Преобразование выполним с помощью функции apply(), аргументом которой передадим функцию, \n",
    "# которая преобразует список в строку. Для разделения этапов добавим знак '>' после каждого этапа\n",
    "# Также для удобства переименуем столбец 'event_type' в 'event_path'\n",
    "user_path_df['event_path'] = user_path_df['event_type'].apply(lambda x: '>'.join(x))\n",
    "user_path_df"
   ]
  },
  {
   "cell_type": "code",
   "execution_count": 28,
   "metadata": {},
   "outputs": [
    {
     "data": {
      "text/plain": [
       "event_path\n",
       "registration                                                                                                                                                                                                                                            9802\n",
       "registration>tutorial_start>tutorial_finish>level_choice>training_choice                                                                                                                                                                                3248\n",
       "registration>tutorial_start>tutorial_finish                                                                                                                                                                                                             2425\n",
       "registration>tutorial_start>tutorial_finish>level_choice                                                                                                                                                                                                2133\n",
       "registration>tutorial_start>tutorial_finish>level_choice>training_choice>purchase                                                                                                                                                                       1295\n",
       "                                                                                                                                                                                                                                                        ... \n",
       "registration>tutorial_start>tutorial_finish>tutorial_start>tutorial_start>tutorial_finish>level_choice>tutorial_start>tutorial_finish>tutorial_start>tutorial_start>tutorial_finish>tutorial_finish>tutorial_start>tutorial_start                          1\n",
       "registration>tutorial_start>tutorial_finish>tutorial_start>tutorial_start>tutorial_finish>level_choice>tutorial_start>tutorial_finish>tutorial_start>tutorial_start>tutorial_finish                                                                        1\n",
       "registration>tutorial_start>tutorial_finish>tutorial_start>tutorial_start>tutorial_finish>level_choice>tutorial_start>tutorial_finish>tutorial_start>tutorial_finish>tutorial_start>tutorial_finish>tutorial_start>tutorial_finish>tutorial_start          1\n",
       "registration>tutorial_start>tutorial_finish>tutorial_start>tutorial_start>tutorial_finish>level_choice>tutorial_start>tutorial_finish>tutorial_start>tutorial_finish>tutorial_start>tutorial_finish                                                        1\n",
       "registration>tutorial_start>tutorial_finish>tutorial_start>tutorial_finish>tutorial_start>tutorial_finish>tutorial_start>tutorial_finish>tutorial_start>tutorial_finish>tutorial_start>tutorial_finish>tutorial_start>tutorial_start>tutorial_finish       1\n",
       "Name: user_id, Length: 752, dtype: int64"
      ]
     },
     "execution_count": 28,
     "metadata": {},
     "output_type": "execute_result"
    }
   ],
   "source": [
    "# Сгруппируем датафрейм по столбцу 'event_path' для получения списка путей, по которым проходили пользователи.\n",
    "# Для каждого уникального значения посчитаем количество уникальных пользователей\n",
    "# Результат отсортируем по убыванию количества пользователей и запишем в переменную user_paths.\n",
    "user_paths = user_path_df.groupby(['event_path'])['user_id'].nunique().sort_values(ascending=False)\n",
    "user_paths"
   ]
  },
  {
   "cell_type": "code",
   "execution_count": 29,
   "metadata": {},
   "outputs": [
    {
     "name": "stdout",
     "output_type": "stream",
     "text": [
      "Количество пользователей, которые возвращаются к обучению после выбора уровня сложности: 601\n",
      "\n",
      "Доля таких пользователей от общего количества пользователей: 2.46%\n"
     ]
    }
   ],
   "source": [
    "# Посчитаем количество уникальных пользователей у которых имеется последовательность 'level_choice>tutorial_start'.\n",
    "# Также посчитаем какую долю составляют эти пользователи от общего количества пользователей\n",
    "persent_of_users = user_paths[user_paths.index.str.contains('level_choice>tutorial_start')].sum()/total_df['user_id'].nunique()\n",
    "print('Количество пользователей, которые возвращаются к обучению после выбора уровня сложности: {}'.format(user_paths[user_paths.index.str.contains('level_choice>tutorial_start')].sum()))\n",
    "print()\n",
    "print('Доля таких пользователей от общего количества пользователей: {:.2%}'.format(persent_of_users))"
   ]
  },
  {
   "cell_type": "markdown",
   "metadata": {},
   "source": [
    "### Краткие выводы по дополнительной задаче"
   ]
  },
  {
   "cell_type": "markdown",
   "metadata": {},
   "source": [
    "Вывод: только около 2,5 % пользователей возвращаются к обучению после выбора уровня сложности"
   ]
  },
  {
   "cell_type": "markdown",
   "metadata": {},
   "source": [
    "<a id=\"id_6\"></a>"
   ]
  },
  {
   "cell_type": "markdown",
   "metadata": {},
   "source": [
    "## Выводы"
   ]
  },
  {
   "cell_type": "markdown",
   "metadata": {},
   "source": [
    "### Задача № 1. Анализ времени прохождения различных этапов\n",
    "\n",
    "Наша задача состоит в том, чтобы на основе проведенного анализа определить:\n",
    "\n",
    "1. отличается ли время прохождения различных этапов для пользователей, которые прошли обучение, от пользователей, не начинавших обучение? \n",
    "2. Насколько обучение сокращает время прохождения этапов?\n",
    "\n",
    "Для этого разделим наших пользователей на 2 группы:\n",
    " 1. Пользователи, которые прошли обучение;\n",
    " 2. Пользователи, которые не проходили обучение, а сразу перешли к выбору уровня сложности. \n",
    "\n",
    "Затем мы разделим путь, который проходят пользователи от момента регистрации до момента оплаты на 3 основных этапа и определим для каждой группы пользователей среднее время прохождения каждого из этапов.\n",
    "\n",
    "**Первый этап**: между регистрацией и выбором уровня сложности. Проанализировав данные можно увидеть, что среднее время прохождения данного этапа меньше у тех пользователей, которые не проходили обучение. Скорее всего это связано с тем, что на прохождение обучения затрачивается дополнительное время, поэтому данный этап не подходит для анализа.\n",
    "\n",
    "**Следующий этап**: между выбором уровня сложности и выбором набора тренировок. Здесь мы видим, что среднее время прохождения данного этапа меньше у тех пользователей, которые прошли обучение. Правда разница во времени небольшая (5.52 минуты - 5.16 минут = 0,36 минут, т.е. примерно полминуты). В относительных величинах разница составляет примерно 6,75 %\n",
    "\n",
    "**Последний этап**: между выбором набора тренировок и оплатой. Среднее время прохождения данного этапа также меньше у пользователей, прошедших обучение чем у пользователей, которые обучение не проходили. Разница в среднем составляет около 6 часов в абсолютных значениях. Но так как на данный этап пользователи в среднем тратят более 3-х дней, то в относительных показателях разница получается небольшая (в среднем примерно 6,5%).\n",
    "\n",
    "***Подводя итоги можно сделать следующие выводы***:\n",
    "1. Среднее время прохождения различных этапов для пользователей, прошедших обучение, отличается от времени для пользователей, не прошедших обучение;\n",
    "2. Пользователи, прошедшие обучение, проходят этапы в среднем на 6,6% быстрее, чем пользователи, которые обучение не проходили."
   ]
  },
  {
   "cell_type": "markdown",
   "metadata": {},
   "source": [
    "### Задача № 2. Анализ зависимости между вероятностью оплаты тренировки и пройденного обучения\n",
    "\n",
    "Наша задача состоит в том, чтобы на основании анализа данных определить существует ли зависимость между количеством обучений, которые проходил пользователь и вероятностью оплаты.\n",
    "\n",
    "Для этого, вначале определим, какое количество обучений проходят наши пользователи. Затем мы разобьем наших пользователей на группы, соответствующие количеству обучений, прошедших пользователем. Пользователей, которые обучение не проходили мы запишем в отдельную группу. После этого для каждой группы рассчитаем процент оплат.\n",
    "\n",
    "В нижеприведенной таблице указаны полученные показатели в ходе исследования:\n",
    "\n",
    "\n",
    "|Количество завершенных обучений|Процент оплативших пользователей|Количество пользователей|\n",
    "|:------:|:------:|:-----:|\n",
    "|0    |0.18% |18|\n",
    "|1\t  |14.05%|9721 |\n",
    "|2\t  |14.70%|1599|\n",
    "|3\t  |15.81%| 430|\n",
    "|4\t  |14.72%|231|\n",
    "|5    |13.25%|166|\n",
    "|7    |12.70%|126|\n",
    "|8\t  |15.38%| 65|\n",
    "|9\t  |18.52%| 27|\n",
    "\n",
    "\n",
    "В результате проведенного исследования, можно сделать следующий вывод: пользователи которые проходили обучение чаще покупают платные тренировки чем пользователи, которые обучения не проходили. В среднем тренировки оплачивают около 15% пользователей, которые проходили обучение хотя бы 1 раз. Доля пользователей, покупающих тренировки, которые ни разу не проходили обучение ничтожно мала и составляет около 0.18%.\n",
    "\n",
    "Рассмотрим зависимость вероятности оплаты тренировки от количества обучений, которые завершил пользователь.\n",
    "\n",
    "Проанализировав полученные результаты, мы видим, что несмотря на то, что, хотя процентное соотношение пользователей изменяется с увеличением количества завершенных обучений, сделать однозначно сказать, что с увеличением количества завершенных обучений возрастает вероятность оплаты. В целом изменения составляют ± 2-3% что находится в пределах статистической погрешности. Также мы видим, что очень малая часть пользователей совершает повторные обучения. Например, если одно обучение завершили почти 10 тыс. пользователей, то 9 обучений прошли только 27. Имея подобные аномалии в данных невозможно достоверно подтвердить гипотезу о том, что с ростом количества обучений возрастает вероятность оплаты.\n",
    "\n",
    "***Подводя итоги можно сделать следующие выводы***:\n",
    "1. Чаще всего покупают платные тренировки пользователи, прошедшие хотя бы одно обучение чем пользователи, которые обучение не проходили;\n",
    "2. Вероятность оплаты обучения не зависит от количества тренировок, которые прошел пользователь\n",
    " "
   ]
  },
  {
   "cell_type": "markdown",
   "metadata": {},
   "source": [
    "### Дополнительная задача. Анализ поведения пользователей\n",
    "\n",
    "В рамках данной задачи необходимо проверить как часто пользователи начинают обучение после выбора уровня сложности тренировок.\n",
    "\n",
    "Для этого мы объединим датафрейм с событиями и датафрейм с оплатами. Затем на основе объединённого датафрейма мы для каждого пользователя простроим путь, по которому прошел пользователь. Затем, сгруппировав пути мы получим количество пользователей, которые проходили данный путь. Нам останется найти при помощи поиска нужную последовательность событий (**level_choice -> tutorial_start**) и мы получим количество пользователей, которые возвращались к обучению после выбора уровня сложности.\n",
    "\n",
    "произведя необходимые вычисления, мы получим следующие значения:\n",
    "\n",
    "\n",
    "- Количество пользователей, которые возвращаются к обучению после выбора уровня сложности: 601\n",
    "- Доля таких пользователей от общего количества пользователей: 2.46%\n",
    "\n",
    "***Подводя итоги можно сделать следующие выводы***\n",
    "1. Только около 2,5% пользователей возвращаются к обучению после выбора уровня сложности тренировок. \n"
   ]
  }
 ],
 "metadata": {
  "kernelspec": {
   "display_name": "Python 3",
   "language": "python",
   "name": "python3"
  },
  "language_info": {
   "codemirror_mode": {
    "name": "ipython",
    "version": 3
   },
   "file_extension": ".py",
   "mimetype": "text/x-python",
   "name": "python",
   "nbconvert_exporter": "python",
   "pygments_lexer": "ipython3",
   "version": "3.7.6"
  }
 },
 "nbformat": 4,
 "nbformat_minor": 4
}
