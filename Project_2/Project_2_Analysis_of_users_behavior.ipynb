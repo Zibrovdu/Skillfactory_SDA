{
 "cells": [
  {
   "cell_type": "markdown",
   "metadata": {},
   "source": [
    "# Проект № 2. Анализируем воронки"
   ]
  },
  {
   "cell_type": "markdown",
   "metadata": {},
   "source": [
    "## Оглавление.\n",
    "\n",
    "1. [Цели и задачи исследования](#id_1)\n",
    "2. [Получение данных и их первичный анализ](#id_2)\n",
    "3. [Задача № 1. Анализ времени прохождения различных этапов](#id_3)\n",
    "4. [Задача № 2. Анализ зависимости между вероятностью оплаты тренировки и пройденного обучения](#id_4)\n",
    "5. [Дополнительная задача. Анализ поведения пользователей](#id_5)\t\n",
    "6. [Выводы](#id_6)"
   ]
  },
  {
   "cell_type": "markdown",
   "metadata": {},
   "source": [
    "<a id=\"id_1\"></a>"
   ]
  },
  {
   "cell_type": "markdown",
   "metadata": {},
   "source": [
    "## Цели и задачи исследования"
   ]
  },
  {
   "cell_type": "markdown",
   "metadata": {},
   "source": [
    "- **Задача 1**. Отличается ли время прохождения различных этапов для пользователей, которые прошли обучение, от пользователей, не начинавших обучение? Насколько обучение сокращает время прохождения этапов?\n",
    "- **Задача 2**. Существует ли зависимость между вероятностью оплаты тренировки и количеством обучений, которые начинал или завершал пользователь. Нужно доказать, что успешное обучение влияет на оплату само по себе, без разницы, какое оно было по порядку\n",
    "- **Дополнительная задача**. Как часто пользователи начинают обучение после того, как они выбрали уровень сложности тренировок? Это позволит нам понять, насколько процесс работы с приложением понятен для пользователей: если пользователи после выбора уровня сложности обращаются к обучению, значит, работа с приложением непонятна."
   ]
  },
  {
   "cell_type": "markdown",
   "metadata": {},
   "source": [
    "<a id=\"id_2\"></a>"
   ]
  },
  {
   "cell_type": "markdown",
   "metadata": {},
   "source": [
    "## Получение данных и их первичный анализ"
   ]
  },
  {
   "cell_type": "markdown",
   "metadata": {},
   "source": [
    "### Импорт библиотек и получение данных для анализа"
   ]
  },
  {
   "cell_type": "code",
   "execution_count": null,
   "metadata": {},
   "outputs": [],
   "source": [
    "# Импортируем библиотеки для работы\n",
    "import pandas as pd\n",
    "import matplotlib.pyplot as plt\n",
    "%matplotlib inline"
   ]
  },
  {
   "cell_type": "code",
   "execution_count": null,
   "metadata": {},
   "outputs": [],
   "source": [
    "# Наши данные хранятся в файлах events.csv и purchase.csv которые были предварительно выгружены из БД.\n",
    "# Загрузим файл events.csv, содержащий данные по событиям пользователей в датафрейм events_df\n",
    "events_df = pd.read_csv('events.csv')\n",
    "# А файл purchase.csv, содержащий данные по оплатам пользователей - в датафрейм purchase_df\n",
    "purchase_df = pd.read_csv('purchase.csv')"
   ]
  },
  {
   "cell_type": "markdown",
   "metadata": {},
   "source": [
    "### Первичный анализ полученных данных"
   ]
  },
  {
   "cell_type": "markdown",
   "metadata": {},
   "source": [
    "#### Датафрейм с данными по событиям пользователей (events_df)"
   ]
  },
  {
   "cell_type": "code",
   "execution_count": null,
   "metadata": {
    "scrolled": true
   },
   "outputs": [],
   "source": [
    "# Выведем первые пять строк нашего датафрейма\n",
    "events_df.head(5)"
   ]
  },
  {
   "cell_type": "code",
   "execution_count": null,
   "metadata": {},
   "outputs": [],
   "source": [
    "# Воспользуемся методом \"info()\" для первичного исследования датафрейма (общая информация, типы данных, пропущенные значения)\n",
    "events_df.info()"
   ]
  },
  {
   "cell_type": "markdown",
   "metadata": {},
   "source": [
    "Датафрейм events_df состоит из 82779 и 6 столбцов. Рассмотрим каждый столбец подробнее:\n",
    "- столбец **\"event_type\"** (тип события) имеет тип данных \"object\";\n",
    "- столбец **\"selected_level\"** (выбранный уровень сложности обучения) имеет тип данных \"object\"; \n",
    "- столбец **\"start_time\"** (дата и время события) имеет тип данных \"object\";\n",
    "- столбец **\"tutorial_id\"** (идентификатор обучения) имеет тип данных \"float64\";\n",
    "- столбец **\"user_id\"** (уникальный идентификатор пользователя приложения) имеет тип данных \"int64\";\n",
    "- столбец **\"id\"** (идентификатор события) имеет тип данных \"int64\"\n",
    "\n",
    "Столбцы **\"event_type\"**, **\"start_time\"**, **\"user_id\"** и **\"id\"** не содержат пропущенных значений, а в столбцах **\"selected_level\"** и **\"tutorial_id\"** имеются пропущенные значения:\n",
    "- столбец **\"selected_level\"** содержит 10198  непустых значений;\n",
    "- столбец **\"tutorial_id\"** содержит 41201 непустых значений.\n",
    "\n",
    "Преобразуем столбец **\"start_time\"** в тип datetime с помощью метода pd.to_datetime():"
   ]
  },
  {
   "cell_type": "code",
   "execution_count": null,
   "metadata": {},
   "outputs": [],
   "source": [
    "events_df['start_time'] = pd.to_datetime(events_df['start_time'])\n",
    "events_df.info()"
   ]
  },
  {
   "cell_type": "code",
   "execution_count": null,
   "metadata": {},
   "outputs": [],
   "source": [
    "# Проверим причины появления в нашем датафрейме пропущенных значений. Для этого сделаем срез\n",
    "# датафрейма, который будет содержать только строки со значением 'level_choice' в столбце 'event_type'\n",
    "events_df[events_df['event_type'] == 'level_choice'].info()"
   ]
  },
  {
   "cell_type": "markdown",
   "metadata": {},
   "source": [
    "Как видно, этот срез датафрейма не содержит пропущенных значений в столбце **\"selected_level\"**, но зато содержит пропуски \n",
    "в **\"tutorial_id\"**. Это связано с тем, что для событий типа **\"level_choice\"** не предусмотрена запись параметра **\"tutorial_id\"**."
   ]
  },
  {
   "cell_type": "code",
   "execution_count": null,
   "metadata": {},
   "outputs": [],
   "source": [
    "# Далее сделаем сред датафрейма, который будет содержать только строки со значением \n",
    "# 'tutorial_start' и 'tutorial_finish' в столбце 'event_type' \n",
    "events_df[events_df['event_type'].isin(['tutorial_start', 'tutorial_finish'])].info()"
   ]
  },
  {
   "cell_type": "markdown",
   "metadata": {},
   "source": [
    "Мы видим, что столбец **\"selected_level\"** в таком срезе не содержит ни одного значения. Это связано с тем, что для событий, связанных с обучением, отсутствуют параметры выбора уровня сложности **\"selected_level\"**. А вот остальные столбцы заполнены полностью."
   ]
  },
  {
   "cell_type": "code",
   "execution_count": null,
   "metadata": {},
   "outputs": [],
   "source": [
    "# Для исследования данных содержащихся в нашем датафрейме вызовем метод describe() \n",
    "# с ключом include='all' который позволит получить основные статистические данные по всем столбцам. \n",
    "events_df.describe(include='all')"
   ]
  },
  {
   "cell_type": "code",
   "execution_count": null,
   "metadata": {},
   "outputs": [],
   "source": [
    "# Посмотрим, какие уникальные значения содержатся в столбце 'event_type':\n",
    "events_df['event_type'].unique()"
   ]
  },
  {
   "cell_type": "code",
   "execution_count": null,
   "metadata": {},
   "outputs": [],
   "source": [
    "# И в столбце 'selected_level':\n",
    "events_df['selected_level'].unique()"
   ]
  },
  {
   "cell_type": "markdown",
   "metadata": {},
   "source": [
    "#### Датафрейм с данными по оплатам пользователей (purchase_df)"
   ]
  },
  {
   "cell_type": "code",
   "execution_count": null,
   "metadata": {},
   "outputs": [],
   "source": [
    "# Выведем первые пять строк нашего датафрейма\n",
    "purchase_df.head(5)"
   ]
  },
  {
   "cell_type": "code",
   "execution_count": null,
   "metadata": {},
   "outputs": [],
   "source": [
    "# Воспользуемся методом \"info()\" для первичного исследования датафрейма (общая информация, типы данных, пропущенные значения)\n",
    "purchase_df.info()"
   ]
  },
  {
   "cell_type": "markdown",
   "metadata": {},
   "source": [
    "Датафрейм purchase_df состоит из 1974 и 4 столбцов. Рассмотрим каждый столбец подробнее:\n",
    "- столбец **\"user_id\"** (уникальный идентификатор пользователя приложения) имеет тип данных \"int64\"; \n",
    "- столбец **\"start_time\"** (дата и время события) имеет тип данных \"object\";\n",
    "- столбец **\"amount\"** (идентификатор обучения) имеет тип данных \"int64\";\n",
    "- столбец **\"id\"** (идентификатор события) имеет тип данных \"int64\"\n",
    "\n",
    "Пропущенных значений данный датафрейм не содержит. Это значит, что для каждой строки в каждом столбце присутствует значение.\n",
    "\n",
    "Преобразуем столбец **\"start_time\"** в тип datetime с помощью метода pd.to_datetime():"
   ]
  },
  {
   "cell_type": "code",
   "execution_count": null,
   "metadata": {},
   "outputs": [],
   "source": [
    "purchase_df['start_time'] = pd.to_datetime(purchase_df['start_time'])\n",
    "purchase_df.info()"
   ]
  },
  {
   "cell_type": "code",
   "execution_count": null,
   "metadata": {},
   "outputs": [],
   "source": [
    "# Для исследования данных содержащихся в нашем датафрейме вызовем метод describe() \n",
    "# с ключом include='all' который позволит получить основные статистические данные по всем столбцам. \n",
    "purchase_df.describe(include='all')"
   ]
  },
  {
   "cell_type": "markdown",
   "metadata": {},
   "source": [
    "<a id=\"id_3\"></a>"
   ]
  },
  {
   "cell_type": "markdown",
   "metadata": {},
   "source": [
    "## Задача № 1. Анализ времени прохождения различных этапов"
   ]
  },
  {
   "cell_type": "markdown",
   "metadata": {},
   "source": [
    "### Подготовка  к анализу и проведение расчетов"
   ]
  },
  {
   "cell_type": "code",
   "execution_count": null,
   "metadata": {},
   "outputs": [],
   "source": [
    "# Разобьем наших пользователей на группы. \n",
    "# В одной группе будут пользователи, которые проходили обучение (у таких пользователей присутствует \n",
    "# событие 'tutorial_start').\n",
    "# В другой группе буду пользователи, которые не проходили обучение, а сразу перешли к выбору \n",
    "# уровня сложности.\n",
    "\n",
    "users_with_tutorial = events_df[events_df['event_type'] == 'tutorial_start']['user_id'].unique()\n",
    "set_users_with_tutorial = set(users_with_tutorial)\n",
    "all_users = events_df[events_df['event_type']== 'registration']['user_id'].unique()\n",
    "set_all_users = set(all_users)\n",
    "set_users_wo_tutorial = set_all_users.difference(set_users_with_tutorial)\n",
    "print()\n",
    "print(f'Количество уникальных пользователей: {len(set_all_users)}')\n",
    "print(f'Количество пользователей, которые прошли обучение: {len(set_users_with_tutorial)}')\n",
    "print(f'Количество пользователей, которые не проходили обучение, а сразу перешли к выбору уровня сложности: {len(set_users_wo_tutorial)}')"
   ]
  },
  {
   "cell_type": "code",
   "execution_count": null,
   "metadata": {},
   "outputs": [],
   "source": [
    "# Теперь рассчитаем для каждой группы пользователей среднее время между различными этапами:\n",
    "# - между временем регистрации и выбором уровня сложности;\n",
    "# - выбором уровня сложности и выбором тренировок;\n",
    "# - выбором тренировок и оплатой;\n",
    "\n",
    "user_groups = [\n",
    "    {'прошли обучение': set_users_with_tutorial},\n",
    "    {'не начинали обучение': set_users_wo_tutorial}\n",
    "]\n",
    "new_list_0 = ['Среднее время между регистрацией и выбором уровня сложности']\n",
    "new_list_1 = ['Среднее время между выбором уровня сложности и выбором тренировок']\n",
    "new_list_2 = ['Среднее время Среднее время между выбором тренировок и оплатой']\n",
    "for group in user_groups:\n",
    "    level = list(group.keys())[0]\n",
    "    group_users = group[level]\n",
    "    purchase_df_slice = purchase_df[purchase_df['user_id'].isin(group_users)]\n",
    "    reg_df = events_df[(events_df['event_type'] == 'registration') & (events_df['user_id'].isin(group_users))]\n",
    "    level_choice_df = events_df[(events_df['event_type'] == 'level_choice') & (events_df['user_id'].isin(group_users))]\n",
    "    training_choice_df = events_df[(events_df['event_type'] == 'training_choice') & (events_df['user_id'].isin(group_users))]    \n",
    "    if (level_choice_df['user_id'].value_counts().mean()) == 1 and (training_choice_df['user_id'].value_counts().mean()) ==1 and (reg_df['user_id'].value_counts().mean()) == 1:\n",
    "        reg_df = reg_df[['user_id','start_time']].rename(columns={'start_time':'registration_time'})\n",
    "        level_choice_df = level_choice_df[['user_id','start_time']].rename(columns={'start_time':'level_choice_time'})\n",
    "        training_choice_df = training_choice_df[['user_id','start_time']].rename(columns={'start_time':'training_choice_time'})\n",
    "        purchase_df_slice = purchase_df_slice[['user_id','start_time']].rename(columns={'start_time':'purchase_time'})\n",
    "        \n",
    "        merged_df_0 =reg_df.merge(level_choice_df, how='inner', on='user_id')\n",
    "        merged_df_0['timedelta'] = merged_df_0['level_choice_time'] - merged_df_0['registration_time']\n",
    "        mean_time_0 = merged_df_0['timedelta'].mean()\n",
    "        \n",
    "        merged_df_1 = training_choice_df.merge(level_choice_df,on='user_id',how='inner')\n",
    "        merged_df_1['timedelta'] = merged_df_1['training_choice_time'] - merged_df_1['level_choice_time']\n",
    "        mean_time_1 = merged_df_1['timedelta'].mean()\n",
    "        \n",
    "        merged_df_2 = purchase_df_slice.merge(training_choice_df,on='user_id',how='inner')\n",
    "        merged_df_2['timedelta'] = merged_df_2['purchase_time'] - merged_df_2['training_choice_time']\n",
    "        mean_time_2 = merged_df_2['timedelta'].mean()\n",
    "        \n",
    "        print ('Для пользователей, которые {}:'.format(level))\n",
    "        print()\n",
    "        print ('Среднее время между временем регистрации и выбором уровня сложности: {} ({} минут)'.format(mean_time_0,round((merged_df_0['timedelta']/pd.Timedelta('1 minute')).mean(),2) ))\n",
    "        new_list_0.append(round((merged_df_0['timedelta']/pd.Timedelta('1 minute')).mean(),2))\n",
    "        print()\n",
    "        print ('Среднее время между выбором уровня сложности и выбором тренировок: {} ({} минут)'.format(mean_time_1, round((merged_df_1['timedelta']/pd.Timedelta('1 minute')).mean(),2)))\n",
    "        new_list_1.append(round((merged_df_1['timedelta']/pd.Timedelta('1 minute')).mean(),2))\n",
    "        print()\n",
    "        print ('Среднее время между выбором тренировок и оплатой: {} ({} часов)'.format( mean_time_2, round( ( merged_df_2['timedelta']/pd.Timedelta('1 hour') ).mean(),2 ) ))\n",
    "        new_list_2.append(round((merged_df_2['timedelta']/pd.Timedelta('1 hour')).mean(),2))\n",
    "        print()\n",
    "        print('----------------------------------------------')\n",
    "        print()\n",
    "    else:\n",
    "        print ('Более 1 события')\n",
    "\n",
    "# Создадим необходимые датафреймы для построения графиков.\n",
    "delta_time_list = []\n",
    "delta_time_list.append(new_list_0)\n",
    "delta_time_list.append(new_list_1)\n",
    "delta_time_list.append(new_list_2)\n",
    "\n",
    "delta_time_df = pd.DataFrame(delta_time_list, columns = ['event_type', 'pass', 'not_pass'])\n",
    "delta_time_df_reg_vs_level = delta_time_df.drop([1,2])\n",
    "delta_time_df_level_vs_choice = delta_time_df.drop([0,2])\n",
    "delta_time_df_choice_vs_purchase = delta_time_df.drop([0,1])\n",
    "\n",
    "# Посчитаем сколько процентов в среднем составляет разница во времени для каждого этапа\n",
    "level_vs_choice = ((delta_time_df['not_pass'][1] - delta_time_df['pass'][1])/delta_time_df['pass'][1] + (delta_time_df['not_pass'][1] - delta_time_df['pass'][1])/delta_time_df['not_pass'][1]) / 2\n",
    "choice_vs_purchase = ((delta_time_df['not_pass'][2] - delta_time_df['pass'][2])/delta_time_df['pass'][2] + (delta_time_df['not_pass'][2] - delta_time_df['pass'][2])/delta_time_df['not_pass'][2]) / 2\n",
    "print( 'Разница во времени между этапом выбора уровня сложности и выбором набора тренировок составляет в среднем {:.2%}'.format(level_vs_choice))\n",
    "print( 'Разница во времени между этапом выбором набора тренировок и оплаты составляет в среднем {:.2%}'.format(choice_vs_purchase))\n"
   ]
  },
  {
   "cell_type": "markdown",
   "metadata": {},
   "source": [
    "### Визуализация к задаче 1"
   ]
  },
  {
   "cell_type": "code",
   "execution_count": null,
   "metadata": {},
   "outputs": [],
   "source": [
    "# Построим столбчатые диаграммы, которые отражают время прохождения различных этапов для пользователей двух наших групп \n",
    "fig, axes = plt.subplots(1, 3, figsize=(21,7))\n",
    "\n",
    "axes[0].set_ylim(0,550)\n",
    "axes[0].set_ylabel('Время, минуты')\n",
    "axes[0].bar(x = delta_time_df_reg_vs_level['event_type'], height = delta_time_df_reg_vs_level['pass'], width = 0.1, align='edge', label = 'прошли обучение')\n",
    "axes[0].bar(x = delta_time_df_reg_vs_level['event_type'], height = delta_time_df_reg_vs_level['not_pass'], width = -0.1, align='edge', label = 'не начинали обучение')\n",
    "axes[0].legend(loc = 1)\n",
    "\n",
    "axes[1].set_ylim(0,8)\n",
    "axes[1].set_ylabel('Время, минуты')\n",
    "axes[1].bar(x = delta_time_df_level_vs_choice['event_type'], height = delta_time_df_level_vs_choice['pass'], width = 0.1, align='edge', label = 'прошли обучение')\n",
    "axes[1].bar(x = delta_time_df_level_vs_choice['event_type'], height = delta_time_df_level_vs_choice['not_pass'], width = -0.1, align='edge', label = 'не начинали обучение')\n",
    "axes[1].legend(loc = 1)\n",
    "\n",
    "axes[2].set_ylim(0,120)\n",
    "axes[2].set_ylabel('Время, часы')\n",
    "axes[2].bar(x = delta_time_df_choice_vs_purchase['event_type'], height = delta_time_df_choice_vs_purchase['pass'], width = 0.1, align='edge', label = 'прошли обучение')\n",
    "axes[2].bar(x = delta_time_df_choice_vs_purchase['event_type'], height = delta_time_df_choice_vs_purchase['not_pass'], width = -0.1, align='edge', label = 'не начинали обучение')\n",
    "axes[2].legend(loc = 1)"
   ]
  },
  {
   "cell_type": "markdown",
   "metadata": {},
   "source": [
    "### Краткие выводы по задаче 1"
   ]
  },
  {
   "cell_type": "markdown",
   "metadata": {},
   "source": [
    "**Первый этап**: между регистрацией и выбором уровня сложности мы видим, что среднее время прохождения данного этапа меньше у тех пользователей, которые не проходили обучение. Скорее всего это связано с тем, что на прохождение обучения затрачивается дополнительное время, поэтому данный этап не подходит для анализа.\n",
    "\n",
    "**Следующий этап**: между выбором уровня сложности и выбором набора тренировок. Здесь мы видим, что среднее время прохождения данного этапа меньше у тех пользователей, которые прошли обучение. Правда разница во времени небольшая (5.52 минуты - 5.16 минут = 0,36 минут, т.е примерно полминуты). В относительных величинах разница составляет примерно 6,75 %  \n",
    "\n",
    "**Последний этап**: между выбором набора тренировок и оплатой. Среднее время прохождения данного этапа также меньше у пользователей, прошедших обучение чем у пользователей, которые обучение не проходили. Разница в среднем составляет около 6 часов в абсолютных значениях. Но так как на данный этап пользователи в среднем тратят более 3-х дней, то в относительных показателях разница получается небольшая (в среднем примерно 6,5%). \n",
    "\n",
    "**Вывод**: прохождение обучения сокращает среднее время прохождения этапов примерно на 6,6 %"
   ]
  },
  {
   "cell_type": "markdown",
   "metadata": {},
   "source": [
    "<a id=\"id_4\"></a>"
   ]
  },
  {
   "cell_type": "markdown",
   "metadata": {},
   "source": [
    "## Задача № 2. Анализ зависимости между вероятностью оплаты тренировки и пройденного обучения"
   ]
  },
  {
   "cell_type": "markdown",
   "metadata": {},
   "source": [
    "### Подготовка  к анализу и проведение расчетов"
   ]
  },
  {
   "cell_type": "code",
   "execution_count": null,
   "metadata": {},
   "outputs": [],
   "source": [
    "# Создадим датафрейм в котором будут содержаться два столбца: user_id и количество обучений, \n",
    "# который данный пользователь совершил. \n",
    "# Посмотрим какое количество обучений совершали наши пользователи.\n",
    "users_with_f_tutorial = events_df[events_df['event_type'] == 'tutorial_finish']\n",
    "users_with_f_tutorial = users_with_f_tutorial['user_id'].value_counts()\n",
    "df_temp = pd.DataFrame({'user_id':users_with_f_tutorial.index, 'count':users_with_f_tutorial.values})\n",
    "df_temp['count'].unique()"
   ]
  },
  {
   "cell_type": "code",
   "execution_count": null,
   "metadata": {},
   "outputs": [],
   "source": [
    "# Итак, наши пользователи, которые проходили обучение, делали это от 1 до 9 раз.\n",
    "# Посчитаем сначала какой процент пользователей оплатили тренировки из числа тех, кто не совершал \n",
    "# обучение. \n",
    "# Затем создадим группы пользователей и для каждой группы посчитаем процент пользователей \n",
    "# оплативших тренировки.\n",
    "# Результат запишем в новый датафрем.\n",
    "purchase_df_2 = purchase_df[purchase_df['user_id'].isin(set_users_wo_tutorial)]\n",
    "purchase_df_2['user_id'].nunique()\n",
    "if (purchase_df_2['user_id'].value_counts().mean()) == 1:\n",
    "    percent_of_purchase_2 = purchase_df_2['user_id'].nunique()/len(set_users_wo_tutorial)\n",
    "    print ('Процент пользователей, оплативших тренировки (от числа пользователей, которые ни разу не начинали обучение): {:.2%}'.format(percent_of_purchase_2))\n",
    "    print()\n",
    "else:\n",
    "    print ('Более 1 события')\n",
    "s = []\n",
    "d = {}\n",
    "d[0] = round(percent_of_purchase_2*100, 2)\n",
    "users_count_list = []\n",
    "users_pay_count_list = []\n",
    "for i in range(1,10):\n",
    "    users_w_tutorials = df_temp[df_temp['count'] == i]['user_id']\n",
    "    set_users_w_tutorials = set(users_w_tutorials)\n",
    "    users_count_list.append(len(set_users_w_tutorials))\n",
    "    purchase_df_t = purchase_df[purchase_df['user_id'].isin(set_users_w_tutorials)]\n",
    "    users_pay_count_list.append(len(purchase_df_t))\n",
    "    percent_of_purchase = purchase_df_t['user_id'].nunique()/len(set_users_w_tutorials)\n",
    "    s.append(percent_of_purchase)\n",
    "    d[i] = round(percent_of_purchase*100, 2)\n",
    "    if 1 < i <= 4:\n",
    "        print ('Процент пользователей, оплативших тренировки (от числа пользователей, завершивших обучение {} раза): {:.2%}'.format(i, percent_of_purchase))\n",
    "        print()\n",
    "    else:    \n",
    "        print ('Процент пользователей, оплативших тренировки (от числа пользователей, завершивших обучение {} раз): {:.2%}'.format(i, percent_of_purchase)) \n",
    "        print()\n",
    "print('В среднем тренировки оплачивают {:.2%} пользователей хотя бы раз прошедших обучение. Доля пользователей, покупающих тренировки, которые ни разу не проходили обучение ничтожно мала и составляет около {:.2%}.'.format(sum(s)/len(s), percent_of_purchase_2))\n",
    "print()\n",
    "print('Количество пользователей, которые проходили обучение хотя бы раз (в порядке возрастания количества обучений: {})'.format(users_count_list))\n",
    "print()\n",
    "print('Количество пользователей, которые оплатили тренировки после пройденного(-ых) обучений (в порядке возрастания количества обучений: {})'.format(users_pay_count_list))\n",
    "df_pers = pd.DataFrame(pd.Series(d), columns=['persent_of_purchase'])"
   ]
  },
  {
   "cell_type": "markdown",
   "metadata": {},
   "source": [
    "### Визуализация к задаче 2"
   ]
  },
  {
   "cell_type": "code",
   "execution_count": null,
   "metadata": {},
   "outputs": [],
   "source": [
    "# Круговая диаграмма показывает процент оплат для группы пользователей в зависимости от \n",
    "# количества законченных обучений.\n",
    "labels = df_pers.index\n",
    "sizes = df_pers['persent_of_purchase']\n",
    "explode = (0.3, 0.2, 0.2, 0.2, 0.2, 0.2, 0.2, 0.2, 0.2, 0.2)\n",
    "fig1, ax1 = plt.subplots()\n",
    "ax1.pie(sizes, explode=explode, labels=labels, labeldistance=1.1, autopct='%2.2f%%',\n",
    "        shadow=False, startangle=180, pctdistance = 0.7, wedgeprops = {'linewidth': 5})\n",
    "ax1.axis('tight')\n",
    "plt.show()"
   ]
  },
  {
   "cell_type": "code",
   "execution_count": null,
   "metadata": {},
   "outputs": [],
   "source": [
    "# Также построим горизонтальную столбчатую диаграмму\n",
    "df_pers['persent_of_purchase'].plot(kind='barh', grid=False, colormap='summer', title='Процент пользователей, оплативших тренировки (по количеству завершенных обучений)')"
   ]
  },
  {
   "cell_type": "code",
   "execution_count": null,
   "metadata": {},
   "outputs": [],
   "source": [
    "# Дополнительно построим линейный график. Он наглядно иллюстрирует линию тренда.\n",
    "# Удалим первую строку в нашем датафрейме, т.к. она содержит информацию о пользователях,\n",
    "# не прошедших обучение.\n",
    "df_pers_1 = df_pers.drop([0])\n",
    "df_pers_1['persent_of_purchase'].plot()"
   ]
  },
  {
   "cell_type": "markdown",
   "metadata": {},
   "source": [
    "### Краткие выводы по задаче 2"
   ]
  },
  {
   "cell_type": "markdown",
   "metadata": {},
   "source": [
    "В результате проведенного исследования, можно сделать следующий вывод: пользователи которые проходили обучение чаще покупают платные тренировки чем пользователи, которые обучения не проходили. В среднем тренировки оплачивают около 15% пользователей, которые проходили обучение хотя бы 1 раз. Доля пользователей, покупающих тренировки, которые ни разу не проходили обучение ничтожно мала и составляет около 0.18%.\n",
    "\n",
    "Рассмотрим зависимость вероятности оплаты тренировки от количества обучений, которые завершил пользователь. В нижеприведенной таблице указаны полученные показатели в ходе исследования:\n",
    "\n",
    "\n",
    "|Количество завершенных обучений|Процент оплативших пользователей|Количество пользователей|\n",
    "|:------:|:------:|:-----:|\n",
    "|1\t  |14.05%|9721 |\n",
    "|2\t  |14.70%|1599|\n",
    "|3\t  |15.81%| 430|\n",
    "|4\t  |14.72%|231|\n",
    "|5    |13.25%|166|\n",
    "|7    |12.70%|126|\n",
    "|8\t  |15.38%| 65|\n",
    "|9\t  |18.52%| 27|\n",
    "\n",
    "\n",
    "Проанализировав полученные результаты, мы видим, что несмотря на то, что, хотя процентное соотношение пользователей изменяется с увеличением количества завершенных обучений, сделать однозначно сказать, что с увеличением количества завершенных обучений возрастает вероятность оплаты. В целом изменения составляют ± 2-3% что находится в пределах статистической погрешности. Также мы видим, что очень малая часть пользователей совершает повторные обучения. Например, если одно обучение завершили почти 10 тыс. пользователей, то 9 обучений прошли только 27. Имея подобные аномалии в данных невозможно достоверно подтвердить гипотезу о том, что с ростом количества обучений возрастает вероятность оплаты."
   ]
  },
  {
   "cell_type": "markdown",
   "metadata": {},
   "source": [
    "<a id=\"id_5\"></a>"
   ]
  },
  {
   "cell_type": "markdown",
   "metadata": {},
   "source": [
    "## Дополнительная задача. Анализ поведения пользователей"
   ]
  },
  {
   "cell_type": "markdown",
   "metadata": {},
   "source": [
    "### Подготовка  к анализу и проведение расчетов"
   ]
  },
  {
   "cell_type": "code",
   "execution_count": null,
   "metadata": {},
   "outputs": [],
   "source": [
    "# Подготовим датафрейм с оплатами для объединения с датафреймом с событиями.\n",
    "# Для этого создадим новый столбец 'event_type' со значением 'purchase'\n",
    "# Столбец 'id' переименуем в 'purchase_id'.\n",
    "# Проверим что все было выполнено правильно, для этого отобразим первые 5 строк датафрейма\n",
    "purchase_df['event_type'] = 'purchase'\n",
    "purchase_df = purchase_df.rename(columns={'id':'purchase_id'})\n",
    "purchase_df.head(5)"
   ]
  },
  {
   "cell_type": "code",
   "execution_count": null,
   "metadata": {},
   "outputs": [],
   "source": [
    "# В датафрейме с событиями также изменим название столбца 'id' на 'event_id'\n",
    "events_df = events_df.rename(columns={'id':'event_id'})\n",
    "events_df.head(5)"
   ]
  },
  {
   "cell_type": "code",
   "execution_count": null,
   "metadata": {},
   "outputs": [],
   "source": [
    "# Объединим два датафрейма в один. В новом датафрейме сбросим индексы (т.к. они могли дублироваться и\n",
    "# могут быть неактуальны), также отсортируем датафрейм по столбцу 'start_time'\n",
    "# для проверки корректности объединения выведем первые 10 строк нового датафрейма.\n",
    "total_df = pd.concat([events_df, purchase_df], sort=False)\n",
    "total_df = total_df.reset_index(drop=True).sort_values('start_time')\n",
    "total_df.head(10)"
   ]
  },
  {
   "cell_type": "code",
   "execution_count": null,
   "metadata": {},
   "outputs": [],
   "source": [
    "# Для каждого пользователя создадим список этапов, которые прошел данный пользователь.\n",
    "# Для этого сгруппируем датафрейм по столбцу 'user_id' и применим функцию apply()\n",
    "# Результат запишем в новый датафрейм user_path_df\n",
    "user_path_df = total_df.groupby(['user_id'])['event_type'].apply(list).reset_index()\n",
    "user_path_df"
   ]
  },
  {
   "cell_type": "code",
   "execution_count": null,
   "metadata": {
    "scrolled": true
   },
   "outputs": [],
   "source": [
    "# Преобразуем список этапов в строку, т.к. поиск значений по спискам может занять некоторое время.\n",
    "# Преобразование выполним с помощью функции apply(), аргументом которой передадим функцию, \n",
    "# которая преобразует список в строку. Для разделения этапов добавим знак '>' после каждого этапа\n",
    "# Также для удобства переименуем столбец 'event_type' в 'event_path'\n",
    "user_path_df['event_path'] = user_path_df['event_type'].apply(lambda x: '>'.join(x))\n",
    "user_path_df"
   ]
  },
  {
   "cell_type": "code",
   "execution_count": null,
   "metadata": {},
   "outputs": [],
   "source": [
    "# Сгруппируем датафрейм по столбцу 'event_path' для получения списка путей, по которым проходили пользователи.\n",
    "# Для каждого уникального значения посчитаем количество уникальных пользователей\n",
    "# Результат отсортируем по убыванию количества пользователей и запишем в переменную user_paths.\n",
    "user_paths = user_path_df.groupby(['event_path'])['user_id'].nunique().sort_values(ascending=False)\n",
    "user_paths"
   ]
  },
  {
   "cell_type": "code",
   "execution_count": null,
   "metadata": {},
   "outputs": [],
   "source": [
    "# Посчитаем количество уникальных пользователей у которых имеется последовательность 'level_choice>tutorial_start'.\n",
    "# Также посчитаем какую долю составляют эти пользователи от общего количества пользователей\n",
    "persent_of_users = user_paths[user_paths.index.str.contains('level_choice>tutorial_start')].sum()/total_df['user_id'].nunique()\n",
    "print('Количество пользователей, которые возвращаются к обучению после выбора уровня сложности: {}'.format(user_paths[user_paths.index.str.contains('level_choice>tutorial_start')].sum()))\n",
    "print()\n",
    "print('Доля таких пользователей от общего количества пользователей: {:.2%}'.format(persent_of_users))"
   ]
  },
  {
   "cell_type": "markdown",
   "metadata": {},
   "source": [
    "### Краткие выводы по дополнительной задаче"
   ]
  },
  {
   "cell_type": "markdown",
   "metadata": {},
   "source": [
    "Вывод: только около 2,5 % пользователей возвращаются к обучению после выбора уровня сложности"
   ]
  },
  {
   "cell_type": "markdown",
   "metadata": {},
   "source": [
    "<a id=\"id_6\"></a>"
   ]
  },
  {
   "cell_type": "markdown",
   "metadata": {},
   "source": [
    "## Выводы"
   ]
  },
  {
   "cell_type": "markdown",
   "metadata": {},
   "source": [
    "### Задача № 1. Анализ времени прохождения различных этапов\n",
    "\n",
    "Наша задача состоит в том, чтобы на основе проведенного анализа определить:\n",
    "\n",
    "1. отличается ли время прохождения различных этапов для пользователей, которые прошли обучение, от пользователей, не начинавших обучение? \n",
    "2. Насколько обучение сокращает время прохождения этапов?\n",
    "\n",
    "Для этого разделим наших пользователей на 2 группы:\n",
    " 1. Пользователи, которые прошли обучение;\n",
    " 2. Пользователи, которые не проходили обучение, а сразу перешли к выбору уровня сложности. \n",
    "\n",
    "Затем мы разделим путь, который проходят пользователи от момента регистрации до момента оплаты на 3 основных этапа и определим для каждой группы пользователей среднее время прохождения каждого из этапов.\n",
    "\n",
    "**Первый этап**: между регистрацией и выбором уровня сложности. Проанализировав данные можно увидеть, что среднее время прохождения данного этапа меньше у тех пользователей, которые не проходили обучение. Скорее всего это связано с тем, что на прохождение обучения затрачивается дополнительное время, поэтому данный этап не подходит для анализа.\n",
    "\n",
    "**Следующий этап**: между выбором уровня сложности и выбором набора тренировок. Здесь мы видим, что среднее время прохождения данного этапа меньше у тех пользователей, которые прошли обучение. Правда разница во времени небольшая (5.52 минуты - 5.16 минут = 0,36 минут, т.е. примерно полминуты). В относительных величинах разница составляет примерно 6,75 %\n",
    "\n",
    "**Последний этап**: между выбором набора тренировок и оплатой. Среднее время прохождения данного этапа также меньше у пользователей, прошедших обучение чем у пользователей, которые обучение не проходили. Разница в среднем составляет около 6 часов в абсолютных значениях. Но так как на данный этап пользователи в среднем тратят более 3-х дней, то в относительных показателях разница получается небольшая (в среднем примерно 6,5%).\n",
    "\n",
    "***Подводя итоги можно сделать следующие выводы***:\n",
    "1. Среднее время прохождения различных этапов для пользователей, прошедших обучение, отличается от времени для пользователей, не прошедших обучение;\n",
    "2. Пользователи, прошедшие обучение, проходят этапы в среднем на 6,6% быстрее, чем пользователи, которые обучение не проходили."
   ]
  },
  {
   "cell_type": "markdown",
   "metadata": {},
   "source": [
    "### Задача № 2. Анализ зависимости между вероятностью оплаты тренировки и пройденного обучения\n",
    "\n",
    "Наша задача состоит в том, чтобы на основании анализа данных определить существует ли зависимость между количеством обучений, которые проходил пользователь и вероятностью оплаты.\n",
    "\n",
    "Для этого, вначале определим, какое количество обучений проходят наши пользователи. Затем мы разобьем наших пользователей на группы, соответствующие количеству обучений, прошедших пользователем. Пользователей, которые обучение не проходили мы запишем в отдельную группу. После этого для каждой группы рассчитаем процент оплат.\n",
    "\n",
    "В нижеприведенной таблице указаны полученные показатели в ходе исследования:\n",
    "\n",
    "\n",
    "|Количество завершенных обучений|Процент оплативших пользователей|Количество пользователей|\n",
    "|:------:|:------:|:-----:|\n",
    "|0    |0.18% |18|\n",
    "|1\t  |14.05%|9721 |\n",
    "|2\t  |14.70%|1599|\n",
    "|3\t  |15.81%| 430|\n",
    "|4\t  |14.72%|231|\n",
    "|5    |13.25%|166|\n",
    "|7    |12.70%|126|\n",
    "|8\t  |15.38%| 65|\n",
    "|9\t  |18.52%| 27|\n",
    "\n",
    "\n",
    "В результате проведенного исследования, можно сделать следующий вывод: пользователи которые проходили обучение чаще покупают платные тренировки чем пользователи, которые обучения не проходили. В среднем тренировки оплачивают около 15% пользователей, которые проходили обучение хотя бы 1 раз. Доля пользователей, покупающих тренировки, которые ни разу не проходили обучение ничтожно мала и составляет около 0.18%.\n",
    "\n",
    "Рассмотрим зависимость вероятности оплаты тренировки от количества обучений, которые завершил пользователь.\n",
    "\n",
    "Проанализировав полученные результаты, мы видим, что несмотря на то, что, хотя процентное соотношение пользователей изменяется с увеличением количества завершенных обучений, сделать однозначно сказать, что с увеличением количества завершенных обучений возрастает вероятность оплаты. В целом изменения составляют ± 2-3% что находится в пределах статистической погрешности. Также мы видим, что очень малая часть пользователей совершает повторные обучения. Например, если одно обучение завершили почти 10 тыс. пользователей, то 9 обучений прошли только 27. Имея подобные аномалии в данных невозможно достоверно подтвердить гипотезу о том, что с ростом количества обучений возрастает вероятность оплаты.\n",
    "\n",
    "***Подводя итоги можно сделать следующие выводы***:\n",
    "1. Чаще всего покупают платные тренировки пользователи, прошедшие хотя бы одно обучение чем пользователи, которые обучение не проходили;\n",
    "2. Вероятность оплаты обучения не зависит от количества тренировок, которые прошел пользователь\n",
    " "
   ]
  },
  {
   "cell_type": "markdown",
   "metadata": {},
   "source": [
    "### Дополнительная задача. Анализ поведения пользователей\n",
    "\n",
    "В рамках данной задачи необходимо проверить как часто пользователи начинают обучение после выбора уровня сложности тренировок.\n",
    "\n",
    "Для этого мы объединим датафрейм с событиями и датафрейм с оплатами. Затем на основе объединённого датафрейма мы для каждого пользователя простроим путь, по которому прошел пользователь. Затем, сгруппировав пути мы получим количество пользователей, которые проходили данный путь. Нам останется найти при помощи поиска нужную последовательность событий (**level_choice -> tutorial_start**) и мы получим количество пользователей, которые возвращались к обучению после выбора уровня сложности.\n",
    "\n",
    "произведя необходимые вычисления, мы получим следующие значения:\n",
    "\n",
    "\n",
    "- Количество пользователей, которые возвращаются к обучению после выбора уровня сложности: 601\n",
    "- Доля таких пользователей от общего количества пользователей: 2.46%\n",
    "\n",
    "***Подводя итоги можно сделать следующие выводы***\n",
    "1. Только около 2,5% пользователей возвращаются к обучению после выбора уровня сложности тренировок. \n"
   ]
  }
 ],
 "metadata": {
  "kernelspec": {
   "display_name": "Python 3",
   "language": "python",
   "name": "python3"
  },
  "language_info": {
   "codemirror_mode": {
    "name": "ipython",
    "version": 3
   },
   "file_extension": ".py",
   "mimetype": "text/x-python",
   "name": "python",
   "nbconvert_exporter": "python",
   "pygments_lexer": "ipython3",
   "version": "3.7.6"
  }
 },
 "nbformat": 4,
 "nbformat_minor": 4
}
